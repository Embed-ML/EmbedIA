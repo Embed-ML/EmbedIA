{
  "nbformat": 4,
  "nbformat_minor": 0,
  "metadata": {
    "colab": {
      "name": "Using EmbedIA.ipynb",
      "provenance": [],
      "collapsed_sections": []
    },
    "kernelspec": {
      "name": "python3",
      "display_name": "Python 3"
    },
    "language_info": {
      "name": "python"
    }
  },
  "cells": [
    {
      "cell_type": "markdown",
      "source": [
        "<div align=\"left\">\n",
        "  <h1>EmbedIA</h1>\n",
        "  <p>EmbedIA is a machine learning framework for developing applications on microcontrollers.</p>\n",
        "</div>"
      ],
      "metadata": {
        "id": "bt0VLZYvwmfD"
      }
    },
    {
      "cell_type": "markdown",
      "source": [
        "## Import framework from Github"
      ],
      "metadata": {
        "id": "P9zpfPkcxbtd"
      }
    },
    {
      "cell_type": "code",
      "execution_count": 14,
      "metadata": {
        "colab": {
          "base_uri": "https://localhost:8080/"
        },
        "id": "6LT3-lW8o_vt",
        "outputId": "9b0dfa51-ecc8-46e1-8104-93627e09905b"
      },
      "outputs": [
        {
          "output_type": "stream",
          "name": "stdout",
          "text": [
            "Cloning into 'EmbedIA'...\n",
            "remote: Enumerating objects: 84, done.\u001b[K\n",
            "remote: Counting objects: 100% (84/84), done.\u001b[K\n",
            "remote: Compressing objects: 100% (58/58), done.\u001b[K\n",
            "remote: Total 84 (delta 24), reused 81 (delta 24), pack-reused 0\u001b[K\n",
            "Unpacking objects: 100% (84/84), done.\n"
          ]
        }
      ],
      "source": [
        "!git clone https://github.com/Embed-ML/EmbedIA.git"
      ]
    },
    {
      "cell_type": "code",
      "source": [
        "%cd EmbedIA"
      ],
      "metadata": {
        "colab": {
          "base_uri": "https://localhost:8080/"
        },
        "id": "J9uOnWBJtr0p",
        "outputId": "985d7ee6-5380-4484-a578-ffff2f51a32b"
      },
      "execution_count": 15,
      "outputs": [
        {
          "output_type": "stream",
          "name": "stdout",
          "text": [
            "/content/EmbedIA\n"
          ]
        }
      ]
    },
    {
      "cell_type": "markdown",
      "source": [
        "## Load dataset "
      ],
      "metadata": {
        "id": "QuRohaVQYgyR"
      }
    },
    {
      "cell_type": "code",
      "source": [
        "import numpy as np\n",
        "from sklearn.datasets import load_digits\n",
        "from sklearn.model_selection import train_test_split\n",
        "\n",
        "# 0 to not apply normalization\n",
        "# 1 for normalization [-0.5, 0.5], \n",
        "# 2 for normalization z score, \n",
        "_normalize = 2 \n",
        "\n",
        "def normalization0dot5(x):\n",
        "    '''\n",
        "        Normalization of values in the range [-0.5; 0.5]\n",
        "        Params:\n",
        "            x: numpy array to be normalized\n",
        "        Return:\n",
        "            x: normalized numpy array\n",
        "    '''\n",
        "    x = x/np.max(x)\n",
        "    x = x-0.5\n",
        "    return x\n",
        "\n",
        "def z_score(X_train, x_test):\n",
        "    '''\n",
        "        Normalization z score, uses mean and standard deviation of train vector\n",
        "        Params:\n",
        "            X_train: array of train numpy to be normalized\n",
        "            x_test: array of test numpy to be normalized\n",
        "        Return:\n",
        "            x_train, x_test: normalized numpy vectors\n",
        "    '''\n",
        "    x_mean= np.mean(X_train)\n",
        "    x_std= np.std(X_train)\n",
        "    \n",
        "    x_train= (X_train-x_mean)/x_std\n",
        "    x_test= (x_test-x_mean)/x_std\n",
        "    return x_train, x_test\n",
        "\n",
        "def load_dataset(_normalize):\n",
        "    '''\n",
        "        Load the sklearn digits dataset, applying the indicated normalization.\n",
        "        Params:\n",
        "            _normalize: normalization to be applied\n",
        "        Return:\n",
        "           X_train, X_test: training set\n",
        "           y_train, y_test: test set\n",
        "    '''\n",
        "\n",
        "    digits = load_digits()\n",
        "    \n",
        "    if _normalize == 1:\n",
        "        digits.images = normalization0dot5(digits.images)\n",
        "\n",
        "    X_train, X_test, y_train, y_test = train_test_split(digits.images , digits.target, test_size=0.2, shuffle=True)\n",
        "    X_train = X_train.reshape(X_train.shape[0], X_train.shape[1], X_train.shape[2], 1)\n",
        "    X_test = X_test.reshape(X_test.shape[0], X_test.shape[1], X_test.shape[2], 1)\n",
        "\n",
        "    if _normalize == 2:\n",
        "        X_train, X_test = z_score(X_train, X_test)\n",
        "\n",
        "    return X_train, X_test, y_train, y_test\n",
        "\n",
        "x_train, x_test, y_train, y_test = load_dataset(_normalize)\n",
        "\n",
        "print('x_train.shape', x_train.shape)\n",
        "print('x_test.shape', x_test.shape)"
      ],
      "metadata": {
        "colab": {
          "base_uri": "https://localhost:8080/"
        },
        "id": "MOZh360UZMYR",
        "outputId": "6543b31e-8c4a-4778-8557-f4cf69837d31"
      },
      "execution_count": 3,
      "outputs": [
        {
          "output_type": "stream",
          "name": "stdout",
          "text": [
            "x_train.shape (1437, 8, 8, 1)\n",
            "x_test.shape (360, 8, 8, 1)\n"
          ]
        }
      ]
    },
    {
      "cell_type": "markdown",
      "source": [
        "## Creating and training a CNN model"
      ],
      "metadata": {
        "id": "OmUZiTEGcADx"
      }
    },
    {
      "cell_type": "code",
      "source": [
        "from tensorflow.keras.models import Sequential\n",
        "from tensorflow.keras.layers import Conv2D, MaxPooling2D, Flatten, Dense, AveragePooling2D, BatchNormalization\n",
        "\n",
        "def create_model(x_train, y_train, y_test):\n",
        "    '''\n",
        "        Create a model\n",
        "        Input parameters:\n",
        "            x_train: training data\n",
        "            y_train, y_test: labels of the data involved (including test data)\n",
        "\n",
        "        return\n",
        "            model: sequential layers model\n",
        "    '''\n",
        "    classes = max(y_test.max(),y_train.max())+1\n",
        "\n",
        "    model = Sequential(name=\"EmbedIA_model\")\n",
        "\n",
        "    model.add(Conv2D(8, kernel_size=(3, 3), input_shape=x_train[0].shape,activation='relu'))\n",
        "    model.add(MaxPooling2D(pool_size=(2, 2)))\n",
        "    model.add(Conv2D(16, kernel_size=(2, 2),activation='relu'))\n",
        "\n",
        "    model.add(Flatten())\n",
        "    model.add(Dense(16,activation='relu'))\n",
        "    model.add(Dense(classes,activation='softmax'))\n",
        "\n",
        "    model.compile(optimizer='adam', \n",
        "                    loss='sparse_categorical_crossentropy', \n",
        "                    metrics=['acc'])\n",
        "    return model\n",
        "\n",
        "model = create_model(x_train, y_train, y_test)\n",
        "model.summary()"
      ],
      "metadata": {
        "colab": {
          "base_uri": "https://localhost:8080/"
        },
        "id": "3b7ZtwtOcXqq",
        "outputId": "e681ac25-4a3d-4e5f-9844-6147e61d42fc"
      },
      "execution_count": 10,
      "outputs": [
        {
          "output_type": "stream",
          "name": "stdout",
          "text": [
            "Model: \"EmbedIA_model\"\n",
            "_________________________________________________________________\n",
            " Layer (type)                Output Shape              Param #   \n",
            "=================================================================\n",
            " conv2d_9 (Conv2D)           (None, 6, 6, 8)           80        \n",
            "                                                                 \n",
            " max_pooling2d_5 (MaxPooling  (None, 3, 3, 8)          0         \n",
            " 2D)                                                             \n",
            "                                                                 \n",
            " conv2d_10 (Conv2D)          (None, 2, 2, 16)          528       \n",
            "                                                                 \n",
            " flatten_2 (Flatten)         (None, 64)                0         \n",
            "                                                                 \n",
            " dense_6 (Dense)             (None, 16)                1040      \n",
            "                                                                 \n",
            " dense_7 (Dense)             (None, 10)                170       \n",
            "                                                                 \n",
            "=================================================================\n",
            "Total params: 1,818\n",
            "Trainable params: 1,818\n",
            "Non-trainable params: 0\n",
            "_________________________________________________________________\n"
          ]
        }
      ]
    },
    {
      "cell_type": "markdown",
      "source": [
        "### Training"
      ],
      "metadata": {
        "id": "8dNA75Qmc0zx"
      }
    },
    {
      "cell_type": "code",
      "source": [
        "epocas = 120\n",
        "lote = 32\n",
        "\n",
        "history = model.fit(x_train, y_train, epochs=epocas, batch_size=lote, validation_data=(x_test, y_test))"
      ],
      "metadata": {
        "colab": {
          "base_uri": "https://localhost:8080/"
        },
        "id": "dyyEsZKpco9z",
        "outputId": "09cdb596-9455-4fa5-c2fe-acd701573eeb"
      },
      "execution_count": 11,
      "outputs": [
        {
          "output_type": "stream",
          "name": "stdout",
          "text": [
            "Epoch 1/120\n",
            "45/45 [==============================] - 1s 7ms/step - loss: 2.1548 - acc: 0.3222 - val_loss: 1.9750 - val_acc: 0.4972\n",
            "Epoch 2/120\n",
            "45/45 [==============================] - 0s 4ms/step - loss: 1.7577 - acc: 0.5588 - val_loss: 1.4813 - val_acc: 0.6278\n",
            "Epoch 3/120\n",
            "45/45 [==============================] - 0s 3ms/step - loss: 1.1798 - acc: 0.7293 - val_loss: 0.9258 - val_acc: 0.7889\n",
            "Epoch 4/120\n",
            "45/45 [==============================] - 0s 3ms/step - loss: 0.7112 - acc: 0.8399 - val_loss: 0.6468 - val_acc: 0.8472\n",
            "Epoch 5/120\n",
            "45/45 [==============================] - 0s 3ms/step - loss: 0.4779 - acc: 0.8921 - val_loss: 0.5015 - val_acc: 0.8750\n",
            "Epoch 6/120\n",
            "45/45 [==============================] - 0s 3ms/step - loss: 0.3630 - acc: 0.9144 - val_loss: 0.4212 - val_acc: 0.9000\n",
            "Epoch 7/120\n",
            "45/45 [==============================] - 0s 3ms/step - loss: 0.2965 - acc: 0.9214 - val_loss: 0.3879 - val_acc: 0.8972\n",
            "Epoch 8/120\n",
            "45/45 [==============================] - 0s 4ms/step - loss: 0.2460 - acc: 0.9360 - val_loss: 0.3129 - val_acc: 0.9222\n",
            "Epoch 9/120\n",
            "45/45 [==============================] - 0s 4ms/step - loss: 0.2080 - acc: 0.9492 - val_loss: 0.2790 - val_acc: 0.9222\n",
            "Epoch 10/120\n",
            "45/45 [==============================] - 0s 4ms/step - loss: 0.1828 - acc: 0.9513 - val_loss: 0.2516 - val_acc: 0.9278\n",
            "Epoch 11/120\n",
            "45/45 [==============================] - 0s 4ms/step - loss: 0.1599 - acc: 0.9603 - val_loss: 0.2643 - val_acc: 0.9194\n",
            "Epoch 12/120\n",
            "45/45 [==============================] - 0s 3ms/step - loss: 0.1462 - acc: 0.9576 - val_loss: 0.2088 - val_acc: 0.9333\n",
            "Epoch 13/120\n",
            "45/45 [==============================] - 0s 5ms/step - loss: 0.1296 - acc: 0.9659 - val_loss: 0.2108 - val_acc: 0.9306\n",
            "Epoch 14/120\n",
            "45/45 [==============================] - 0s 4ms/step - loss: 0.1157 - acc: 0.9715 - val_loss: 0.2064 - val_acc: 0.9333\n",
            "Epoch 15/120\n",
            "45/45 [==============================] - 0s 4ms/step - loss: 0.1070 - acc: 0.9715 - val_loss: 0.1934 - val_acc: 0.9222\n",
            "Epoch 16/120\n",
            "45/45 [==============================] - 0s 3ms/step - loss: 0.1031 - acc: 0.9763 - val_loss: 0.1759 - val_acc: 0.9472\n",
            "Epoch 17/120\n",
            "45/45 [==============================] - 0s 4ms/step - loss: 0.0941 - acc: 0.9763 - val_loss: 0.1757 - val_acc: 0.9472\n",
            "Epoch 18/120\n",
            "45/45 [==============================] - 0s 4ms/step - loss: 0.0877 - acc: 0.9798 - val_loss: 0.1552 - val_acc: 0.9472\n",
            "Epoch 19/120\n",
            "45/45 [==============================] - 0s 4ms/step - loss: 0.0803 - acc: 0.9840 - val_loss: 0.1525 - val_acc: 0.9556\n",
            "Epoch 20/120\n",
            "45/45 [==============================] - 0s 4ms/step - loss: 0.0758 - acc: 0.9840 - val_loss: 0.1402 - val_acc: 0.9611\n",
            "Epoch 21/120\n",
            "45/45 [==============================] - 0s 4ms/step - loss: 0.0784 - acc: 0.9784 - val_loss: 0.1375 - val_acc: 0.9556\n",
            "Epoch 22/120\n",
            "45/45 [==============================] - 0s 4ms/step - loss: 0.0661 - acc: 0.9840 - val_loss: 0.1300 - val_acc: 0.9556\n",
            "Epoch 23/120\n",
            "45/45 [==============================] - 0s 4ms/step - loss: 0.0599 - acc: 0.9854 - val_loss: 0.1406 - val_acc: 0.9611\n",
            "Epoch 24/120\n",
            "45/45 [==============================] - 0s 4ms/step - loss: 0.0584 - acc: 0.9854 - val_loss: 0.1311 - val_acc: 0.9528\n",
            "Epoch 25/120\n",
            "45/45 [==============================] - 0s 4ms/step - loss: 0.0552 - acc: 0.9896 - val_loss: 0.1390 - val_acc: 0.9583\n",
            "Epoch 26/120\n",
            "45/45 [==============================] - 0s 4ms/step - loss: 0.0528 - acc: 0.9889 - val_loss: 0.1228 - val_acc: 0.9556\n",
            "Epoch 27/120\n",
            "45/45 [==============================] - 0s 3ms/step - loss: 0.0520 - acc: 0.9889 - val_loss: 0.1356 - val_acc: 0.9556\n",
            "Epoch 28/120\n",
            "45/45 [==============================] - 0s 3ms/step - loss: 0.0493 - acc: 0.9882 - val_loss: 0.1211 - val_acc: 0.9639\n",
            "Epoch 29/120\n",
            "45/45 [==============================] - 0s 3ms/step - loss: 0.0453 - acc: 0.9910 - val_loss: 0.1393 - val_acc: 0.9583\n",
            "Epoch 30/120\n",
            "45/45 [==============================] - 0s 4ms/step - loss: 0.0440 - acc: 0.9889 - val_loss: 0.1169 - val_acc: 0.9667\n",
            "Epoch 31/120\n",
            "45/45 [==============================] - 0s 5ms/step - loss: 0.0394 - acc: 0.9923 - val_loss: 0.1223 - val_acc: 0.9667\n",
            "Epoch 32/120\n",
            "45/45 [==============================] - 0s 4ms/step - loss: 0.0397 - acc: 0.9930 - val_loss: 0.1181 - val_acc: 0.9667\n",
            "Epoch 33/120\n",
            "45/45 [==============================] - 0s 4ms/step - loss: 0.0357 - acc: 0.9923 - val_loss: 0.1160 - val_acc: 0.9611\n",
            "Epoch 34/120\n",
            "45/45 [==============================] - 0s 4ms/step - loss: 0.0338 - acc: 0.9944 - val_loss: 0.1129 - val_acc: 0.9639\n",
            "Epoch 35/120\n",
            "45/45 [==============================] - 0s 3ms/step - loss: 0.0362 - acc: 0.9951 - val_loss: 0.1216 - val_acc: 0.9639\n",
            "Epoch 36/120\n",
            "45/45 [==============================] - 0s 3ms/step - loss: 0.0312 - acc: 0.9965 - val_loss: 0.1117 - val_acc: 0.9667\n",
            "Epoch 37/120\n",
            "45/45 [==============================] - 0s 3ms/step - loss: 0.0293 - acc: 0.9958 - val_loss: 0.1220 - val_acc: 0.9556\n",
            "Epoch 38/120\n",
            "45/45 [==============================] - 0s 4ms/step - loss: 0.0283 - acc: 0.9951 - val_loss: 0.1114 - val_acc: 0.9667\n",
            "Epoch 39/120\n",
            "45/45 [==============================] - 0s 4ms/step - loss: 0.0264 - acc: 0.9979 - val_loss: 0.1089 - val_acc: 0.9694\n",
            "Epoch 40/120\n",
            "45/45 [==============================] - 0s 4ms/step - loss: 0.0270 - acc: 0.9986 - val_loss: 0.1096 - val_acc: 0.9611\n",
            "Epoch 41/120\n",
            "45/45 [==============================] - 0s 4ms/step - loss: 0.0232 - acc: 0.9965 - val_loss: 0.1087 - val_acc: 0.9694\n",
            "Epoch 42/120\n",
            "45/45 [==============================] - 0s 4ms/step - loss: 0.0238 - acc: 0.9965 - val_loss: 0.1083 - val_acc: 0.9694\n",
            "Epoch 43/120\n",
            "45/45 [==============================] - 0s 3ms/step - loss: 0.0213 - acc: 0.9986 - val_loss: 0.1028 - val_acc: 0.9722\n",
            "Epoch 44/120\n",
            "45/45 [==============================] - 0s 4ms/step - loss: 0.0199 - acc: 0.9986 - val_loss: 0.1107 - val_acc: 0.9667\n",
            "Epoch 45/120\n",
            "45/45 [==============================] - 0s 3ms/step - loss: 0.0215 - acc: 0.9951 - val_loss: 0.1171 - val_acc: 0.9694\n",
            "Epoch 46/120\n",
            "45/45 [==============================] - 0s 4ms/step - loss: 0.0185 - acc: 0.9979 - val_loss: 0.1141 - val_acc: 0.9639\n",
            "Epoch 47/120\n",
            "45/45 [==============================] - 0s 4ms/step - loss: 0.0223 - acc: 0.9958 - val_loss: 0.1090 - val_acc: 0.9667\n",
            "Epoch 48/120\n",
            "45/45 [==============================] - 0s 3ms/step - loss: 0.0186 - acc: 0.9986 - val_loss: 0.1086 - val_acc: 0.9639\n",
            "Epoch 49/120\n",
            "45/45 [==============================] - 0s 4ms/step - loss: 0.0191 - acc: 0.9972 - val_loss: 0.1019 - val_acc: 0.9694\n",
            "Epoch 50/120\n",
            "45/45 [==============================] - 0s 4ms/step - loss: 0.0163 - acc: 0.9986 - val_loss: 0.1156 - val_acc: 0.9639\n",
            "Epoch 51/120\n",
            "45/45 [==============================] - 0s 3ms/step - loss: 0.0159 - acc: 0.9986 - val_loss: 0.1080 - val_acc: 0.9639\n",
            "Epoch 52/120\n",
            "45/45 [==============================] - 0s 4ms/step - loss: 0.0142 - acc: 0.9986 - val_loss: 0.1006 - val_acc: 0.9750\n",
            "Epoch 53/120\n",
            "45/45 [==============================] - 0s 3ms/step - loss: 0.0153 - acc: 0.9986 - val_loss: 0.1058 - val_acc: 0.9667\n",
            "Epoch 54/120\n",
            "45/45 [==============================] - 0s 4ms/step - loss: 0.0129 - acc: 0.9986 - val_loss: 0.1101 - val_acc: 0.9667\n",
            "Epoch 55/120\n",
            "45/45 [==============================] - 0s 4ms/step - loss: 0.0119 - acc: 0.9986 - val_loss: 0.1082 - val_acc: 0.9639\n",
            "Epoch 56/120\n",
            "45/45 [==============================] - 0s 4ms/step - loss: 0.0107 - acc: 0.9993 - val_loss: 0.1184 - val_acc: 0.9611\n",
            "Epoch 57/120\n",
            "45/45 [==============================] - 0s 4ms/step - loss: 0.0125 - acc: 0.9986 - val_loss: 0.1126 - val_acc: 0.9667\n",
            "Epoch 58/120\n",
            "45/45 [==============================] - 0s 4ms/step - loss: 0.0112 - acc: 1.0000 - val_loss: 0.1058 - val_acc: 0.9667\n",
            "Epoch 59/120\n",
            "45/45 [==============================] - 0s 3ms/step - loss: 0.0119 - acc: 0.9979 - val_loss: 0.1090 - val_acc: 0.9667\n",
            "Epoch 60/120\n",
            "45/45 [==============================] - 0s 4ms/step - loss: 0.0110 - acc: 0.9993 - val_loss: 0.1155 - val_acc: 0.9667\n",
            "Epoch 61/120\n",
            "45/45 [==============================] - 0s 4ms/step - loss: 0.0112 - acc: 0.9993 - val_loss: 0.1071 - val_acc: 0.9639\n",
            "Epoch 62/120\n",
            "45/45 [==============================] - 0s 4ms/step - loss: 0.0094 - acc: 0.9993 - val_loss: 0.1021 - val_acc: 0.9722\n",
            "Epoch 63/120\n",
            "45/45 [==============================] - 0s 4ms/step - loss: 0.0090 - acc: 0.9986 - val_loss: 0.1034 - val_acc: 0.9694\n",
            "Epoch 64/120\n",
            "45/45 [==============================] - 0s 3ms/step - loss: 0.0094 - acc: 0.9986 - val_loss: 0.1146 - val_acc: 0.9639\n",
            "Epoch 65/120\n",
            "45/45 [==============================] - 0s 3ms/step - loss: 0.0084 - acc: 0.9993 - val_loss: 0.1048 - val_acc: 0.9667\n",
            "Epoch 66/120\n",
            "45/45 [==============================] - 0s 4ms/step - loss: 0.0080 - acc: 0.9993 - val_loss: 0.1135 - val_acc: 0.9722\n",
            "Epoch 67/120\n",
            "45/45 [==============================] - 0s 4ms/step - loss: 0.0084 - acc: 0.9993 - val_loss: 0.1126 - val_acc: 0.9722\n",
            "Epoch 68/120\n",
            "45/45 [==============================] - 0s 4ms/step - loss: 0.0064 - acc: 0.9993 - val_loss: 0.1053 - val_acc: 0.9750\n",
            "Epoch 69/120\n",
            "45/45 [==============================] - 0s 4ms/step - loss: 0.0067 - acc: 0.9986 - val_loss: 0.1064 - val_acc: 0.9722\n",
            "Epoch 70/120\n",
            "45/45 [==============================] - 0s 4ms/step - loss: 0.0062 - acc: 1.0000 - val_loss: 0.1063 - val_acc: 0.9722\n",
            "Epoch 71/120\n",
            "45/45 [==============================] - 0s 4ms/step - loss: 0.0059 - acc: 0.9993 - val_loss: 0.1102 - val_acc: 0.9722\n",
            "Epoch 72/120\n",
            "45/45 [==============================] - 0s 4ms/step - loss: 0.0055 - acc: 1.0000 - val_loss: 0.1073 - val_acc: 0.9750\n",
            "Epoch 73/120\n",
            "45/45 [==============================] - 0s 4ms/step - loss: 0.0053 - acc: 0.9993 - val_loss: 0.1104 - val_acc: 0.9722\n",
            "Epoch 74/120\n",
            "45/45 [==============================] - 0s 3ms/step - loss: 0.0065 - acc: 0.9993 - val_loss: 0.1099 - val_acc: 0.9694\n",
            "Epoch 75/120\n",
            "45/45 [==============================] - 0s 3ms/step - loss: 0.0055 - acc: 0.9993 - val_loss: 0.1117 - val_acc: 0.9722\n",
            "Epoch 76/120\n",
            "45/45 [==============================] - 0s 4ms/step - loss: 0.0054 - acc: 0.9993 - val_loss: 0.1101 - val_acc: 0.9722\n",
            "Epoch 77/120\n",
            "45/45 [==============================] - 0s 4ms/step - loss: 0.0043 - acc: 1.0000 - val_loss: 0.1070 - val_acc: 0.9722\n",
            "Epoch 78/120\n",
            "45/45 [==============================] - 0s 4ms/step - loss: 0.0049 - acc: 0.9993 - val_loss: 0.1066 - val_acc: 0.9722\n",
            "Epoch 79/120\n",
            "45/45 [==============================] - 0s 4ms/step - loss: 0.0046 - acc: 1.0000 - val_loss: 0.1079 - val_acc: 0.9722\n",
            "Epoch 80/120\n",
            "45/45 [==============================] - 0s 4ms/step - loss: 0.0043 - acc: 0.9993 - val_loss: 0.1080 - val_acc: 0.9694\n",
            "Epoch 81/120\n",
            "45/45 [==============================] - 0s 3ms/step - loss: 0.0037 - acc: 1.0000 - val_loss: 0.1077 - val_acc: 0.9667\n",
            "Epoch 82/120\n",
            "45/45 [==============================] - 0s 5ms/step - loss: 0.0037 - acc: 1.0000 - val_loss: 0.1127 - val_acc: 0.9694\n",
            "Epoch 83/120\n",
            "45/45 [==============================] - 0s 4ms/step - loss: 0.0041 - acc: 1.0000 - val_loss: 0.1049 - val_acc: 0.9694\n",
            "Epoch 84/120\n",
            "45/45 [==============================] - 0s 4ms/step - loss: 0.0031 - acc: 1.0000 - val_loss: 0.1094 - val_acc: 0.9694\n",
            "Epoch 85/120\n",
            "45/45 [==============================] - 0s 4ms/step - loss: 0.0031 - acc: 1.0000 - val_loss: 0.1085 - val_acc: 0.9722\n",
            "Epoch 86/120\n",
            "45/45 [==============================] - 0s 4ms/step - loss: 0.0028 - acc: 1.0000 - val_loss: 0.1069 - val_acc: 0.9722\n",
            "Epoch 87/120\n",
            "45/45 [==============================] - 0s 4ms/step - loss: 0.0031 - acc: 1.0000 - val_loss: 0.1076 - val_acc: 0.9694\n",
            "Epoch 88/120\n",
            "45/45 [==============================] - 0s 4ms/step - loss: 0.0028 - acc: 1.0000 - val_loss: 0.1058 - val_acc: 0.9722\n",
            "Epoch 89/120\n",
            "45/45 [==============================] - 0s 4ms/step - loss: 0.0030 - acc: 1.0000 - val_loss: 0.1091 - val_acc: 0.9722\n",
            "Epoch 90/120\n",
            "45/45 [==============================] - 0s 4ms/step - loss: 0.0037 - acc: 0.9993 - val_loss: 0.1061 - val_acc: 0.9722\n",
            "Epoch 91/120\n",
            "45/45 [==============================] - 0s 4ms/step - loss: 0.0027 - acc: 1.0000 - val_loss: 0.1138 - val_acc: 0.9694\n",
            "Epoch 92/120\n",
            "45/45 [==============================] - 0s 4ms/step - loss: 0.0033 - acc: 0.9993 - val_loss: 0.1162 - val_acc: 0.9667\n",
            "Epoch 93/120\n",
            "45/45 [==============================] - 0s 4ms/step - loss: 0.0048 - acc: 0.9986 - val_loss: 0.1141 - val_acc: 0.9750\n",
            "Epoch 94/120\n",
            "45/45 [==============================] - 0s 4ms/step - loss: 0.0045 - acc: 0.9993 - val_loss: 0.1181 - val_acc: 0.9639\n",
            "Epoch 95/120\n",
            "45/45 [==============================] - 0s 4ms/step - loss: 0.0028 - acc: 1.0000 - val_loss: 0.1060 - val_acc: 0.9778\n",
            "Epoch 96/120\n",
            "45/45 [==============================] - 0s 4ms/step - loss: 0.0019 - acc: 1.0000 - val_loss: 0.1071 - val_acc: 0.9722\n",
            "Epoch 97/120\n",
            "45/45 [==============================] - 0s 4ms/step - loss: 0.0021 - acc: 1.0000 - val_loss: 0.1123 - val_acc: 0.9778\n",
            "Epoch 98/120\n",
            "45/45 [==============================] - 0s 4ms/step - loss: 0.0020 - acc: 1.0000 - val_loss: 0.1075 - val_acc: 0.9694\n",
            "Epoch 99/120\n",
            "45/45 [==============================] - 0s 4ms/step - loss: 0.0019 - acc: 1.0000 - val_loss: 0.1074 - val_acc: 0.9694\n",
            "Epoch 100/120\n",
            "45/45 [==============================] - 0s 4ms/step - loss: 0.0022 - acc: 1.0000 - val_loss: 0.1134 - val_acc: 0.9667\n",
            "Epoch 101/120\n",
            "45/45 [==============================] - 0s 4ms/step - loss: 0.0020 - acc: 1.0000 - val_loss: 0.1166 - val_acc: 0.9667\n",
            "Epoch 102/120\n",
            "45/45 [==============================] - 0s 4ms/step - loss: 0.0016 - acc: 1.0000 - val_loss: 0.1079 - val_acc: 0.9694\n",
            "Epoch 103/120\n",
            "45/45 [==============================] - 0s 4ms/step - loss: 0.0027 - acc: 1.0000 - val_loss: 0.1118 - val_acc: 0.9722\n",
            "Epoch 104/120\n",
            "45/45 [==============================] - 0s 4ms/step - loss: 0.0020 - acc: 1.0000 - val_loss: 0.1094 - val_acc: 0.9694\n",
            "Epoch 105/120\n",
            "45/45 [==============================] - 0s 4ms/step - loss: 0.0017 - acc: 1.0000 - val_loss: 0.1175 - val_acc: 0.9667\n",
            "Epoch 106/120\n",
            "45/45 [==============================] - 0s 4ms/step - loss: 0.0016 - acc: 1.0000 - val_loss: 0.1110 - val_acc: 0.9667\n",
            "Epoch 107/120\n",
            "45/45 [==============================] - 0s 4ms/step - loss: 0.0013 - acc: 1.0000 - val_loss: 0.1059 - val_acc: 0.9694\n",
            "Epoch 108/120\n",
            "45/45 [==============================] - 0s 4ms/step - loss: 0.0014 - acc: 1.0000 - val_loss: 0.1071 - val_acc: 0.9694\n",
            "Epoch 109/120\n",
            "45/45 [==============================] - 0s 4ms/step - loss: 0.0013 - acc: 1.0000 - val_loss: 0.1069 - val_acc: 0.9694\n",
            "Epoch 110/120\n",
            "45/45 [==============================] - 0s 4ms/step - loss: 0.0012 - acc: 1.0000 - val_loss: 0.1128 - val_acc: 0.9722\n",
            "Epoch 111/120\n",
            "45/45 [==============================] - 0s 4ms/step - loss: 0.0011 - acc: 1.0000 - val_loss: 0.1074 - val_acc: 0.9694\n",
            "Epoch 112/120\n",
            "45/45 [==============================] - 0s 3ms/step - loss: 0.0011 - acc: 1.0000 - val_loss: 0.1101 - val_acc: 0.9694\n",
            "Epoch 113/120\n",
            "45/45 [==============================] - 0s 4ms/step - loss: 0.0011 - acc: 1.0000 - val_loss: 0.1083 - val_acc: 0.9694\n",
            "Epoch 114/120\n",
            "45/45 [==============================] - 0s 4ms/step - loss: 0.0010 - acc: 1.0000 - val_loss: 0.1071 - val_acc: 0.9667\n",
            "Epoch 115/120\n",
            "45/45 [==============================] - 0s 4ms/step - loss: 0.0010 - acc: 1.0000 - val_loss: 0.1076 - val_acc: 0.9694\n",
            "Epoch 116/120\n",
            "45/45 [==============================] - 0s 4ms/step - loss: 0.0011 - acc: 1.0000 - val_loss: 0.1041 - val_acc: 0.9694\n",
            "Epoch 117/120\n",
            "45/45 [==============================] - 0s 4ms/step - loss: 9.5007e-04 - acc: 1.0000 - val_loss: 0.1055 - val_acc: 0.9694\n",
            "Epoch 118/120\n",
            "45/45 [==============================] - 0s 4ms/step - loss: 8.3361e-04 - acc: 1.0000 - val_loss: 0.1090 - val_acc: 0.9722\n",
            "Epoch 119/120\n",
            "45/45 [==============================] - 0s 4ms/step - loss: 8.4985e-04 - acc: 1.0000 - val_loss: 0.1058 - val_acc: 0.9722\n",
            "Epoch 120/120\n",
            "45/45 [==============================] - 0s 4ms/step - loss: 8.3670e-04 - acc: 1.0000 - val_loss: 0.1063 - val_acc: 0.9722\n"
          ]
        }
      ]
    },
    {
      "cell_type": "markdown",
      "source": [
        "### Plot history"
      ],
      "metadata": {
        "id": "LtRc5CNUdNYY"
      }
    },
    {
      "cell_type": "code",
      "source": [
        "import matplotlib.pyplot as plt\n",
        "\n",
        "plt.plot(history.history['acc'])\n",
        "plt.plot(history.history['val_acc'])\n",
        "plt.title(\"History | val_acc: \"+str(history.history['val_acc'][len(history.history['val_acc'])-1]))\n",
        "plt.show()"
      ],
      "metadata": {
        "colab": {
          "base_uri": "https://localhost:8080/",
          "height": 281
        },
        "id": "q0ADZz-vdTo-",
        "outputId": "6e4d99b1-fd1f-4282-b360-12c11c328165"
      },
      "execution_count": 12,
      "outputs": [
        {
          "output_type": "display_data",
          "data": {
            "image/png": "[encoded data removed]",
            "text/plain": [
              "<Figure size 432x288 with 1 Axes>"
            ]
          },
          "metadata": {
            "needs_background": "light"
          }
        }
      ]
    },
    {
      "cell_type": "markdown",
      "source": [
        "### Save the model"
      ],
      "metadata": {
        "id": "h0TBx3GleDIL"
      }
    },
    {
      "cell_type": "code",
      "source": [
        "model_name = \"mnist_model.h5\"\n",
        "model.save(\"models/\" + model_name)"
      ],
      "metadata": {
        "id": "uPzS_SOseHSw"
      },
      "execution_count": 16,
      "outputs": []
    },
    {
      "cell_type": "markdown",
      "source": [
        "## Convert model for inference in the microcontroller"
      ],
      "metadata": {
        "id": "B5rUnwGJxlS9"
      }
    },
    {
      "cell_type": "markdown",
      "source": [
        "### Configuration and execution of the exporter"
      ],
      "metadata": {
        "id": "6qPdjdamllew"
      }
    },
    {
      "cell_type": "code",
      "source": [
        "from tensorflow.keras.models import load_model\n",
        "from sklearn.datasets import load_digits\n",
        "\n",
        "from embedia.project_options import *\n",
        "from embedia.project_generator import ProjectGenerator\n",
        "\n",
        "OUTPUT_FOLDER = 'outputs/'\n",
        "PROJECT_NAME  = 'arduino_mnist_float'\n",
        "MODEL_FILE    = 'models/' + model_name\n",
        "\n",
        "model = load_model(MODEL_FILE)\n",
        "\n",
        "model._name = 'MNIST_Digits'\n",
        "\n",
        "digits = load_digits()\n",
        "example_number = 33\n",
        "sample = digits.images[example_number]\n",
        "comment= \"number %d example for test\" % digits.target[example_number]\n",
        "\n",
        "options = ProjectOptions()\n",
        "\n",
        "# options.project_type = ProjectType.ARDUINO\n",
        "options.project_type = ProjectType.C\n",
        "# options.project_type = ProjectType.CODEBLOCK\n",
        "# options.project_type = ProjectType.CPP\n",
        "\n",
        "options.data_type = ModelDataType.FLOAT\n",
        "# options.data_type = ModelDataType.FIXED32\n",
        "# options.data_type = ModelDataType.FIXED16\n",
        "# options.data_type = ModelDataType.FIXED8\n",
        "\n",
        "options.debug_mode = DebugMode.DISCARD\n",
        "# options.debug_mode = DebugMode.DISABLED\n",
        "# options.debug_mode = DebugMode.HEADERS\n",
        "# options.debug_mode = DebugMode.DATA\n",
        "\n",
        "options.example_data = sample\n",
        "options.example_comment = comment\n",
        "\n",
        "options.files = ProjectFiles.ALL\n",
        "# options.files = {ProjectFiles.MAIN}\n",
        "# options.files = {ProjectFiles.MODEL}\n",
        "# options.files = {ProjectFiles.LIBRARY}\n",
        "\n",
        "generator = ProjectGenerator()\n",
        "generator.create_project(OUTPUT_FOLDER, PROJECT_NAME, model, options)\n",
        "\n",
        "print(\"Project\", PROJECT_NAME, \"exported in\", OUTPUT_FOLDER)\n",
        "print(\"\\n\"+comment)"
      ],
      "metadata": {
        "colab": {
          "base_uri": "https://localhost:8080/"
        },
        "id": "l-ZMFYFEt2hQ",
        "outputId": "58dc4de6-1fae-4962-fb19-302bd01dec9d"
      },
      "execution_count": 20,
      "outputs": [
        {
          "output_type": "stream",
          "name": "stdout",
          "text": [
            "Project arduino_mnist_float exported in outputs/\n",
            "\n",
            "number 5 example for test\n"
          ]
        }
      ]
    },
    {
      "cell_type": "markdown",
      "source": [
        "### Test project generated in c language"
      ],
      "metadata": {
        "id": "smDzTdTMl4kH"
      }
    },
    {
      "cell_type": "code",
      "source": [
        "if options.project_type == ProjectType.C:\n",
        "    !cd outputs/C_mnist && gcc -o main main.c embedia.c mnist_digits_model.c -lm && ./main"
      ],
      "metadata": {
        "colab": {
          "base_uri": "https://localhost:8080/"
        },
        "id": "YDWFk1Mit-gE",
        "outputId": "3304e0e1-c0b5-41b6-babc-2455890e1741"
      },
      "execution_count": 29,
      "outputs": [
        {
          "output_type": "stream",
          "name": "stdout",
          "text": [
            "Prediction class id: 5\n"
          ]
        }
      ]
    },
    {
      "cell_type": "markdown",
      "source": [
        "### Download generated project"
      ],
      "metadata": {
        "id": "mLSr3oIoliLt"
      }
    },
    {
      "cell_type": "code",
      "source": [
        "from google.colab import files\n",
        "\n",
        "ruta = OUTPUT_FOLDER + PROJECT_NAME\n",
        "!zip -r embedia_project.zip ruta\n",
        "files.download('/content/EmbedIA/embedia_project.zip')"
      ],
      "metadata": {
        "colab": {
          "base_uri": "https://localhost:8080/",
          "height": 72
        },
        "id": "ULespOjpgrDP",
        "outputId": "a858ea9a-2eaf-4a7e-a3b4-de7b5aace973"
      },
      "execution_count": 30,
      "outputs": [
        {
          "output_type": "stream",
          "name": "stdout",
          "text": [
            "\tzip warning: name not matched: ruta\n",
            "\n",
            "zip error: Nothing to do! (try: zip -r embedia_project.zip . -i ruta)\n"
          ]
        },
        {
          "output_type": "display_data",
          "data": {
            "application/javascript": [
              "\n",
              "    async function download(id, filename, size) {\n",
              "      if (!google.colab.kernel.accessAllowed) {\n",
              "        return;\n",
              "      }\n",
              "      const div = document.createElement('div');\n",
              "      const label = document.createElement('label');\n",
              "      label.textContent = `Downloading \"${filename}\": `;\n",
              "      div.appendChild(label);\n",
              "      const progress = document.createElement('progress');\n",
              "      progress.max = size;\n",
              "      div.appendChild(progress);\n",
              "      document.body.appendChild(div);\n",
              "\n",
              "      const buffers = [];\n",
              "      let downloaded = 0;\n",
              "\n",
              "      const channel = await google.colab.kernel.comms.open(id);\n",
              "      // Send a message to notify the kernel that we're ready.\n",
              "      channel.send({})\n",
              "\n",
              "      for await (const message of channel.messages) {\n",
              "        // Send a message to notify the kernel that we're ready.\n",
              "        channel.send({})\n",
              "        if (message.buffers) {\n",
              "          for (const buffer of message.buffers) {\n",
              "            buffers.push(buffer);\n",
              "            downloaded += buffer.byteLength;\n",
              "            progress.value = downloaded;\n",
              "          }\n",
              "        }\n",
              "      }\n",
              "      const blob = new Blob(buffers, {type: 'application/binary'});\n",
              "      const a = document.createElement('a');\n",
              "      a.href = window.URL.createObjectURL(blob);\n",
              "      a.download = filename;\n",
              "      div.appendChild(a);\n",
              "      a.click();\n",
              "      div.remove();\n",
              "    }\n",
              "  "
            ],
            "text/plain": [
              "<IPython.core.display.Javascript object>"
            ]
          },
          "metadata": {}
        },
        {
          "output_type": "display_data",
          "data": {
            "application/javascript": [
              "download(\"download_a7e66475-7171-4396-b1e5-373d9f4f6af5\", \"embedia_project.zip\", 26502)"
            ],
            "text/plain": [
              "<IPython.core.display.Javascript object>"
            ]
          },
          "metadata": {}
        }
      ]
    }
  ]
}