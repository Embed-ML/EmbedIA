{
  "cells": [
    {
      "cell_type": "markdown",
      "metadata": {
        "id": "bt0VLZYvwmfD"
      },
      "source": [
        "<div align=\"left\">\n",
        "  <h1>EmbedIA</h1>\n",
        "  <p>EmbedIA is a machine learning framework for developing applications on microcontrollers.</p>\n",
        "</div>"
      ]
    },
    {
      "cell_type": "markdown",
      "metadata": {
        "id": "P9zpfPkcxbtd"
      },
      "source": [
        "## Import framework from Github (run only in Colab)"
      ]
    },
    {
      "cell_type": "code",
      "source": [
        "!pip install larq"
      ],
      "metadata": {
        "id": "VHVRNEBYewqv",
        "outputId": "1dfb65c4-9e5a-4c81-a445-dd483c8dd437",
        "colab": {
          "base_uri": "https://localhost:8080/"
        }
      },
      "execution_count": 1,
      "outputs": [
        {
          "output_type": "stream",
          "name": "stdout",
          "text": [
            "Looking in indexes: https://pypi.org/simple, https://us-python.pkg.dev/colab-wheels/public/simple/\n",
            "Collecting larq\n",
            "  Downloading larq-0.13.0-py3-none-any.whl (65 kB)\n",
            "\u001b[2K     \u001b[90m━━━━━━━━━━━━━━━━━━━━━━━━━━━━━━━━━━━━━━━━\u001b[0m \u001b[32m65.5/65.5 KB\u001b[0m \u001b[31m2.3 MB/s\u001b[0m eta \u001b[36m0:00:00\u001b[0m\n",
            "\u001b[?25hRequirement already satisfied: packaging>=19.2 in /usr/local/lib/python3.9/dist-packages (from larq) (23.0)\n",
            "Requirement already satisfied: numpy<2.0,>=1.15.4 in /usr/local/lib/python3.9/dist-packages (from larq) (1.22.4)\n",
            "Collecting terminaltables>=3.1.0\n",
            "  Downloading terminaltables-3.1.10-py2.py3-none-any.whl (15 kB)\n",
            "Installing collected packages: terminaltables, larq\n",
            "Successfully installed larq-0.13.0 terminaltables-3.1.10\n"
          ]
        }
      ]
    },
    {
      "cell_type": "code",
      "execution_count": 2,
      "metadata": {
        "colab": {
          "base_uri": "https://localhost:8080/"
        },
        "id": "6LT3-lW8o_vt",
        "outputId": "5900c46b-5a8c-47f6-8100-0d82b3f91140"
      },
      "outputs": [
        {
          "output_type": "stream",
          "name": "stdout",
          "text": [
            "Cloning into 'EmbedIA'...\n",
            "remote: Enumerating objects: 925, done.\u001b[K\n",
            "remote: Counting objects: 100% (146/146), done.\u001b[K\n",
            "remote: Compressing objects: 100% (104/104), done.\u001b[K\n",
            "remote: Total 925 (delta 58), reused 99 (delta 41), pack-reused 779\u001b[K\n",
            "Receiving objects: 100% (925/925), 15.40 MiB | 16.21 MiB/s, done.\n",
            "Resolving deltas: 100% (467/467), done.\n"
          ]
        }
      ],
      "source": [
        "!git clone https://github.com/Embed-ML/EmbedIA.git"
      ]
    },
    {
      "cell_type": "code",
      "execution_count": 3,
      "metadata": {
        "colab": {
          "base_uri": "https://localhost:8080/"
        },
        "id": "J9uOnWBJtr0p",
        "outputId": "24bfd6fa-8b85-4735-f17c-4640720899b1"
      },
      "outputs": [
        {
          "output_type": "stream",
          "name": "stdout",
          "text": [
            "/content/EmbedIA\n"
          ]
        }
      ],
      "source": [
        "%cd EmbedIA"
      ]
    },
    {
      "cell_type": "markdown",
      "metadata": {
        "id": "QuRohaVQYgyR"
      },
      "source": [
        "## Load dataset "
      ]
    },
    {
      "cell_type": "code",
      "execution_count": 4,
      "metadata": {
        "colab": {
          "base_uri": "https://localhost:8080/"
        },
        "id": "MOZh360UZMYR",
        "outputId": "2624ad92-87a5-4c47-c379-7efbf102c9fc"
      },
      "outputs": [
        {
          "output_type": "stream",
          "name": "stdout",
          "text": [
            "x_train.shape (1437, 8, 8, 1)\n",
            "x_test.shape (360, 8, 8, 1)\n"
          ]
        }
      ],
      "source": [
        "import numpy as np\n",
        "from sklearn.datasets import load_digits\n",
        "from sklearn.model_selection import train_test_split\n",
        "\n",
        "# 0 to not apply normalization\n",
        "# 1 for normalization [-0.5, 0.5], \n",
        "# 2 for normalization z score, \n",
        "_normalize = 2 \n",
        "\n",
        "def normalization0dot5(x):\n",
        "    '''\n",
        "        Normalization of values in the range [-0.5; 0.5]\n",
        "        Params:\n",
        "            x: numpy array to be normalized\n",
        "        Return:\n",
        "            x: normalized numpy array\n",
        "    '''\n",
        "    x = x/np.max(x)\n",
        "    x = x-0.5\n",
        "    return x\n",
        "\n",
        "def z_score(X_train, x_test):\n",
        "    '''\n",
        "        Normalization z score, uses mean and standard deviation of train vector\n",
        "        Params:\n",
        "            X_train: array of train numpy to be normalized\n",
        "            x_test: array of test numpy to be normalized\n",
        "        Return:\n",
        "            x_train, x_test: normalized numpy vectors\n",
        "    '''\n",
        "    x_mean= np.mean(X_train)\n",
        "    x_std= np.std(X_train)\n",
        "    \n",
        "    x_train= (X_train-x_mean)/x_std\n",
        "    x_test= (x_test-x_mean)/x_std\n",
        "    return x_train, x_test\n",
        "\n",
        "def load_dataset(_normalize):\n",
        "    '''\n",
        "        Load the sklearn digits dataset, applying the indicated normalization.\n",
        "        Params:\n",
        "            _normalize: normalization to be applied\n",
        "        Return:\n",
        "           X_train, X_test: training set\n",
        "           y_train, y_test: test set\n",
        "    '''\n",
        "\n",
        "    digits = load_digits()\n",
        "    \n",
        "    if _normalize == 1:\n",
        "        digits.images = normalization0dot5(digits.images)\n",
        "\n",
        "    X_train, X_test, y_train, y_test = train_test_split(digits.images , digits.target, test_size=0.2, shuffle=True)\n",
        "    X_train = X_train.reshape(X_train.shape[0], X_train.shape[1], X_train.shape[2], 1)\n",
        "    X_test = X_test.reshape(X_test.shape[0], X_test.shape[1], X_test.shape[2], 1)\n",
        "\n",
        "    if _normalize == 2:\n",
        "        X_train, X_test = z_score(X_train, X_test)\n",
        "\n",
        "    return X_train, X_test, y_train, y_test\n",
        "\n",
        "x_train, x_test, y_train, y_test = load_dataset(_normalize)\n",
        "\n",
        "print('x_train.shape', x_train.shape)\n",
        "print('x_test.shape', x_test.shape)"
      ]
    },
    {
      "cell_type": "code",
      "source": [
        "import matplotlib.pyplot as plt\n",
        "import numpy as np\n",
        "\n",
        "fig, axes = plt.subplots(2, 5, figsize=((5*25)//5, (2*8)//2))\n",
        "axes = axes.ravel()\n",
        "\n",
        "for i in range(10):\n",
        "    axes[i].imshow(x_train[np.where(y_train==i)[0][0]], cmap=\"gray\")\n",
        "    axes[i].set_title(str(i))\n",
        "\n",
        "plt.show()"
      ],
      "metadata": {
        "id": "J22PdU5EA2hA",
        "outputId": "3f8910a3-49c6-4821-ce4e-600d58627d7a",
        "colab": {
          "base_uri": "https://localhost:8080/",
          "height": 499
        }
      },
      "execution_count": 38,
      "outputs": [
        {
          "output_type": "display_data",
          "data": {
            "text/plain": [
              "<Figure size 1800x576 with 10 Axes>"
            ],
            "image/png": "[encoded data removed]"
          },
          "metadata": {
            "needs_background": "light"
          }
        }
      ]
    },
    {
      "cell_type": "markdown",
      "metadata": {
        "id": "OmUZiTEGcADx"
      },
      "source": [
        "## Creating and training a CNN model"
      ]
    },
    {
      "cell_type": "code",
      "execution_count": 5,
      "metadata": {
        "colab": {
          "base_uri": "https://localhost:8080/"
        },
        "id": "3b7ZtwtOcXqq",
        "outputId": "e7f24b73-2e38-4c03-c2c8-591a536553e3"
      },
      "outputs": [
        {
          "output_type": "stream",
          "name": "stdout",
          "text": [
            "Model: \"EmbedIA_model\"\n",
            "_________________________________________________________________\n",
            " Layer (type)                Output Shape              Param #   \n",
            "=================================================================\n",
            " conv2d (Conv2D)             (None, 6, 6, 8)           80        \n",
            "                                                                 \n",
            " max_pooling2d (MaxPooling2D  (None, 3, 3, 8)          0         \n",
            " )                                                               \n",
            "                                                                 \n",
            " conv2d_1 (Conv2D)           (None, 2, 2, 16)          528       \n",
            "                                                                 \n",
            " flatten (Flatten)           (None, 64)                0         \n",
            "                                                                 \n",
            " dense (Dense)               (None, 16)                1040      \n",
            "                                                                 \n",
            " dense_1 (Dense)             (None, 10)                170       \n",
            "                                                                 \n",
            "=================================================================\n",
            "Total params: 1,818\n",
            "Trainable params: 1,818\n",
            "Non-trainable params: 0\n",
            "_________________________________________________________________\n"
          ]
        }
      ],
      "source": [
        "from tensorflow.keras.models import Sequential\n",
        "from tensorflow.keras.layers import Conv2D, MaxPooling2D, Flatten, Dense, AveragePooling2D, BatchNormalization\n",
        "\n",
        "def create_model(x_train, y_train, y_test):\n",
        "    '''\n",
        "        Create a model\n",
        "        Input parameters:\n",
        "            x_train: training data\n",
        "            y_train, y_test: labels of the data involved (including test data)\n",
        "\n",
        "        return\n",
        "            model: sequential layers model\n",
        "    '''\n",
        "    classes = max(y_test.max(),y_train.max())+1\n",
        "\n",
        "    model = Sequential(name=\"EmbedIA_model\")\n",
        "\n",
        "    model.add(Conv2D(8, kernel_size=(3, 3), input_shape=x_train[0].shape,activation='relu'))\n",
        "    model.add(MaxPooling2D(pool_size=(2, 2)))\n",
        "    model.add(Conv2D(16, kernel_size=(2, 2),activation='relu'))\n",
        "\n",
        "    model.add(Flatten())\n",
        "    model.add(Dense(16,activation='relu'))\n",
        "    model.add(Dense(classes,activation='softmax'))\n",
        "\n",
        "    model.compile(optimizer='adam', \n",
        "                    loss='sparse_categorical_crossentropy', \n",
        "                    metrics=['acc'])\n",
        "    return model\n",
        "\n",
        "model = create_model(x_train, y_train, y_test)\n",
        "model.summary()"
      ]
    },
    {
      "cell_type": "markdown",
      "metadata": {
        "id": "8dNA75Qmc0zx"
      },
      "source": [
        "### Training"
      ]
    },
    {
      "cell_type": "code",
      "execution_count": 6,
      "metadata": {
        "colab": {
          "base_uri": "https://localhost:8080/"
        },
        "id": "dyyEsZKpco9z",
        "outputId": "a6bd2298-8f4f-4f6e-a632-d94a50badfe2"
      },
      "outputs": [
        {
          "output_type": "stream",
          "name": "stdout",
          "text": [
            "Epoch 1/50\n",
            "45/45 [==============================] - 5s 18ms/step - loss: 2.2097 - acc: 0.1935 - val_loss: 2.1009 - val_acc: 0.2111\n",
            "Epoch 2/50\n",
            "45/45 [==============================] - 0s 9ms/step - loss: 1.8623 - acc: 0.4210 - val_loss: 1.6332 - val_acc: 0.4722\n",
            "Epoch 3/50\n",
            "45/45 [==============================] - 0s 7ms/step - loss: 1.2813 - acc: 0.6486 - val_loss: 1.0144 - val_acc: 0.7861\n",
            "Epoch 4/50\n",
            "45/45 [==============================] - 0s 9ms/step - loss: 0.8219 - acc: 0.8051 - val_loss: 0.6809 - val_acc: 0.8333\n",
            "Epoch 5/50\n",
            "45/45 [==============================] - 0s 10ms/step - loss: 0.6044 - acc: 0.8392 - val_loss: 0.5254 - val_acc: 0.8722\n",
            "Epoch 6/50\n",
            "45/45 [==============================] - 0s 7ms/step - loss: 0.4859 - acc: 0.8747 - val_loss: 0.4409 - val_acc: 0.8750\n",
            "Epoch 7/50\n",
            "45/45 [==============================] - 0s 9ms/step - loss: 0.4287 - acc: 0.8768 - val_loss: 0.3797 - val_acc: 0.9028\n",
            "Epoch 8/50\n",
            "45/45 [==============================] - 0s 6ms/step - loss: 0.3679 - acc: 0.8998 - val_loss: 0.3233 - val_acc: 0.9111\n",
            "Epoch 9/50\n",
            "45/45 [==============================] - 1s 11ms/step - loss: 0.3282 - acc: 0.9158 - val_loss: 0.2992 - val_acc: 0.9222\n",
            "Epoch 10/50\n",
            "45/45 [==============================] - 0s 9ms/step - loss: 0.3008 - acc: 0.9130 - val_loss: 0.2591 - val_acc: 0.9306\n",
            "Epoch 11/50\n",
            "45/45 [==============================] - 0s 10ms/step - loss: 0.2644 - acc: 0.9255 - val_loss: 0.2452 - val_acc: 0.9444\n",
            "Epoch 12/50\n",
            "45/45 [==============================] - 0s 10ms/step - loss: 0.2435 - acc: 0.9228 - val_loss: 0.2187 - val_acc: 0.9583\n",
            "Epoch 13/50\n",
            "45/45 [==============================] - 0s 8ms/step - loss: 0.2233 - acc: 0.9367 - val_loss: 0.2077 - val_acc: 0.9444\n",
            "Epoch 14/50\n",
            "45/45 [==============================] - 0s 11ms/step - loss: 0.2042 - acc: 0.9388 - val_loss: 0.1965 - val_acc: 0.9500\n",
            "Epoch 15/50\n",
            "45/45 [==============================] - 0s 9ms/step - loss: 0.1823 - acc: 0.9513 - val_loss: 0.1827 - val_acc: 0.9528\n",
            "Epoch 16/50\n",
            "45/45 [==============================] - 0s 9ms/step - loss: 0.1677 - acc: 0.9506 - val_loss: 0.1742 - val_acc: 0.9528\n",
            "Epoch 17/50\n",
            "45/45 [==============================] - 1s 14ms/step - loss: 0.1512 - acc: 0.9589 - val_loss: 0.1637 - val_acc: 0.9556\n",
            "Epoch 18/50\n",
            "45/45 [==============================] - 1s 17ms/step - loss: 0.1396 - acc: 0.9596 - val_loss: 0.1573 - val_acc: 0.9639\n",
            "Epoch 19/50\n",
            "45/45 [==============================] - 1s 14ms/step - loss: 0.1320 - acc: 0.9666 - val_loss: 0.1601 - val_acc: 0.9583\n",
            "Epoch 20/50\n",
            "45/45 [==============================] - 1s 11ms/step - loss: 0.1173 - acc: 0.9708 - val_loss: 0.1449 - val_acc: 0.9667\n",
            "Epoch 21/50\n",
            "45/45 [==============================] - 1s 13ms/step - loss: 0.1159 - acc: 0.9694 - val_loss: 0.1458 - val_acc: 0.9556\n",
            "Epoch 22/50\n",
            "45/45 [==============================] - 0s 8ms/step - loss: 0.1045 - acc: 0.9763 - val_loss: 0.1447 - val_acc: 0.9639\n",
            "Epoch 23/50\n",
            "45/45 [==============================] - 0s 11ms/step - loss: 0.0994 - acc: 0.9722 - val_loss: 0.1277 - val_acc: 0.9639\n",
            "Epoch 24/50\n",
            "45/45 [==============================] - 0s 7ms/step - loss: 0.0886 - acc: 0.9777 - val_loss: 0.1294 - val_acc: 0.9667\n",
            "Epoch 25/50\n",
            "45/45 [==============================] - 0s 9ms/step - loss: 0.0829 - acc: 0.9770 - val_loss: 0.1350 - val_acc: 0.9694\n",
            "Epoch 26/50\n",
            "45/45 [==============================] - 1s 11ms/step - loss: 0.0797 - acc: 0.9798 - val_loss: 0.1377 - val_acc: 0.9694\n",
            "Epoch 27/50\n",
            "45/45 [==============================] - 0s 9ms/step - loss: 0.0739 - acc: 0.9833 - val_loss: 0.1223 - val_acc: 0.9750\n",
            "Epoch 28/50\n",
            "45/45 [==============================] - 0s 10ms/step - loss: 0.0692 - acc: 0.9847 - val_loss: 0.1123 - val_acc: 0.9694\n",
            "Epoch 29/50\n",
            "45/45 [==============================] - 0s 7ms/step - loss: 0.0653 - acc: 0.9812 - val_loss: 0.1129 - val_acc: 0.9694\n",
            "Epoch 30/50\n",
            "45/45 [==============================] - 0s 6ms/step - loss: 0.0622 - acc: 0.9847 - val_loss: 0.1142 - val_acc: 0.9694\n",
            "Epoch 31/50\n",
            "45/45 [==============================] - 0s 8ms/step - loss: 0.0572 - acc: 0.9896 - val_loss: 0.1306 - val_acc: 0.9667\n",
            "Epoch 32/50\n",
            "45/45 [==============================] - 0s 8ms/step - loss: 0.0552 - acc: 0.9882 - val_loss: 0.1126 - val_acc: 0.9694\n",
            "Epoch 33/50\n",
            "45/45 [==============================] - 0s 7ms/step - loss: 0.0509 - acc: 0.9882 - val_loss: 0.1063 - val_acc: 0.9722\n",
            "Epoch 34/50\n",
            "45/45 [==============================] - 0s 6ms/step - loss: 0.0477 - acc: 0.9903 - val_loss: 0.1051 - val_acc: 0.9694\n",
            "Epoch 35/50\n",
            "45/45 [==============================] - 0s 7ms/step - loss: 0.0433 - acc: 0.9923 - val_loss: 0.1055 - val_acc: 0.9722\n",
            "Epoch 36/50\n",
            "45/45 [==============================] - 0s 6ms/step - loss: 0.0431 - acc: 0.9910 - val_loss: 0.1111 - val_acc: 0.9722\n",
            "Epoch 37/50\n",
            "45/45 [==============================] - 0s 7ms/step - loss: 0.0407 - acc: 0.9910 - val_loss: 0.1056 - val_acc: 0.9722\n",
            "Epoch 38/50\n",
            "45/45 [==============================] - 0s 7ms/step - loss: 0.0386 - acc: 0.9944 - val_loss: 0.1086 - val_acc: 0.9778\n",
            "Epoch 39/50\n",
            "45/45 [==============================] - 0s 8ms/step - loss: 0.0378 - acc: 0.9937 - val_loss: 0.1218 - val_acc: 0.9722\n",
            "Epoch 40/50\n",
            "45/45 [==============================] - 0s 8ms/step - loss: 0.0352 - acc: 0.9944 - val_loss: 0.1044 - val_acc: 0.9722\n",
            "Epoch 41/50\n",
            "45/45 [==============================] - 0s 7ms/step - loss: 0.0326 - acc: 0.9965 - val_loss: 0.1006 - val_acc: 0.9722\n",
            "Epoch 42/50\n",
            "45/45 [==============================] - 0s 4ms/step - loss: 0.0345 - acc: 0.9916 - val_loss: 0.0997 - val_acc: 0.9722\n",
            "Epoch 43/50\n",
            "45/45 [==============================] - 0s 5ms/step - loss: 0.0309 - acc: 0.9951 - val_loss: 0.1131 - val_acc: 0.9694\n",
            "Epoch 44/50\n",
            "45/45 [==============================] - 0s 3ms/step - loss: 0.0313 - acc: 0.9951 - val_loss: 0.1074 - val_acc: 0.9667\n",
            "Epoch 45/50\n",
            "45/45 [==============================] - 0s 4ms/step - loss: 0.0292 - acc: 0.9958 - val_loss: 0.1055 - val_acc: 0.9722\n",
            "Epoch 46/50\n",
            "45/45 [==============================] - 0s 5ms/step - loss: 0.0299 - acc: 0.9944 - val_loss: 0.1007 - val_acc: 0.9722\n",
            "Epoch 47/50\n",
            "45/45 [==============================] - 0s 4ms/step - loss: 0.0258 - acc: 0.9958 - val_loss: 0.1152 - val_acc: 0.9778\n",
            "Epoch 48/50\n",
            "45/45 [==============================] - 0s 4ms/step - loss: 0.0242 - acc: 0.9972 - val_loss: 0.0959 - val_acc: 0.9667\n",
            "Epoch 49/50\n",
            "45/45 [==============================] - 0s 4ms/step - loss: 0.0267 - acc: 0.9951 - val_loss: 0.1184 - val_acc: 0.9722\n",
            "Epoch 50/50\n",
            "45/45 [==============================] - 0s 4ms/step - loss: 0.0243 - acc: 0.9951 - val_loss: 0.0941 - val_acc: 0.9750\n"
          ]
        }
      ],
      "source": [
        "epocas = 50\n",
        "lote = 32\n",
        "\n",
        "history = model.fit(x_train, y_train, epochs=epocas, batch_size=lote, validation_data=(x_test, y_test))"
      ]
    },
    {
      "cell_type": "markdown",
      "metadata": {
        "id": "LtRc5CNUdNYY"
      },
      "source": [
        "### Plot history"
      ]
    },
    {
      "cell_type": "code",
      "execution_count": 7,
      "metadata": {
        "colab": {
          "base_uri": "https://localhost:8080/",
          "height": 281
        },
        "id": "q0ADZz-vdTo-",
        "outputId": "139a1593-384e-4ac0-cdcd-015f7cb62271"
      },
      "outputs": [
        {
          "output_type": "display_data",
          "data": {
            "text/plain": [
              "<Figure size 432x288 with 1 Axes>"
            ],
            "image/png": "[encoded data removed]"
          },
          "metadata": {
            "needs_background": "light"
          }
        }
      ],
      "source": [
        "import matplotlib.pyplot as plt\n",
        "\n",
        "plt.plot(history.history['acc'])\n",
        "plt.plot(history.history['val_acc'])\n",
        "plt.title(\"History | val_acc: \"+str(history.history['val_acc'][len(history.history['val_acc'])-1]))\n",
        "plt.show()"
      ]
    },
    {
      "cell_type": "markdown",
      "metadata": {
        "id": "h0TBx3GleDIL"
      },
      "source": [
        "### Save the model"
      ]
    },
    {
      "cell_type": "code",
      "execution_count": 8,
      "metadata": {
        "id": "uPzS_SOseHSw"
      },
      "outputs": [],
      "source": [
        "model_name = \"mnist_model.h5\"\n",
        "model.save(\"models/\" + model_name)"
      ]
    },
    {
      "cell_type": "markdown",
      "metadata": {
        "id": "B5rUnwGJxlS9"
      },
      "source": [
        "## Convert model for inference in the microcontroller using EmbedIA"
      ]
    },
    {
      "cell_type": "code",
      "source": [
        "#@title Configuration and execution of the exporter { display-mode: \"form\" }\n",
        "\n",
        "import sys\n",
        "# add parent folder to path in order to find EmbedIA folder\n",
        "sys.path.insert(0, '..')\n",
        "\n",
        "import joblib\n",
        "from tensorflow.keras.models import load_model\n",
        "from embedia.project_generator import ProjectGenerator\n",
        "from embedia.model_generator.project_options import (\n",
        "    ModelDataType,\n",
        "    DebugMode,\n",
        "    ProjectFiles,\n",
        "    ProjectOptions,\n",
        "    ProjectType\n",
        ")\n",
        "\n",
        "#@markdown ---\n",
        "#@markdown ###Export adjustment\n",
        "\n",
        "OUTPUT_FOLDER = 'outputs/' #@param {type:\"string\"}\n",
        "PROJECT_NAME = 'mnist_project' #@param {type:\"string\"}\n",
        "\n",
        "MODEL_FILE = 'models/mnist_model.h5' #@param {type:\"string\"}\n",
        "model = load_model(MODEL_FILE)\n",
        "# model.summary()\n",
        "\n",
        "options = ProjectOptions()\n",
        "\n",
        "# set location of EmbedIA folder\n",
        "embedia_folder = '../EmbedIA/embedia'\n",
        "options.embedia_folder = embedia_folder\n",
        "\n",
        "#@markdown ---\n",
        "#@markdown ###Configuration of the project to export\n",
        "\n",
        "# set project type\n",
        "project_type_dict = {\n",
        "    \"ARDUINO\": ProjectType.ARDUINO, \n",
        "    \"C\": ProjectType.C,\n",
        "    \"CODEBLOCK\": ProjectType.CODEBLOCK,\n",
        "    \"CPP\": ProjectType.CPP,\n",
        "}\n",
        "project_type = \"CODEBLOCK\" #@param [\"ARDUINO\", \"C\", \"CODEBLOCK\", \"CPP\"]\n",
        "options.project_type = project_type_dict[project_type]\n",
        "\n",
        "# set data type\n",
        "data_type_dict = {\n",
        "    \"FLOAT\": ModelDataType.FLOAT, \n",
        "    \"FIXED32\": ModelDataType.FIXED32,\n",
        "    \"FIXED16\": ModelDataType.FIXED16,\n",
        "    \"FIXED8\": ModelDataType.FIXED8,\n",
        "    \"BINARY\": ModelDataType.BINARY,\n",
        "}\n",
        "data_type = \"FIXED16\" #@param [\"FLOAT\", \"FIXED32\", \"FIXED16\", \"FIXED8\", \"BINARY\"]\n",
        "options.data_type = data_type_dict[data_type]\n",
        "\n",
        "# set debug mode\n",
        "debug_mode_dict = {\n",
        "    \"DISCARD\": DebugMode.DISCARD, \n",
        "    \"DISABLED\": DebugMode.DISABLED,\n",
        "    \"HEADERS\": DebugMode.HEADERS,\n",
        "    \"DATA\": DebugMode.DATA,\n",
        "}\n",
        "debug_mode = \"DATA\" #@param [\"DISCARD\", \"DISABLED\", \"HEADERS\", \"DATA\"]\n",
        "options.debug_mode = debug_mode_dict[debug_mode]\n",
        "\n",
        "# set which files to export\n",
        "files_export_dict = {\n",
        "    \"ALL\": ProjectFiles.ALL, \n",
        "    \"MAIN\": {ProjectFiles.MAIN},\n",
        "    \"MODEL\": {ProjectFiles.MODEL},\n",
        "    \"LIBRARY\": {ProjectFiles.LIBRARY},\n",
        "}\n",
        "files_export = \"ALL\" #@param [\"ALL\", \"MAIN\", \"MODEL\", \"LIBRARY\"]\n",
        "options.files = files_export_dict[files_export]\n",
        "\n",
        "# examples to export\n",
        "samples = x_test[0:10]\n",
        "ids = y_test[0:10]\n",
        "\n",
        "res = model.predict(samples)\n",
        "print((res*100).astype('int'))\n",
        "\n",
        "options.example_data = samples\n",
        "options.example_ids = ids\n",
        "\n",
        "#@markdown if True, remove output folder and start a clean export:\n",
        "clean_output = True #@param {type:\"boolean\"}\n",
        "options.clean_output = clean_output\n",
        "#@markdown ---\n",
        "\n",
        "############# Generate project #############\n",
        "\n",
        "generator = ProjectGenerator(options)\n",
        "generator.create_project(OUTPUT_FOLDER, PROJECT_NAME, model, options)\n",
        "\n",
        "print(\"Project\", PROJECT_NAME, \"exported in\", OUTPUT_FOLDER,'\\n\\n')\n",
        "\n",
        "import larq\n",
        "larq.models.summary(model)"
      ],
      "metadata": {
        "colab": {
          "base_uri": "https://localhost:8080/"
        },
        "id": "ZhG3zKBxHFOg",
        "outputId": "18fac222-09f6-42f9-9a82-279e7915338c"
      },
      "execution_count": 15,
      "outputs": [
        {
          "output_type": "stream",
          "name": "stdout",
          "text": [
            "1/1 [==============================] - 0s 118ms/step\n",
            "[[ 0  0  0  0  0  0  0  0 99  0]\n",
            " [ 0  0  0 99  0  0  0  0  0  0]\n",
            " [ 0  0  0  0 99  0  0  0  0  0]\n",
            " [ 0  1  0  0  0  0  0  0 98  0]\n",
            " [ 0  0  0  0  0 99  0  0  0  0]\n",
            " [ 0  0  0  0  0  0 99  0  0  0]\n",
            " [ 0  0 99  0  0  0  0  0  0  0]\n",
            " [ 0  0  0  0  0  0  0  0  0 99]\n",
            " [ 0  0  0  0  0  0  0  0 99  0]\n",
            " [ 0  0  0 99  0  0  0  0  0  0]]\n",
            "\n",
            "+-------------------+---------------+------------+------------+------+------------+\n",
            "| Layer(activation) | Name          | #Param(NT) |   Shape    | MACs | Size (KiB) |\n",
            "+-------------------+---------------+------------+------------+------+------------+\n",
            "| Conv2D(relu)      | conv2d        |         80 | (6, 6, 8)  | 2592 |     0.141  |\n",
            "| MaxPooling2D      | max_pooling2d |          0 | (3, 3, 8)  |    0 |     0.000  |\n",
            "| Conv2D(relu)      | conv2d_1      |        528 | (2, 2, 16) | 2048 |     0.641  |\n",
            "| Flatten           | flatten       |          0 |   (64,)    |    0 |     0.000  |\n",
            "| Dense(relu)       | dense         |       1040 |   (16,)    | 1024 |     1.078  |\n",
            "| Dense(softmax)    | dense_1       |        170 |   (10,)    |  160 |     0.205  |\n",
            "+-------------------+---------------+------------+------------+------+------------+\n",
            "Total params (NT)....: 1818\n",
            "Total size in KiB....: 2.064\n",
            "Total MACs operations: 5824\n",
            "\n",
            "Project mnist_project exported in outputs/ \n",
            "\n",
            "\n",
            "+EmbedIA_model stats--------------------------------------------------------+\n",
            "| Layer          Input prec.         Outputs  # 32-bit  Memory  32-bit MACs |\n",
            "|                      (bit)                       x 1    (kB)              |\n",
            "+---------------------------------------------------------------------------+\n",
            "| conv2d                   -   (-1, 6, 6, 8)        80    0.31         2592 |\n",
            "| max_pooling2d            -   (-1, 3, 3, 8)         0       0            0 |\n",
            "| conv2d_1                 -  (-1, 2, 2, 16)       528    2.06         2048 |\n",
            "| flatten                  -        (-1, 64)         0       0            0 |\n",
            "| dense                    -        (-1, 16)      1040    4.06         1024 |\n",
            "| dense_1                  -        (-1, 10)       170    0.66          160 |\n",
            "+---------------------------------------------------------------------------+\n",
            "| Total                                           1818    7.10         5824 |\n",
            "+---------------------------------------------------------------------------+\n",
            "+EmbedIA_model summary--------------------+\n",
            "| Total params                   1.82 k   |\n",
            "| Trainable params               1.82 k   |\n",
            "| Non-trainable params           0        |\n",
            "| Model size                     7.10 KiB |\n",
            "| Model size (8-bit FP weights)  1.78 KiB |\n",
            "| Float-32 Equivalent            7.10 KiB |\n",
            "| Compression Ratio of Memory    1.00     |\n",
            "| Number of MACs                 5.82 k   |\n",
            "+-----------------------------------------+\n"
          ]
        }
      ]
    },
    {
      "cell_type": "markdown",
      "metadata": {
        "id": "mLSr3oIoliLt"
      },
      "source": [
        "### Download generated project (Run only in Colab)"
      ]
    },
    {
      "cell_type": "code",
      "execution_count": 16,
      "metadata": {
        "colab": {
          "base_uri": "https://localhost:8080/",
          "height": 243
        },
        "id": "ULespOjpgrDP",
        "outputId": "58209321-e3b1-4fef-f1dd-cd6a3f08795d"
      },
      "outputs": [
        {
          "output_type": "stream",
          "name": "stdout",
          "text": [
            "updating: outputs/mnist_project/ (stored 0%)\n",
            "updating: outputs/mnist_project/mnist_project.cbp (deflated 74%)\n",
            "updating: outputs/mnist_project/embedia.c (deflated 79%)\n",
            "updating: outputs/mnist_project/example_file.h (deflated 93%)\n",
            "updating: outputs/mnist_project/fixed.c (deflated 73%)\n",
            "updating: outputs/mnist_project/fixed.h (deflated 74%)\n",
            "updating: outputs/mnist_project/embedia_debug.h (deflated 55%)\n",
            "updating: outputs/mnist_project/embedia_model.c (deflated 67%)\n",
            "updating: outputs/mnist_project/embedia_debug_def.h (deflated 69%)\n",
            "updating: outputs/mnist_project/embedia_debug.c (deflated 76%)\n",
            "updating: outputs/mnist_project/main.c (deflated 49%)\n",
            "updating: outputs/mnist_project/embedia.h (deflated 74%)\n",
            "updating: outputs/mnist_project/embedia_model.h (deflated 60%)\n"
          ]
        },
        {
          "output_type": "display_data",
          "data": {
            "text/plain": [
              "<IPython.core.display.Javascript object>"
            ],
            "application/javascript": [
              "\n",
              "    async function download(id, filename, size) {\n",
              "      if (!google.colab.kernel.accessAllowed) {\n",
              "        return;\n",
              "      }\n",
              "      const div = document.createElement('div');\n",
              "      const label = document.createElement('label');\n",
              "      label.textContent = `Downloading \"${filename}\": `;\n",
              "      div.appendChild(label);\n",
              "      const progress = document.createElement('progress');\n",
              "      progress.max = size;\n",
              "      div.appendChild(progress);\n",
              "      document.body.appendChild(div);\n",
              "\n",
              "      const buffers = [];\n",
              "      let downloaded = 0;\n",
              "\n",
              "      const channel = await google.colab.kernel.comms.open(id);\n",
              "      // Send a message to notify the kernel that we're ready.\n",
              "      channel.send({})\n",
              "\n",
              "      for await (const message of channel.messages) {\n",
              "        // Send a message to notify the kernel that we're ready.\n",
              "        channel.send({})\n",
              "        if (message.buffers) {\n",
              "          for (const buffer of message.buffers) {\n",
              "            buffers.push(buffer);\n",
              "            downloaded += buffer.byteLength;\n",
              "            progress.value = downloaded;\n",
              "          }\n",
              "        }\n",
              "      }\n",
              "      const blob = new Blob(buffers, {type: 'application/binary'});\n",
              "      const a = document.createElement('a');\n",
              "      a.href = window.URL.createObjectURL(blob);\n",
              "      a.download = filename;\n",
              "      div.appendChild(a);\n",
              "      a.click();\n",
              "      div.remove();\n",
              "    }\n",
              "  "
            ]
          },
          "metadata": {}
        },
        {
          "output_type": "display_data",
          "data": {
            "text/plain": [
              "<IPython.core.display.Javascript object>"
            ],
            "application/javascript": [
              "download(\"download_94f32771-8813-4315-95a7-8c27d22300c7\", \"embedia_project.zip\", 35955)"
            ]
          },
          "metadata": {}
        }
      ],
      "source": [
        "from google.colab import files\n",
        "\n",
        "!zip -r embedia_project.zip 'outputs/mnist_project'\n",
        "files.download('/content/EmbedIA/embedia_project.zip')"
      ]
    }
  ],
  "metadata": {
    "colab": {
      "provenance": []
    },
    "kernelspec": {
      "display_name": "Python 3",
      "language": "python",
      "name": "python3"
    },
    "language_info": {
      "codemirror_mode": {
        "name": "ipython",
        "version": 3
      },
      "file_extension": ".py",
      "mimetype": "text/x-python",
      "name": "python",
      "nbconvert_exporter": "python",
      "pygments_lexer": "ipython3",
      "version": "3.7.6"
    }
  },
  "nbformat": 4,
  "nbformat_minor": 0
}