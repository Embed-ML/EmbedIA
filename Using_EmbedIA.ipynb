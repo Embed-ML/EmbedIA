{
  "cells": [
    {
      "cell_type": "markdown",
      "metadata": {
        "id": "bt0VLZYvwmfD"
      },
      "source": [
        "<div align=\"left\">\n",
        "  <h1>EmbedIA</h1>\n",
        "  <p>EmbedIA is a machine learning framework for developing applications on microcontrollers.</p>\n",
        "</div>"
      ]
    },
    {
      "cell_type": "markdown",
      "metadata": {
        "id": "P9zpfPkcxbtd"
      },
      "source": [
        "## Import framework from Github (run only in Colab)"
      ]
    },
    {
      "cell_type": "code",
      "source": [
        "!pip install larq"
      ],
      "metadata": {
        "id": "VHVRNEBYewqv",
        "outputId": "172382d6-9db6-429f-bb6c-8cdf87c2ec64",
        "colab": {
          "base_uri": "https://localhost:8080/"
        }
      },
      "execution_count": null,
      "outputs": [
        {
          "output_type": "stream",
          "name": "stdout",
          "text": [
            "Looking in indexes: https://pypi.org/simple, https://us-python.pkg.dev/colab-wheels/public/simple/\n",
            "Collecting larq\n",
            "  Downloading larq-0.13.0-py3-none-any.whl (65 kB)\n",
            "\u001b[2K     \u001b[90m━━━━━━━━━━━━━━━━━━━━━━━━━━━━━━━━━━━━━━━━\u001b[0m \u001b[32m65.5/65.5 KB\u001b[0m \u001b[31m1.9 MB/s\u001b[0m eta \u001b[36m0:00:00\u001b[0m\n",
            "\u001b[?25hRequirement already satisfied: packaging>=19.2 in /usr/local/lib/python3.9/dist-packages (from larq) (23.0)\n",
            "Requirement already satisfied: numpy<2.0,>=1.15.4 in /usr/local/lib/python3.9/dist-packages (from larq) (1.22.4)\n",
            "Collecting terminaltables>=3.1.0\n",
            "  Downloading terminaltables-3.1.10-py2.py3-none-any.whl (15 kB)\n",
            "Installing collected packages: terminaltables, larq\n",
            "Successfully installed larq-0.13.0 terminaltables-3.1.10\n"
          ]
        }
      ]
    },
    {
      "cell_type": "code",
      "execution_count": null,
      "metadata": {
        "colab": {
          "base_uri": "https://localhost:8080/"
        },
        "id": "6LT3-lW8o_vt",
        "outputId": "2afe2e6d-a57a-4b7b-8cec-6b99d71d7bba"
      },
      "outputs": [
        {
          "output_type": "stream",
          "name": "stdout",
          "text": [
            "Cloning into 'EmbedIA'...\n",
            "remote: Enumerating objects: 811, done.\u001b[K\n",
            "remote: Counting objects: 100% (811/811), done.\u001b[K\n",
            "remote: Compressing objects: 100% (419/419), done.\u001b[K\n",
            "remote: Total 811 (delta 428), reused 719 (delta 347), pack-reused 0\u001b[K\n",
            "Receiving objects: 100% (811/811), 12.17 MiB | 4.54 MiB/s, done.\n",
            "Resolving deltas: 100% (428/428), done.\n"
          ]
        }
      ],
      "source": [
        "!git clone https://github.com/Embed-ML/EmbedIA.git"
      ]
    },
    {
      "cell_type": "code",
      "execution_count": null,
      "metadata": {
        "colab": {
          "base_uri": "https://localhost:8080/"
        },
        "id": "J9uOnWBJtr0p",
        "outputId": "21ca6433-a61b-49e5-cc8f-f0f75e3b4762"
      },
      "outputs": [
        {
          "output_type": "stream",
          "name": "stdout",
          "text": [
            "/content/EmbedIA\n"
          ]
        }
      ],
      "source": [
        "%cd EmbedIA"
      ]
    },
    {
      "cell_type": "markdown",
      "metadata": {
        "id": "QuRohaVQYgyR"
      },
      "source": [
        "## Load dataset "
      ]
    },
    {
      "cell_type": "code",
      "execution_count": null,
      "metadata": {
        "colab": {
          "base_uri": "https://localhost:8080/"
        },
        "id": "MOZh360UZMYR",
        "outputId": "8305a946-b8b0-46b8-bad7-402e44144f4a"
      },
      "outputs": [
        {
          "output_type": "stream",
          "name": "stdout",
          "text": [
            "x_train.shape (1437, 8, 8, 1)\n",
            "x_test.shape (360, 8, 8, 1)\n"
          ]
        }
      ],
      "source": [
        "import numpy as np\n",
        "from sklearn.datasets import load_digits\n",
        "from sklearn.model_selection import train_test_split\n",
        "\n",
        "# 0 to not apply normalization\n",
        "# 1 for normalization [-0.5, 0.5], \n",
        "# 2 for normalization z score, \n",
        "_normalize = 2 \n",
        "\n",
        "def normalization0dot5(x):\n",
        "    '''\n",
        "        Normalization of values in the range [-0.5; 0.5]\n",
        "        Params:\n",
        "            x: numpy array to be normalized\n",
        "        Return:\n",
        "            x: normalized numpy array\n",
        "    '''\n",
        "    x = x/np.max(x)\n",
        "    x = x-0.5\n",
        "    return x\n",
        "\n",
        "def z_score(X_train, x_test):\n",
        "    '''\n",
        "        Normalization z score, uses mean and standard deviation of train vector\n",
        "        Params:\n",
        "            X_train: array of train numpy to be normalized\n",
        "            x_test: array of test numpy to be normalized\n",
        "        Return:\n",
        "            x_train, x_test: normalized numpy vectors\n",
        "    '''\n",
        "    x_mean= np.mean(X_train)\n",
        "    x_std= np.std(X_train)\n",
        "    \n",
        "    x_train= (X_train-x_mean)/x_std\n",
        "    x_test= (x_test-x_mean)/x_std\n",
        "    return x_train, x_test\n",
        "\n",
        "def load_dataset(_normalize):\n",
        "    '''\n",
        "        Load the sklearn digits dataset, applying the indicated normalization.\n",
        "        Params:\n",
        "            _normalize: normalization to be applied\n",
        "        Return:\n",
        "           X_train, X_test: training set\n",
        "           y_train, y_test: test set\n",
        "    '''\n",
        "\n",
        "    digits = load_digits()\n",
        "    \n",
        "    if _normalize == 1:\n",
        "        digits.images = normalization0dot5(digits.images)\n",
        "\n",
        "    X_train, X_test, y_train, y_test = train_test_split(digits.images , digits.target, test_size=0.2, shuffle=True)\n",
        "    X_train = X_train.reshape(X_train.shape[0], X_train.shape[1], X_train.shape[2], 1)\n",
        "    X_test = X_test.reshape(X_test.shape[0], X_test.shape[1], X_test.shape[2], 1)\n",
        "\n",
        "    if _normalize == 2:\n",
        "        X_train, X_test = z_score(X_train, X_test)\n",
        "\n",
        "    return X_train, X_test, y_train, y_test\n",
        "\n",
        "x_train, x_test, y_train, y_test = load_dataset(_normalize)\n",
        "\n",
        "print('x_train.shape', x_train.shape)\n",
        "print('x_test.shape', x_test.shape)"
      ]
    },
    {
      "cell_type": "markdown",
      "metadata": {
        "id": "OmUZiTEGcADx"
      },
      "source": [
        "## Creating and training a CNN model"
      ]
    },
    {
      "cell_type": "code",
      "execution_count": null,
      "metadata": {
        "colab": {
          "base_uri": "https://localhost:8080/"
        },
        "id": "3b7ZtwtOcXqq",
        "outputId": "1f49578a-917d-4c09-edfd-a8c5715f88a0"
      },
      "outputs": [
        {
          "output_type": "stream",
          "name": "stdout",
          "text": [
            "Model: \"EmbedIA_model\"\n",
            "_________________________________________________________________\n",
            " Layer (type)                Output Shape              Param #   \n",
            "=================================================================\n",
            " conv2d (Conv2D)             (None, 6, 6, 8)           80        \n",
            "                                                                 \n",
            " max_pooling2d (MaxPooling2D  (None, 3, 3, 8)          0         \n",
            " )                                                               \n",
            "                                                                 \n",
            " conv2d_1 (Conv2D)           (None, 2, 2, 16)          528       \n",
            "                                                                 \n",
            " flatten (Flatten)           (None, 64)                0         \n",
            "                                                                 \n",
            " dense (Dense)               (None, 16)                1040      \n",
            "                                                                 \n",
            " dense_1 (Dense)             (None, 10)                170       \n",
            "                                                                 \n",
            "=================================================================\n",
            "Total params: 1,818\n",
            "Trainable params: 1,818\n",
            "Non-trainable params: 0\n",
            "_________________________________________________________________\n"
          ]
        }
      ],
      "source": [
        "from tensorflow.keras.models import Sequential\n",
        "from tensorflow.keras.layers import Conv2D, MaxPooling2D, Flatten, Dense, AveragePooling2D, BatchNormalization\n",
        "\n",
        "def create_model(x_train, y_train, y_test):\n",
        "    '''\n",
        "        Create a model\n",
        "        Input parameters:\n",
        "            x_train: training data\n",
        "            y_train, y_test: labels of the data involved (including test data)\n",
        "\n",
        "        return\n",
        "            model: sequential layers model\n",
        "    '''\n",
        "    classes = max(y_test.max(),y_train.max())+1\n",
        "\n",
        "    model = Sequential(name=\"EmbedIA_model\")\n",
        "\n",
        "    model.add(Conv2D(8, kernel_size=(3, 3), input_shape=x_train[0].shape,activation='relu'))\n",
        "    model.add(MaxPooling2D(pool_size=(2, 2)))\n",
        "    model.add(Conv2D(16, kernel_size=(2, 2),activation='relu'))\n",
        "\n",
        "    model.add(Flatten())\n",
        "    model.add(Dense(16,activation='relu'))\n",
        "    model.add(Dense(classes,activation='softmax'))\n",
        "\n",
        "    model.compile(optimizer='adam', \n",
        "                    loss='sparse_categorical_crossentropy', \n",
        "                    metrics=['acc'])\n",
        "    return model\n",
        "\n",
        "model = create_model(x_train, y_train, y_test)\n",
        "model.summary()"
      ]
    },
    {
      "cell_type": "markdown",
      "metadata": {
        "id": "8dNA75Qmc0zx"
      },
      "source": [
        "### Training"
      ]
    },
    {
      "cell_type": "code",
      "execution_count": null,
      "metadata": {
        "colab": {
          "base_uri": "https://localhost:8080/"
        },
        "id": "dyyEsZKpco9z",
        "outputId": "ebb0bf30-9a00-455f-80ba-955190f45fa1"
      },
      "outputs": [
        {
          "output_type": "stream",
          "name": "stdout",
          "text": [
            "Epoch 1/120\n",
            "45/45 [==============================] - 2s 11ms/step - loss: 2.1837 - acc: 0.2289 - val_loss: 2.0325 - val_acc: 0.3333\n",
            "Epoch 2/120\n",
            "45/45 [==============================] - 0s 6ms/step - loss: 1.7769 - acc: 0.4836 - val_loss: 1.5738 - val_acc: 0.5556\n",
            "Epoch 3/120\n",
            "45/45 [==============================] - 0s 7ms/step - loss: 1.2163 - acc: 0.7196 - val_loss: 0.9774 - val_acc: 0.7694\n",
            "Epoch 4/120\n",
            "45/45 [==============================] - 0s 7ms/step - loss: 0.7703 - acc: 0.8232 - val_loss: 0.6578 - val_acc: 0.8278\n",
            "Epoch 5/120\n",
            "45/45 [==============================] - 0s 8ms/step - loss: 0.5303 - acc: 0.8803 - val_loss: 0.5143 - val_acc: 0.8528\n",
            "Epoch 6/120\n",
            "45/45 [==============================] - 0s 7ms/step - loss: 0.4063 - acc: 0.9012 - val_loss: 0.3760 - val_acc: 0.9000\n",
            "Epoch 7/120\n",
            "45/45 [==============================] - 0s 9ms/step - loss: 0.3222 - acc: 0.9255 - val_loss: 0.3145 - val_acc: 0.9194\n",
            "Epoch 8/120\n",
            "45/45 [==============================] - 0s 8ms/step - loss: 0.2718 - acc: 0.9346 - val_loss: 0.2615 - val_acc: 0.9222\n",
            "Epoch 9/120\n",
            "45/45 [==============================] - 0s 9ms/step - loss: 0.2335 - acc: 0.9422 - val_loss: 0.2329 - val_acc: 0.9389\n",
            "Epoch 10/120\n",
            "45/45 [==============================] - 0s 8ms/step - loss: 0.2027 - acc: 0.9513 - val_loss: 0.2213 - val_acc: 0.9389\n",
            "Epoch 11/120\n",
            "45/45 [==============================] - 0s 8ms/step - loss: 0.1826 - acc: 0.9485 - val_loss: 0.1918 - val_acc: 0.9500\n",
            "Epoch 12/120\n",
            "45/45 [==============================] - 0s 9ms/step - loss: 0.1648 - acc: 0.9589 - val_loss: 0.1734 - val_acc: 0.9528\n",
            "Epoch 13/120\n",
            "45/45 [==============================] - 0s 8ms/step - loss: 0.1445 - acc: 0.9610 - val_loss: 0.1567 - val_acc: 0.9611\n",
            "Epoch 14/120\n",
            "45/45 [==============================] - 0s 9ms/step - loss: 0.1366 - acc: 0.9610 - val_loss: 0.1466 - val_acc: 0.9639\n",
            "Epoch 15/120\n",
            "45/45 [==============================] - 1s 12ms/step - loss: 0.1256 - acc: 0.9652 - val_loss: 0.1476 - val_acc: 0.9667\n",
            "Epoch 16/120\n",
            "45/45 [==============================] - 0s 8ms/step - loss: 0.1185 - acc: 0.9687 - val_loss: 0.1288 - val_acc: 0.9639\n",
            "Epoch 17/120\n",
            "45/45 [==============================] - 0s 9ms/step - loss: 0.1105 - acc: 0.9708 - val_loss: 0.1298 - val_acc: 0.9667\n",
            "Epoch 18/120\n",
            "45/45 [==============================] - 0s 7ms/step - loss: 0.1032 - acc: 0.9722 - val_loss: 0.1204 - val_acc: 0.9667\n",
            "Epoch 19/120\n",
            "45/45 [==============================] - 0s 8ms/step - loss: 0.0944 - acc: 0.9777 - val_loss: 0.1258 - val_acc: 0.9667\n",
            "Epoch 20/120\n",
            "45/45 [==============================] - 0s 9ms/step - loss: 0.0964 - acc: 0.9729 - val_loss: 0.1149 - val_acc: 0.9694\n",
            "Epoch 21/120\n",
            "45/45 [==============================] - 0s 9ms/step - loss: 0.0862 - acc: 0.9777 - val_loss: 0.1109 - val_acc: 0.9722\n",
            "Epoch 22/120\n",
            "45/45 [==============================] - 0s 7ms/step - loss: 0.0845 - acc: 0.9770 - val_loss: 0.1057 - val_acc: 0.9694\n",
            "Epoch 23/120\n",
            "45/45 [==============================] - 0s 9ms/step - loss: 0.0774 - acc: 0.9805 - val_loss: 0.1072 - val_acc: 0.9722\n",
            "Epoch 24/120\n",
            "45/45 [==============================] - 1s 12ms/step - loss: 0.0731 - acc: 0.9826 - val_loss: 0.1042 - val_acc: 0.9722\n",
            "Epoch 25/120\n",
            "45/45 [==============================] - 1s 13ms/step - loss: 0.0663 - acc: 0.9847 - val_loss: 0.0925 - val_acc: 0.9778\n",
            "Epoch 26/120\n",
            "45/45 [==============================] - 1s 12ms/step - loss: 0.0656 - acc: 0.9833 - val_loss: 0.1015 - val_acc: 0.9722\n",
            "Epoch 27/120\n",
            "45/45 [==============================] - 1s 12ms/step - loss: 0.0659 - acc: 0.9840 - val_loss: 0.0868 - val_acc: 0.9806\n",
            "Epoch 28/120\n",
            "45/45 [==============================] - 1s 12ms/step - loss: 0.0621 - acc: 0.9882 - val_loss: 0.0868 - val_acc: 0.9694\n",
            "Epoch 29/120\n",
            "45/45 [==============================] - 0s 10ms/step - loss: 0.0570 - acc: 0.9861 - val_loss: 0.0943 - val_acc: 0.9722\n",
            "Epoch 30/120\n",
            "45/45 [==============================] - 0s 8ms/step - loss: 0.0592 - acc: 0.9861 - val_loss: 0.0969 - val_acc: 0.9694\n",
            "Epoch 31/120\n",
            "45/45 [==============================] - 0s 7ms/step - loss: 0.0576 - acc: 0.9833 - val_loss: 0.0832 - val_acc: 0.9750\n",
            "Epoch 32/120\n",
            "45/45 [==============================] - 0s 7ms/step - loss: 0.0541 - acc: 0.9854 - val_loss: 0.0840 - val_acc: 0.9806\n",
            "Epoch 33/120\n",
            "45/45 [==============================] - 0s 10ms/step - loss: 0.0470 - acc: 0.9903 - val_loss: 0.0794 - val_acc: 0.9806\n",
            "Epoch 34/120\n",
            "45/45 [==============================] - 0s 10ms/step - loss: 0.0436 - acc: 0.9896 - val_loss: 0.0822 - val_acc: 0.9806\n",
            "Epoch 35/120\n",
            "45/45 [==============================] - 0s 8ms/step - loss: 0.0433 - acc: 0.9910 - val_loss: 0.0864 - val_acc: 0.9806\n",
            "Epoch 36/120\n",
            "45/45 [==============================] - 0s 8ms/step - loss: 0.0399 - acc: 0.9903 - val_loss: 0.0798 - val_acc: 0.9833\n",
            "Epoch 37/120\n",
            "45/45 [==============================] - 0s 10ms/step - loss: 0.0362 - acc: 0.9916 - val_loss: 0.0782 - val_acc: 0.9806\n",
            "Epoch 38/120\n",
            "45/45 [==============================] - 1s 12ms/step - loss: 0.0360 - acc: 0.9937 - val_loss: 0.0832 - val_acc: 0.9833\n",
            "Epoch 39/120\n",
            "45/45 [==============================] - 0s 8ms/step - loss: 0.0339 - acc: 0.9944 - val_loss: 0.0778 - val_acc: 0.9806\n",
            "Epoch 40/120\n",
            "45/45 [==============================] - 0s 6ms/step - loss: 0.0332 - acc: 0.9944 - val_loss: 0.0767 - val_acc: 0.9778\n",
            "Epoch 41/120\n",
            "45/45 [==============================] - 0s 4ms/step - loss: 0.0311 - acc: 0.9951 - val_loss: 0.0743 - val_acc: 0.9778\n",
            "Epoch 42/120\n",
            "45/45 [==============================] - 0s 4ms/step - loss: 0.0294 - acc: 0.9965 - val_loss: 0.0734 - val_acc: 0.9833\n",
            "Epoch 43/120\n",
            "45/45 [==============================] - 0s 4ms/step - loss: 0.0289 - acc: 0.9937 - val_loss: 0.0742 - val_acc: 0.9806\n",
            "Epoch 44/120\n",
            "45/45 [==============================] - 0s 4ms/step - loss: 0.0294 - acc: 0.9937 - val_loss: 0.0708 - val_acc: 0.9778\n",
            "Epoch 45/120\n",
            "45/45 [==============================] - 0s 5ms/step - loss: 0.0270 - acc: 0.9958 - val_loss: 0.0836 - val_acc: 0.9778\n",
            "Epoch 46/120\n",
            "45/45 [==============================] - 0s 4ms/step - loss: 0.0239 - acc: 0.9965 - val_loss: 0.0739 - val_acc: 0.9778\n",
            "Epoch 47/120\n",
            "45/45 [==============================] - 0s 5ms/step - loss: 0.0229 - acc: 0.9979 - val_loss: 0.0913 - val_acc: 0.9778\n",
            "Epoch 48/120\n",
            "45/45 [==============================] - 0s 4ms/step - loss: 0.0240 - acc: 0.9951 - val_loss: 0.0918 - val_acc: 0.9667\n",
            "Epoch 49/120\n",
            "45/45 [==============================] - 0s 4ms/step - loss: 0.0216 - acc: 0.9972 - val_loss: 0.0815 - val_acc: 0.9806\n",
            "Epoch 50/120\n",
            "45/45 [==============================] - 0s 4ms/step - loss: 0.0212 - acc: 0.9979 - val_loss: 0.0778 - val_acc: 0.9778\n",
            "Epoch 51/120\n",
            "45/45 [==============================] - 0s 5ms/step - loss: 0.0219 - acc: 0.9951 - val_loss: 0.0779 - val_acc: 0.9806\n",
            "Epoch 52/120\n",
            "45/45 [==============================] - 0s 5ms/step - loss: 0.0192 - acc: 0.9972 - val_loss: 0.0706 - val_acc: 0.9778\n",
            "Epoch 53/120\n",
            "45/45 [==============================] - 0s 4ms/step - loss: 0.0188 - acc: 0.9979 - val_loss: 0.0827 - val_acc: 0.9750\n",
            "Epoch 54/120\n",
            "45/45 [==============================] - 0s 4ms/step - loss: 0.0188 - acc: 0.9965 - val_loss: 0.0829 - val_acc: 0.9778\n",
            "Epoch 55/120\n",
            "45/45 [==============================] - 0s 4ms/step - loss: 0.0162 - acc: 0.9979 - val_loss: 0.0781 - val_acc: 0.9806\n",
            "Epoch 56/120\n",
            "45/45 [==============================] - 0s 4ms/step - loss: 0.0156 - acc: 0.9972 - val_loss: 0.0843 - val_acc: 0.9750\n",
            "Epoch 57/120\n",
            "45/45 [==============================] - 0s 4ms/step - loss: 0.0148 - acc: 0.9986 - val_loss: 0.0768 - val_acc: 0.9778\n",
            "Epoch 58/120\n",
            "45/45 [==============================] - 0s 4ms/step - loss: 0.0150 - acc: 0.9979 - val_loss: 0.0773 - val_acc: 0.9806\n",
            "Epoch 59/120\n",
            "45/45 [==============================] - 0s 4ms/step - loss: 0.0139 - acc: 0.9972 - val_loss: 0.0781 - val_acc: 0.9778\n",
            "Epoch 60/120\n",
            "45/45 [==============================] - 0s 5ms/step - loss: 0.0127 - acc: 0.9979 - val_loss: 0.0800 - val_acc: 0.9806\n",
            "Epoch 61/120\n",
            "45/45 [==============================] - 0s 4ms/step - loss: 0.0132 - acc: 0.9986 - val_loss: 0.0756 - val_acc: 0.9750\n",
            "Epoch 62/120\n",
            "45/45 [==============================] - 0s 4ms/step - loss: 0.0113 - acc: 0.9986 - val_loss: 0.0762 - val_acc: 0.9778\n",
            "Epoch 63/120\n",
            "45/45 [==============================] - 0s 4ms/step - loss: 0.0118 - acc: 0.9979 - val_loss: 0.0918 - val_acc: 0.9750\n",
            "Epoch 64/120\n",
            "45/45 [==============================] - 0s 4ms/step - loss: 0.0110 - acc: 0.9986 - val_loss: 0.0775 - val_acc: 0.9778\n",
            "Epoch 65/120\n",
            "45/45 [==============================] - 0s 4ms/step - loss: 0.0096 - acc: 0.9993 - val_loss: 0.0817 - val_acc: 0.9750\n",
            "Epoch 66/120\n",
            "45/45 [==============================] - 0s 4ms/step - loss: 0.0086 - acc: 1.0000 - val_loss: 0.0784 - val_acc: 0.9778\n",
            "Epoch 67/120\n",
            "45/45 [==============================] - 0s 4ms/step - loss: 0.0090 - acc: 0.9993 - val_loss: 0.0809 - val_acc: 0.9750\n",
            "Epoch 68/120\n",
            "45/45 [==============================] - 0s 5ms/step - loss: 0.0099 - acc: 0.9986 - val_loss: 0.0817 - val_acc: 0.9750\n",
            "Epoch 69/120\n",
            "45/45 [==============================] - 0s 4ms/step - loss: 0.0091 - acc: 0.9993 - val_loss: 0.0696 - val_acc: 0.9806\n",
            "Epoch 70/120\n",
            "45/45 [==============================] - 0s 5ms/step - loss: 0.0084 - acc: 0.9993 - val_loss: 0.0799 - val_acc: 0.9806\n",
            "Epoch 71/120\n",
            "45/45 [==============================] - 0s 7ms/step - loss: 0.0076 - acc: 0.9993 - val_loss: 0.0960 - val_acc: 0.9806\n",
            "Epoch 72/120\n",
            "45/45 [==============================] - 0s 6ms/step - loss: 0.0070 - acc: 1.0000 - val_loss: 0.0752 - val_acc: 0.9778\n",
            "Epoch 73/120\n",
            "45/45 [==============================] - 0s 6ms/step - loss: 0.0070 - acc: 1.0000 - val_loss: 0.0820 - val_acc: 0.9722\n",
            "Epoch 74/120\n",
            "45/45 [==============================] - 0s 7ms/step - loss: 0.0072 - acc: 0.9993 - val_loss: 0.0837 - val_acc: 0.9750\n",
            "Epoch 75/120\n",
            "45/45 [==============================] - 0s 5ms/step - loss: 0.0059 - acc: 1.0000 - val_loss: 0.0779 - val_acc: 0.9778\n",
            "Epoch 76/120\n",
            "45/45 [==============================] - 0s 6ms/step - loss: 0.0061 - acc: 1.0000 - val_loss: 0.0825 - val_acc: 0.9750\n",
            "Epoch 77/120\n",
            "45/45 [==============================] - 0s 6ms/step - loss: 0.0052 - acc: 1.0000 - val_loss: 0.0766 - val_acc: 0.9778\n",
            "Epoch 78/120\n",
            "45/45 [==============================] - 0s 7ms/step - loss: 0.0052 - acc: 1.0000 - val_loss: 0.0816 - val_acc: 0.9750\n",
            "Epoch 79/120\n",
            "45/45 [==============================] - 0s 7ms/step - loss: 0.0053 - acc: 1.0000 - val_loss: 0.0781 - val_acc: 0.9750\n",
            "Epoch 80/120\n",
            "45/45 [==============================] - 0s 5ms/step - loss: 0.0048 - acc: 1.0000 - val_loss: 0.0744 - val_acc: 0.9778\n",
            "Epoch 81/120\n",
            "45/45 [==============================] - 0s 4ms/step - loss: 0.0049 - acc: 1.0000 - val_loss: 0.0885 - val_acc: 0.9750\n",
            "Epoch 82/120\n",
            "45/45 [==============================] - 0s 4ms/step - loss: 0.0044 - acc: 1.0000 - val_loss: 0.0890 - val_acc: 0.9750\n",
            "Epoch 83/120\n",
            "45/45 [==============================] - 0s 4ms/step - loss: 0.0043 - acc: 1.0000 - val_loss: 0.1043 - val_acc: 0.9750\n",
            "Epoch 84/120\n",
            "45/45 [==============================] - 0s 4ms/step - loss: 0.0049 - acc: 1.0000 - val_loss: 0.0992 - val_acc: 0.9750\n",
            "Epoch 85/120\n",
            "45/45 [==============================] - 0s 4ms/step - loss: 0.0042 - acc: 1.0000 - val_loss: 0.0915 - val_acc: 0.9750\n",
            "Epoch 86/120\n",
            "45/45 [==============================] - 0s 4ms/step - loss: 0.0045 - acc: 1.0000 - val_loss: 0.0774 - val_acc: 0.9750\n",
            "Epoch 87/120\n",
            "45/45 [==============================] - 0s 4ms/step - loss: 0.0036 - acc: 1.0000 - val_loss: 0.0981 - val_acc: 0.9750\n",
            "Epoch 88/120\n",
            "45/45 [==============================] - 0s 4ms/step - loss: 0.0035 - acc: 1.0000 - val_loss: 0.0769 - val_acc: 0.9750\n",
            "Epoch 89/120\n",
            "45/45 [==============================] - 0s 4ms/step - loss: 0.0034 - acc: 1.0000 - val_loss: 0.0796 - val_acc: 0.9778\n",
            "Epoch 90/120\n",
            "45/45 [==============================] - 0s 4ms/step - loss: 0.0031 - acc: 1.0000 - val_loss: 0.0884 - val_acc: 0.9722\n",
            "Epoch 91/120\n",
            "45/45 [==============================] - 0s 4ms/step - loss: 0.0034 - acc: 1.0000 - val_loss: 0.0910 - val_acc: 0.9722\n",
            "Epoch 92/120\n",
            "45/45 [==============================] - 0s 4ms/step - loss: 0.0028 - acc: 1.0000 - val_loss: 0.0846 - val_acc: 0.9750\n",
            "Epoch 93/120\n",
            "45/45 [==============================] - 0s 4ms/step - loss: 0.0027 - acc: 1.0000 - val_loss: 0.0866 - val_acc: 0.9722\n",
            "Epoch 94/120\n",
            "45/45 [==============================] - 0s 4ms/step - loss: 0.0025 - acc: 1.0000 - val_loss: 0.0823 - val_acc: 0.9750\n",
            "Epoch 95/120\n",
            "45/45 [==============================] - 0s 5ms/step - loss: 0.0029 - acc: 1.0000 - val_loss: 0.0912 - val_acc: 0.9778\n",
            "Epoch 96/120\n",
            "45/45 [==============================] - 0s 4ms/step - loss: 0.0023 - acc: 1.0000 - val_loss: 0.0976 - val_acc: 0.9750\n",
            "Epoch 97/120\n",
            "45/45 [==============================] - 0s 4ms/step - loss: 0.0027 - acc: 1.0000 - val_loss: 0.0939 - val_acc: 0.9778\n",
            "Epoch 98/120\n",
            "45/45 [==============================] - 0s 5ms/step - loss: 0.0030 - acc: 1.0000 - val_loss: 0.0905 - val_acc: 0.9750\n",
            "Epoch 99/120\n",
            "45/45 [==============================] - 0s 4ms/step - loss: 0.0023 - acc: 1.0000 - val_loss: 0.0875 - val_acc: 0.9722\n",
            "Epoch 100/120\n",
            "45/45 [==============================] - 0s 4ms/step - loss: 0.0021 - acc: 1.0000 - val_loss: 0.0872 - val_acc: 0.9722\n",
            "Epoch 101/120\n",
            "45/45 [==============================] - 0s 4ms/step - loss: 0.0021 - acc: 1.0000 - val_loss: 0.0865 - val_acc: 0.9750\n",
            "Epoch 102/120\n",
            "45/45 [==============================] - 0s 5ms/step - loss: 0.0019 - acc: 1.0000 - val_loss: 0.0925 - val_acc: 0.9722\n",
            "Epoch 103/120\n",
            "45/45 [==============================] - 0s 4ms/step - loss: 0.0018 - acc: 1.0000 - val_loss: 0.1015 - val_acc: 0.9750\n",
            "Epoch 104/120\n",
            "45/45 [==============================] - 0s 4ms/step - loss: 0.0020 - acc: 1.0000 - val_loss: 0.0932 - val_acc: 0.9750\n",
            "Epoch 105/120\n",
            "45/45 [==============================] - 0s 4ms/step - loss: 0.0018 - acc: 1.0000 - val_loss: 0.0854 - val_acc: 0.9750\n",
            "Epoch 106/120\n",
            "45/45 [==============================] - 0s 4ms/step - loss: 0.0017 - acc: 1.0000 - val_loss: 0.0866 - val_acc: 0.9750\n",
            "Epoch 107/120\n",
            "45/45 [==============================] - 0s 4ms/step - loss: 0.0015 - acc: 1.0000 - val_loss: 0.0948 - val_acc: 0.9750\n",
            "Epoch 108/120\n",
            "45/45 [==============================] - 0s 4ms/step - loss: 0.0015 - acc: 1.0000 - val_loss: 0.0920 - val_acc: 0.9750\n",
            "Epoch 109/120\n",
            "45/45 [==============================] - 0s 4ms/step - loss: 0.0014 - acc: 1.0000 - val_loss: 0.0992 - val_acc: 0.9750\n",
            "Epoch 110/120\n",
            "45/45 [==============================] - 0s 4ms/step - loss: 0.0015 - acc: 1.0000 - val_loss: 0.0973 - val_acc: 0.9750\n",
            "Epoch 111/120\n",
            "45/45 [==============================] - 0s 6ms/step - loss: 0.0015 - acc: 1.0000 - val_loss: 0.1063 - val_acc: 0.9722\n",
            "Epoch 112/120\n",
            "45/45 [==============================] - 0s 7ms/step - loss: 0.0014 - acc: 1.0000 - val_loss: 0.0964 - val_acc: 0.9750\n",
            "Epoch 113/120\n",
            "45/45 [==============================] - 0s 6ms/step - loss: 0.0013 - acc: 1.0000 - val_loss: 0.0980 - val_acc: 0.9750\n",
            "Epoch 114/120\n",
            "45/45 [==============================] - 0s 5ms/step - loss: 0.0014 - acc: 1.0000 - val_loss: 0.1021 - val_acc: 0.9750\n",
            "Epoch 115/120\n",
            "45/45 [==============================] - 0s 6ms/step - loss: 0.0012 - acc: 1.0000 - val_loss: 0.0909 - val_acc: 0.9722\n",
            "Epoch 116/120\n",
            "45/45 [==============================] - 0s 6ms/step - loss: 0.0012 - acc: 1.0000 - val_loss: 0.0924 - val_acc: 0.9722\n",
            "Epoch 117/120\n",
            "45/45 [==============================] - 0s 6ms/step - loss: 0.0011 - acc: 1.0000 - val_loss: 0.0886 - val_acc: 0.9750\n",
            "Epoch 118/120\n",
            "45/45 [==============================] - 0s 5ms/step - loss: 0.0012 - acc: 1.0000 - val_loss: 0.1044 - val_acc: 0.9722\n",
            "Epoch 119/120\n",
            "45/45 [==============================] - 0s 6ms/step - loss: 0.0011 - acc: 1.0000 - val_loss: 0.0992 - val_acc: 0.9750\n",
            "Epoch 120/120\n",
            "45/45 [==============================] - 0s 5ms/step - loss: 0.0010 - acc: 1.0000 - val_loss: 0.0955 - val_acc: 0.9750\n"
          ]
        }
      ],
      "source": [
        "epocas = 120\n",
        "lote = 32\n",
        "\n",
        "history = model.fit(x_train, y_train, epochs=epocas, batch_size=lote, validation_data=(x_test, y_test))"
      ]
    },
    {
      "cell_type": "markdown",
      "metadata": {
        "id": "LtRc5CNUdNYY"
      },
      "source": [
        "### Plot history"
      ]
    },
    {
      "cell_type": "code",
      "execution_count": null,
      "metadata": {
        "colab": {
          "base_uri": "https://localhost:8080/",
          "height": 281
        },
        "id": "q0ADZz-vdTo-",
        "outputId": "7082b048-b4d9-4860-ecc3-231c546ac6b4"
      },
      "outputs": [
        {
          "output_type": "display_data",
          "data": {
            "text/plain": [
              "<Figure size 432x288 with 1 Axes>"
            ],
            "image/png": "[encoded data removed]"
          },
          "metadata": {
            "needs_background": "light"
          }
        }
      ],
      "source": [
        "import matplotlib.pyplot as plt\n",
        "\n",
        "plt.plot(history.history['acc'])\n",
        "plt.plot(history.history['val_acc'])\n",
        "plt.title(\"History | val_acc: \"+str(history.history['val_acc'][len(history.history['val_acc'])-1]))\n",
        "plt.show()"
      ]
    },
    {
      "cell_type": "markdown",
      "metadata": {
        "id": "h0TBx3GleDIL"
      },
      "source": [
        "### Save the model"
      ]
    },
    {
      "cell_type": "code",
      "execution_count": null,
      "metadata": {
        "id": "uPzS_SOseHSw"
      },
      "outputs": [],
      "source": [
        "model_name = \"mnist_model.h5\"\n",
        "model.save(\"models/\" + model_name)"
      ]
    },
    {
      "cell_type": "markdown",
      "metadata": {
        "id": "B5rUnwGJxlS9"
      },
      "source": [
        "## Convert model for inference in the microcontroller using EmbedIA"
      ]
    },
    {
      "cell_type": "markdown",
      "metadata": {
        "id": "6qPdjdamllew"
      },
      "source": [
        "### Configuration and execution of the exporter"
      ]
    },
    {
      "cell_type": "code",
      "execution_count": null,
      "metadata": {
        "colab": {
          "base_uri": "https://localhost:8080/"
        },
        "id": "l-ZMFYFEt2hQ",
        "outputId": "533b7856-0e1f-474b-c50b-69e65a07c974"
      },
      "outputs": [
        {
          "output_type": "stream",
          "name": "stdout",
          "text": [
            "Model: \"EmbedIA_model\"\n",
            "_________________________________________________________________\n",
            " Layer (type)                Output Shape              Param #   \n",
            "=================================================================\n",
            " conv2d (Conv2D)             (None, 6, 6, 8)           80        \n",
            "                                                                 \n",
            " max_pooling2d (MaxPooling2D  (None, 3, 3, 8)          0         \n",
            " )                                                               \n",
            "                                                                 \n",
            " conv2d_1 (Conv2D)           (None, 2, 2, 16)          528       \n",
            "                                                                 \n",
            " flatten (Flatten)           (None, 64)                0         \n",
            "                                                                 \n",
            " dense (Dense)               (None, 16)                1040      \n",
            "                                                                 \n",
            " dense_1 (Dense)             (None, 10)                170       \n",
            "                                                                 \n",
            "=================================================================\n",
            "Total params: 1,818\n",
            "Trainable params: 1,818\n",
            "Non-trainable params: 0\n",
            "_________________________________________________________________\n",
            "1/1 [==============================] - 0s 119ms/step\n",
            "[[  0   0   0   0   0   0   0  99   0   0]\n",
            " [  0   0   0   0   0   0   0   0   0  99]\n",
            " [  0   0   0   0   0   0   0  99   0   0]\n",
            " [  0   0   0  99   0   0   0   0   0   0]\n",
            " [  0   0   0  93   0   0   0   0   6   0]\n",
            " [  0   0   0   0   0   0   0  99   0   0]\n",
            " [  0   0   0   0   0   0  99   0   0   0]\n",
            " [  0   0   0   0   0   0   0  99   0   0]\n",
            " [  0   0   0   0   0   0  99   0   0   0]\n",
            " [  0   0   0   0   0   0   0   0  99   0]\n",
            " [  0   0   0   0   0  99   0   0   0   0]\n",
            " [  2   0   0   0   0   0  96   0   0   0]\n",
            " [  0   0   0   0   0   0   0  99   0   0]\n",
            " [  0   0   0   0   0   0   0  99   0   0]\n",
            " [  0   0   0   0   0  99   0   0   0   0]\n",
            " [  0   0   0  99   0   0   0   0   0   0]\n",
            " [  0   0   0   0   0 100   0   0   0   0]\n",
            " [  0   0 100   0   0   0   0   0   0   0]\n",
            " [  9   0  90   0   0   0   0   0   0   0]\n",
            " [  0  99   0   0   0   0   0   0   0   0]]\n",
            "\n",
            "+-------------------+---------------+------------+------------+------+------------+\n",
            "| Layer(activation) | Name          | #Param(NT) |   Shape    | MACs | Size (KiB) |\n",
            "+-------------------+---------------+------------+------------+------+------------+\n",
            "| Conv2D(relu)      | conv2d        |         80 | (6, 6, 8)  | 2592 |     0.219  |\n",
            "| MaxPooling2D      | max_pooling2d |          0 | (3, 3, 8)  |    0 |     0.000  |\n",
            "| Conv2D(relu)      | conv2d_1      |        528 | (2, 2, 16) | 2048 |     1.156  |\n",
            "| Flatten           | flatten       |          0 |   (64,)    |    0 |     0.000  |\n",
            "| Dense(relu)       | dense         |       1040 |   (16,)    | 1024 |     2.094  |\n",
            "| Dense(softmax)    | dense_1       |        170 |   (10,)    |  160 |     0.371  |\n",
            "+-------------------+---------------+------------+------------+------+------------+\n",
            "Total params (NT)....: 1818\n",
            "Total size in KiB....: 3.840\n",
            "Total MACs operations: 5824\n",
            "\n",
            "Project mnist_project exported in outputs/\n",
            "+EmbedIA_model stats--------------------------------------------------------+\n",
            "| Layer          Input prec.         Outputs  # 32-bit  Memory  32-bit MACs |\n",
            "|                      (bit)                       x 1    (kB)              |\n",
            "+---------------------------------------------------------------------------+\n",
            "| conv2d                   -   (-1, 6, 6, 8)        80    0.31         2592 |\n",
            "| max_pooling2d            -   (-1, 3, 3, 8)         0       0            0 |\n",
            "| conv2d_1                 -  (-1, 2, 2, 16)       528    2.06         2048 |\n",
            "| flatten                  -        (-1, 64)         0       0            0 |\n",
            "| dense                    -        (-1, 16)      1040    4.06         1024 |\n",
            "| dense_1                  -        (-1, 10)       170    0.66          160 |\n",
            "+---------------------------------------------------------------------------+\n",
            "| Total                                           1818    7.10         5824 |\n",
            "+---------------------------------------------------------------------------+\n",
            "+EmbedIA_model summary--------------------+\n",
            "| Total params                   1.82 k   |\n",
            "| Trainable params               1.82 k   |\n",
            "| Non-trainable params           0        |\n",
            "| Model size                     7.10 KiB |\n",
            "| Model size (8-bit FP weights)  1.78 KiB |\n",
            "| Float-32 Equivalent            7.10 KiB |\n",
            "| Compression Ratio of Memory    1.00     |\n",
            "| Number of MACs                 5.82 k   |\n",
            "+-----------------------------------------+\n"
          ]
        }
      ],
      "source": [
        "import sys\n",
        "# add parent folder to path in order to find EmbedIA folder\n",
        "sys.path.insert(0, '..')\n",
        "\n",
        "import joblib\n",
        "from tensorflow.keras.models import load_model\n",
        "from embedia.project_generator import ProjectGenerator\n",
        "from embedia.model_generator.project_options import (\n",
        "    ModelDataType,\n",
        "    DebugMode,\n",
        "    ProjectFiles,\n",
        "    ProjectOptions,\n",
        "    ProjectType\n",
        ")\n",
        "\n",
        "\n",
        "OUTPUT_FOLDER = 'outputs/'\n",
        "PROJECT_NAME = 'mnist_project'\n",
        "\n",
        "MODEL_FILE = 'models/mnist_model.h5'\n",
        "\n",
        "model = load_model(MODEL_FILE)\n",
        "\n",
        "model.summary()\n",
        "\n",
        "options = ProjectOptions()\n",
        "\n",
        "# set location of EmbedIA folder\n",
        "options.embedia_folder = '../EmbedIA/embedia'\n",
        "\n",
        "\n",
        "# options.project_type = ProjectType.ARDUINO\n",
        "# options.project_type = ProjectType.C\n",
        "options.project_type = ProjectType.CODEBLOCK\n",
        "# options.project_type = ProjectType.CPP\n",
        "\n",
        "# options.data_type = ModelDataType.FLOAT\n",
        "# options.data_type = ModelDataType.FIXED32\n",
        "options.data_type = ModelDataType.FIXED16\n",
        "# options.data_type = ModelDataType.FIXED8\n",
        "\n",
        "# options.debug_mode = DebugMode.DISCARD\n",
        "# options.debug_mode = DebugMode.DISABLED\n",
        "# options.debug_mode = DebugMode.HEADERS\n",
        "options.debug_mode = DebugMode.DATA\n",
        "\n",
        "samples = x_test[0:20]\n",
        "ids = y_test[0:20]\n",
        "\n",
        "res = model.predict(samples)\n",
        "print((res*100).astype('int'))\n",
        "\n",
        "options.example_data = samples\n",
        "options.example_ids = ids\n",
        "\n",
        "options.files = ProjectFiles.ALL\n",
        "# options.files = {ProjectFiles.MAIN}\n",
        "# options.files = {ProjectFiles.MODEL}\n",
        "# options.files = {ProjectFiles.LIBRARY}\n",
        "\n",
        "# if True, remove output folder and start a clean export\n",
        "options.clean_output = True\n",
        "\n",
        "############# Generate project #############\n",
        "\n",
        "generator = ProjectGenerator(options)\n",
        "generator.create_project(OUTPUT_FOLDER, PROJECT_NAME, model, options)\n",
        "\n",
        "print(\"Project\", PROJECT_NAME, \"exported in\", OUTPUT_FOLDER)\n",
        "\n",
        "import larq\n",
        "larq.models.summary(model)"
      ]
    },
    {
      "cell_type": "markdown",
      "metadata": {
        "id": "mLSr3oIoliLt"
      },
      "source": [
        "### Download generated project (Run only in Colab)"
      ]
    },
    {
      "cell_type": "code",
      "execution_count": null,
      "metadata": {
        "colab": {
          "base_uri": "https://localhost:8080/",
          "height": 243
        },
        "id": "ULespOjpgrDP",
        "outputId": "e72de17e-3afe-4733-9117-04181ca2958b"
      },
      "outputs": [
        {
          "output_type": "stream",
          "name": "stdout",
          "text": [
            "  adding: outputs/mnist_project/ (stored 0%)\n",
            "  adding: outputs/mnist_project/embedia_debug_def.h (deflated 69%)\n",
            "  adding: outputs/mnist_project/embedia_debug.c (deflated 76%)\n",
            "  adding: outputs/mnist_project/fixed.c (deflated 73%)\n",
            "  adding: outputs/mnist_project/example_file.h (deflated 95%)\n",
            "  adding: outputs/mnist_project/embedia.h (deflated 74%)\n",
            "  adding: outputs/mnist_project/fixed.h (deflated 74%)\n",
            "  adding: outputs/mnist_project/main.c (deflated 49%)\n",
            "  adding: outputs/mnist_project/mnist_project.cbp (deflated 74%)\n",
            "  adding: outputs/mnist_project/embedia.c (deflated 79%)\n",
            "  adding: outputs/mnist_project/embedia_model.h (deflated 59%)\n",
            "  adding: outputs/mnist_project/embedia_debug.h (deflated 55%)\n",
            "  adding: outputs/mnist_project/embedia_model.c (deflated 67%)\n"
          ]
        },
        {
          "output_type": "display_data",
          "data": {
            "text/plain": [
              "<IPython.core.display.Javascript object>"
            ],
            "application/javascript": [
              "\n",
              "    async function download(id, filename, size) {\n",
              "      if (!google.colab.kernel.accessAllowed) {\n",
              "        return;\n",
              "      }\n",
              "      const div = document.createElement('div');\n",
              "      const label = document.createElement('label');\n",
              "      label.textContent = `Downloading \"${filename}\": `;\n",
              "      div.appendChild(label);\n",
              "      const progress = document.createElement('progress');\n",
              "      progress.max = size;\n",
              "      div.appendChild(progress);\n",
              "      document.body.appendChild(div);\n",
              "\n",
              "      const buffers = [];\n",
              "      let downloaded = 0;\n",
              "\n",
              "      const channel = await google.colab.kernel.comms.open(id);\n",
              "      // Send a message to notify the kernel that we're ready.\n",
              "      channel.send({})\n",
              "\n",
              "      for await (const message of channel.messages) {\n",
              "        // Send a message to notify the kernel that we're ready.\n",
              "        channel.send({})\n",
              "        if (message.buffers) {\n",
              "          for (const buffer of message.buffers) {\n",
              "            buffers.push(buffer);\n",
              "            downloaded += buffer.byteLength;\n",
              "            progress.value = downloaded;\n",
              "          }\n",
              "        }\n",
              "      }\n",
              "      const blob = new Blob(buffers, {type: 'application/binary'});\n",
              "      const a = document.createElement('a');\n",
              "      a.href = window.URL.createObjectURL(blob);\n",
              "      a.download = filename;\n",
              "      div.appendChild(a);\n",
              "      a.click();\n",
              "      div.remove();\n",
              "    }\n",
              "  "
            ]
          },
          "metadata": {}
        },
        {
          "output_type": "display_data",
          "data": {
            "text/plain": [
              "<IPython.core.display.Javascript object>"
            ],
            "application/javascript": [
              "download(\"download_0bd00306-8e78-420b-8cd9-2f1b22f6faab\", \"embedia_project.zip\", 36846)"
            ]
          },
          "metadata": {}
        }
      ],
      "source": [
        "from google.colab import files\n",
        "\n",
        "!zip -r embedia_project.zip 'outputs/mnist_project'\n",
        "files.download('/content/EmbedIA/embedia_project.zip')"
      ]
    }
  ],
  "metadata": {
    "colab": {
      "provenance": []
    },
    "kernelspec": {
      "display_name": "Python 3",
      "language": "python",
      "name": "python3"
    },
    "language_info": {
      "codemirror_mode": {
        "name": "ipython",
        "version": 3
      },
      "file_extension": ".py",
      "mimetype": "text/x-python",
      "name": "python",
      "nbconvert_exporter": "python",
      "pygments_lexer": "ipython3",
      "version": "3.7.6"
    }
  },
  "nbformat": 4,
  "nbformat_minor": 0
}
