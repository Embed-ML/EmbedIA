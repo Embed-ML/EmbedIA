{
  "cells": [
    {
      "cell_type": "markdown",
      "metadata": {
        "id": "bt0VLZYvwmfD"
      },
      "source": [
        "<div align=\"left\">\n",
        "  <h1>EmbedIA</h1>\n",
        "  <p>EmbedIA is a machine learning framework for developing applications on microcontrollers.</p>\n",
        "</div>"
      ]
    },
    {
      "cell_type": "markdown",
      "metadata": {
        "id": "P9zpfPkcxbtd"
      },
      "source": [
        "## Import framework from Github (run only in Colab)"
      ]
    },
    {
      "cell_type": "code",
      "source": [
        "!pip install larq"
      ],
      "metadata": {
        "id": "VHVRNEBYewqv",
        "outputId": "651b92cd-0ba4-41f0-eb67-19deecc243d7",
        "colab": {
          "base_uri": "https://localhost:8080/"
        }
      },
      "execution_count": 1,
      "outputs": [
        {
          "output_type": "stream",
          "name": "stdout",
          "text": [
            "Looking in indexes: https://pypi.org/simple, https://us-python.pkg.dev/colab-wheels/public/simple/\n",
            "Collecting larq\n",
            "  Downloading larq-0.13.0-py3-none-any.whl (65 kB)\n",
            "\u001b[2K     \u001b[90m━━━━━━━━━━━━━━━━━━━━━━━━━━━━━━━━━━━━━━━━\u001b[0m \u001b[32m65.5/65.5 KB\u001b[0m \u001b[31m1.7 MB/s\u001b[0m eta \u001b[36m0:00:00\u001b[0m\n",
            "\u001b[?25hCollecting terminaltables>=3.1.0\n",
            "  Downloading terminaltables-3.1.10-py2.py3-none-any.whl (15 kB)\n",
            "Requirement already satisfied: packaging>=19.2 in /usr/local/lib/python3.9/dist-packages (from larq) (23.0)\n",
            "Requirement already satisfied: numpy<2.0,>=1.15.4 in /usr/local/lib/python3.9/dist-packages (from larq) (1.22.4)\n",
            "Installing collected packages: terminaltables, larq\n",
            "Successfully installed larq-0.13.0 terminaltables-3.1.10\n"
          ]
        }
      ]
    },
    {
      "cell_type": "code",
      "execution_count": 2,
      "metadata": {
        "colab": {
          "base_uri": "https://localhost:8080/"
        },
        "id": "6LT3-lW8o_vt",
        "outputId": "1ed08bad-adbe-4889-d7bc-c1f9869d5f92"
      },
      "outputs": [
        {
          "output_type": "stream",
          "name": "stdout",
          "text": [
            "Cloning into 'EmbedIA'...\n",
            "remote: Enumerating objects: 815, done.\u001b[K\n",
            "remote: Counting objects: 100% (36/36), done.\u001b[K\n",
            "remote: Compressing objects: 100% (15/15), done.\u001b[K\n",
            "remote: Total 815 (delta 26), reused 21 (delta 21), pack-reused 779\u001b[K\n",
            "Receiving objects: 100% (815/815), 12.22 MiB | 16.38 MiB/s, done.\n",
            "Resolving deltas: 100% (435/435), done.\n"
          ]
        }
      ],
      "source": [
        "!git clone https://github.com/Embed-ML/EmbedIA.git"
      ]
    },
    {
      "cell_type": "code",
      "execution_count": 3,
      "metadata": {
        "colab": {
          "base_uri": "https://localhost:8080/"
        },
        "id": "J9uOnWBJtr0p",
        "outputId": "268a7c3e-04b9-43d1-f42b-52ac21afb812"
      },
      "outputs": [
        {
          "output_type": "stream",
          "name": "stdout",
          "text": [
            "/content/EmbedIA\n"
          ]
        }
      ],
      "source": [
        "%cd EmbedIA"
      ]
    },
    {
      "cell_type": "markdown",
      "metadata": {
        "id": "QuRohaVQYgyR"
      },
      "source": [
        "## Load dataset "
      ]
    },
    {
      "cell_type": "code",
      "execution_count": 4,
      "metadata": {
        "colab": {
          "base_uri": "https://localhost:8080/"
        },
        "id": "MOZh360UZMYR",
        "outputId": "81d79a1f-48d0-45ef-b38d-7bffc3f1cdd1"
      },
      "outputs": [
        {
          "output_type": "stream",
          "name": "stdout",
          "text": [
            "x_train.shape (1437, 8, 8, 1)\n",
            "x_test.shape (360, 8, 8, 1)\n"
          ]
        }
      ],
      "source": [
        "import numpy as np\n",
        "from sklearn.datasets import load_digits\n",
        "from sklearn.model_selection import train_test_split\n",
        "\n",
        "# 0 to not apply normalization\n",
        "# 1 for normalization [-0.5, 0.5], \n",
        "# 2 for normalization z score, \n",
        "_normalize = 2 \n",
        "\n",
        "def normalization0dot5(x):\n",
        "    '''\n",
        "        Normalization of values in the range [-0.5; 0.5]\n",
        "        Params:\n",
        "            x: numpy array to be normalized\n",
        "        Return:\n",
        "            x: normalized numpy array\n",
        "    '''\n",
        "    x = x/np.max(x)\n",
        "    x = x-0.5\n",
        "    return x\n",
        "\n",
        "def z_score(X_train, x_test):\n",
        "    '''\n",
        "        Normalization z score, uses mean and standard deviation of train vector\n",
        "        Params:\n",
        "            X_train: array of train numpy to be normalized\n",
        "            x_test: array of test numpy to be normalized\n",
        "        Return:\n",
        "            x_train, x_test: normalized numpy vectors\n",
        "    '''\n",
        "    x_mean= np.mean(X_train)\n",
        "    x_std= np.std(X_train)\n",
        "    \n",
        "    x_train= (X_train-x_mean)/x_std\n",
        "    x_test= (x_test-x_mean)/x_std\n",
        "    return x_train, x_test\n",
        "\n",
        "def load_dataset(_normalize):\n",
        "    '''\n",
        "        Load the sklearn digits dataset, applying the indicated normalization.\n",
        "        Params:\n",
        "            _normalize: normalization to be applied\n",
        "        Return:\n",
        "           X_train, X_test: training set\n",
        "           y_train, y_test: test set\n",
        "    '''\n",
        "\n",
        "    digits = load_digits()\n",
        "    \n",
        "    if _normalize == 1:\n",
        "        digits.images = normalization0dot5(digits.images)\n",
        "\n",
        "    X_train, X_test, y_train, y_test = train_test_split(digits.images , digits.target, test_size=0.2, shuffle=True)\n",
        "    X_train = X_train.reshape(X_train.shape[0], X_train.shape[1], X_train.shape[2], 1)\n",
        "    X_test = X_test.reshape(X_test.shape[0], X_test.shape[1], X_test.shape[2], 1)\n",
        "\n",
        "    if _normalize == 2:\n",
        "        X_train, X_test = z_score(X_train, X_test)\n",
        "\n",
        "    return X_train, X_test, y_train, y_test\n",
        "\n",
        "x_train, x_test, y_train, y_test = load_dataset(_normalize)\n",
        "\n",
        "print('x_train.shape', x_train.shape)\n",
        "print('x_test.shape', x_test.shape)"
      ]
    },
    {
      "cell_type": "markdown",
      "metadata": {
        "id": "OmUZiTEGcADx"
      },
      "source": [
        "## Creating and training a CNN model"
      ]
    },
    {
      "cell_type": "code",
      "execution_count": 5,
      "metadata": {
        "colab": {
          "base_uri": "https://localhost:8080/"
        },
        "id": "3b7ZtwtOcXqq",
        "outputId": "c1c4ac69-ba95-47b5-8504-ead35ce33ceb"
      },
      "outputs": [
        {
          "output_type": "stream",
          "name": "stdout",
          "text": [
            "Model: \"EmbedIA_model\"\n",
            "_________________________________________________________________\n",
            " Layer (type)                Output Shape              Param #   \n",
            "=================================================================\n",
            " conv2d (Conv2D)             (None, 6, 6, 8)           80        \n",
            "                                                                 \n",
            " max_pooling2d (MaxPooling2D  (None, 3, 3, 8)          0         \n",
            " )                                                               \n",
            "                                                                 \n",
            " conv2d_1 (Conv2D)           (None, 2, 2, 16)          528       \n",
            "                                                                 \n",
            " flatten (Flatten)           (None, 64)                0         \n",
            "                                                                 \n",
            " dense (Dense)               (None, 16)                1040      \n",
            "                                                                 \n",
            " dense_1 (Dense)             (None, 10)                170       \n",
            "                                                                 \n",
            "=================================================================\n",
            "Total params: 1,818\n",
            "Trainable params: 1,818\n",
            "Non-trainable params: 0\n",
            "_________________________________________________________________\n"
          ]
        }
      ],
      "source": [
        "from tensorflow.keras.models import Sequential\n",
        "from tensorflow.keras.layers import Conv2D, MaxPooling2D, Flatten, Dense, AveragePooling2D, BatchNormalization\n",
        "\n",
        "def create_model(x_train, y_train, y_test):\n",
        "    '''\n",
        "        Create a model\n",
        "        Input parameters:\n",
        "            x_train: training data\n",
        "            y_train, y_test: labels of the data involved (including test data)\n",
        "\n",
        "        return\n",
        "            model: sequential layers model\n",
        "    '''\n",
        "    classes = max(y_test.max(),y_train.max())+1\n",
        "\n",
        "    model = Sequential(name=\"EmbedIA_model\")\n",
        "\n",
        "    model.add(Conv2D(8, kernel_size=(3, 3), input_shape=x_train[0].shape,activation='relu'))\n",
        "    model.add(MaxPooling2D(pool_size=(2, 2)))\n",
        "    model.add(Conv2D(16, kernel_size=(2, 2),activation='relu'))\n",
        "\n",
        "    model.add(Flatten())\n",
        "    model.add(Dense(16,activation='relu'))\n",
        "    model.add(Dense(classes,activation='softmax'))\n",
        "\n",
        "    model.compile(optimizer='adam', \n",
        "                    loss='sparse_categorical_crossentropy', \n",
        "                    metrics=['acc'])\n",
        "    return model\n",
        "\n",
        "model = create_model(x_train, y_train, y_test)\n",
        "model.summary()"
      ]
    },
    {
      "cell_type": "markdown",
      "metadata": {
        "id": "8dNA75Qmc0zx"
      },
      "source": [
        "### Training"
      ]
    },
    {
      "cell_type": "code",
      "execution_count": 6,
      "metadata": {
        "colab": {
          "base_uri": "https://localhost:8080/"
        },
        "id": "dyyEsZKpco9z",
        "outputId": "d918ca72-359a-4f58-e142-a7756f973d56"
      },
      "outputs": [
        {
          "output_type": "stream",
          "name": "stdout",
          "text": [
            "Epoch 1/120\n",
            "45/45 [==============================] - 3s 18ms/step - loss: 2.1828 - acc: 0.2916 - val_loss: 1.9998 - val_acc: 0.3806\n",
            "Epoch 2/120\n",
            "45/45 [==============================] - 0s 8ms/step - loss: 1.8156 - acc: 0.4537 - val_loss: 1.5741 - val_acc: 0.5694\n",
            "Epoch 3/120\n",
            "45/45 [==============================] - 0s 8ms/step - loss: 1.3183 - acc: 0.6799 - val_loss: 1.0747 - val_acc: 0.7444\n",
            "Epoch 4/120\n",
            "45/45 [==============================] - 0s 10ms/step - loss: 0.8629 - acc: 0.8051 - val_loss: 0.6949 - val_acc: 0.8333\n",
            "Epoch 5/120\n",
            "45/45 [==============================] - 0s 8ms/step - loss: 0.5842 - acc: 0.8539 - val_loss: 0.4997 - val_acc: 0.8917\n",
            "Epoch 6/120\n",
            "45/45 [==============================] - 0s 10ms/step - loss: 0.4323 - acc: 0.8782 - val_loss: 0.3947 - val_acc: 0.9250\n",
            "Epoch 7/120\n",
            "45/45 [==============================] - 0s 10ms/step - loss: 0.3437 - acc: 0.9061 - val_loss: 0.3121 - val_acc: 0.9361\n",
            "Epoch 8/120\n",
            "45/45 [==============================] - 0s 9ms/step - loss: 0.2804 - acc: 0.9186 - val_loss: 0.3043 - val_acc: 0.9250\n",
            "Epoch 9/120\n",
            "45/45 [==============================] - 0s 11ms/step - loss: 0.2451 - acc: 0.9304 - val_loss: 0.2393 - val_acc: 0.9472\n",
            "Epoch 10/120\n",
            "45/45 [==============================] - 0s 10ms/step - loss: 0.2108 - acc: 0.9422 - val_loss: 0.2247 - val_acc: 0.9500\n",
            "Epoch 11/120\n",
            "45/45 [==============================] - 0s 11ms/step - loss: 0.1850 - acc: 0.9582 - val_loss: 0.1946 - val_acc: 0.9639\n",
            "Epoch 12/120\n",
            "45/45 [==============================] - 0s 10ms/step - loss: 0.1695 - acc: 0.9562 - val_loss: 0.1774 - val_acc: 0.9611\n",
            "Epoch 13/120\n",
            "45/45 [==============================] - 0s 8ms/step - loss: 0.1522 - acc: 0.9631 - val_loss: 0.1652 - val_acc: 0.9639\n",
            "Epoch 14/120\n",
            "45/45 [==============================] - 1s 13ms/step - loss: 0.1377 - acc: 0.9680 - val_loss: 0.1577 - val_acc: 0.9667\n",
            "Epoch 15/120\n",
            "45/45 [==============================] - 1s 13ms/step - loss: 0.1261 - acc: 0.9722 - val_loss: 0.1698 - val_acc: 0.9583\n",
            "Epoch 16/120\n",
            "45/45 [==============================] - 1s 15ms/step - loss: 0.1160 - acc: 0.9715 - val_loss: 0.1448 - val_acc: 0.9694\n",
            "Epoch 17/120\n",
            "45/45 [==============================] - 0s 11ms/step - loss: 0.1098 - acc: 0.9694 - val_loss: 0.1397 - val_acc: 0.9722\n",
            "Epoch 18/120\n",
            "45/45 [==============================] - 1s 13ms/step - loss: 0.1043 - acc: 0.9743 - val_loss: 0.1269 - val_acc: 0.9722\n",
            "Epoch 19/120\n",
            "45/45 [==============================] - 1s 12ms/step - loss: 0.0956 - acc: 0.9736 - val_loss: 0.1317 - val_acc: 0.9639\n",
            "Epoch 20/120\n",
            "45/45 [==============================] - 0s 9ms/step - loss: 0.0877 - acc: 0.9798 - val_loss: 0.1328 - val_acc: 0.9694\n",
            "Epoch 21/120\n",
            "45/45 [==============================] - 0s 11ms/step - loss: 0.0876 - acc: 0.9763 - val_loss: 0.1202 - val_acc: 0.9694\n",
            "Epoch 22/120\n",
            "45/45 [==============================] - 0s 10ms/step - loss: 0.0779 - acc: 0.9798 - val_loss: 0.1564 - val_acc: 0.9583\n",
            "Epoch 23/120\n",
            "45/45 [==============================] - 0s 9ms/step - loss: 0.0759 - acc: 0.9833 - val_loss: 0.1250 - val_acc: 0.9722\n",
            "Epoch 24/120\n",
            "45/45 [==============================] - 1s 12ms/step - loss: 0.0684 - acc: 0.9819 - val_loss: 0.1160 - val_acc: 0.9722\n",
            "Epoch 25/120\n",
            "45/45 [==============================] - 0s 7ms/step - loss: 0.0652 - acc: 0.9826 - val_loss: 0.1429 - val_acc: 0.9556\n",
            "Epoch 26/120\n",
            "45/45 [==============================] - 0s 8ms/step - loss: 0.0640 - acc: 0.9847 - val_loss: 0.1144 - val_acc: 0.9722\n",
            "Epoch 27/120\n",
            "45/45 [==============================] - 0s 9ms/step - loss: 0.0623 - acc: 0.9833 - val_loss: 0.1190 - val_acc: 0.9694\n",
            "Epoch 28/120\n",
            "45/45 [==============================] - 0s 10ms/step - loss: 0.0555 - acc: 0.9861 - val_loss: 0.1039 - val_acc: 0.9750\n",
            "Epoch 29/120\n",
            "45/45 [==============================] - 0s 8ms/step - loss: 0.0540 - acc: 0.9861 - val_loss: 0.1179 - val_acc: 0.9722\n",
            "Epoch 30/120\n",
            "45/45 [==============================] - 0s 9ms/step - loss: 0.0520 - acc: 0.9868 - val_loss: 0.1077 - val_acc: 0.9778\n",
            "Epoch 31/120\n",
            "45/45 [==============================] - 0s 5ms/step - loss: 0.0479 - acc: 0.9882 - val_loss: 0.1078 - val_acc: 0.9722\n",
            "Epoch 32/120\n",
            "45/45 [==============================] - 0s 4ms/step - loss: 0.0494 - acc: 0.9889 - val_loss: 0.1088 - val_acc: 0.9722\n",
            "Epoch 33/120\n",
            "45/45 [==============================] - 0s 4ms/step - loss: 0.0473 - acc: 0.9861 - val_loss: 0.1047 - val_acc: 0.9750\n",
            "Epoch 34/120\n",
            "45/45 [==============================] - 0s 4ms/step - loss: 0.0422 - acc: 0.9903 - val_loss: 0.1180 - val_acc: 0.9694\n",
            "Epoch 35/120\n",
            "45/45 [==============================] - 0s 4ms/step - loss: 0.0435 - acc: 0.9882 - val_loss: 0.0954 - val_acc: 0.9806\n",
            "Epoch 36/120\n",
            "45/45 [==============================] - 0s 5ms/step - loss: 0.0377 - acc: 0.9903 - val_loss: 0.1040 - val_acc: 0.9806\n",
            "Epoch 37/120\n",
            "45/45 [==============================] - 0s 4ms/step - loss: 0.0373 - acc: 0.9923 - val_loss: 0.1002 - val_acc: 0.9806\n",
            "Epoch 38/120\n",
            "45/45 [==============================] - 0s 4ms/step - loss: 0.0357 - acc: 0.9930 - val_loss: 0.0995 - val_acc: 0.9806\n",
            "Epoch 39/120\n",
            "45/45 [==============================] - 0s 4ms/step - loss: 0.0324 - acc: 0.9937 - val_loss: 0.1059 - val_acc: 0.9778\n",
            "Epoch 40/120\n",
            "45/45 [==============================] - 0s 4ms/step - loss: 0.0369 - acc: 0.9910 - val_loss: 0.0980 - val_acc: 0.9806\n",
            "Epoch 41/120\n",
            "45/45 [==============================] - 0s 6ms/step - loss: 0.0305 - acc: 0.9944 - val_loss: 0.1083 - val_acc: 0.9750\n",
            "Epoch 42/120\n",
            "45/45 [==============================] - 0s 4ms/step - loss: 0.0294 - acc: 0.9923 - val_loss: 0.1146 - val_acc: 0.9722\n",
            "Epoch 43/120\n",
            "45/45 [==============================] - 0s 5ms/step - loss: 0.0272 - acc: 0.9944 - val_loss: 0.1046 - val_acc: 0.9750\n",
            "Epoch 44/120\n",
            "45/45 [==============================] - 0s 4ms/step - loss: 0.0265 - acc: 0.9958 - val_loss: 0.1073 - val_acc: 0.9750\n",
            "Epoch 45/120\n",
            "45/45 [==============================] - 0s 5ms/step - loss: 0.0239 - acc: 0.9958 - val_loss: 0.1053 - val_acc: 0.9750\n",
            "Epoch 46/120\n",
            "45/45 [==============================] - 0s 5ms/step - loss: 0.0220 - acc: 0.9979 - val_loss: 0.1034 - val_acc: 0.9778\n",
            "Epoch 47/120\n",
            "45/45 [==============================] - 0s 4ms/step - loss: 0.0240 - acc: 0.9958 - val_loss: 0.1009 - val_acc: 0.9750\n",
            "Epoch 48/120\n",
            "45/45 [==============================] - 0s 5ms/step - loss: 0.0220 - acc: 0.9958 - val_loss: 0.1082 - val_acc: 0.9722\n",
            "Epoch 49/120\n",
            "45/45 [==============================] - 0s 5ms/step - loss: 0.0207 - acc: 0.9972 - val_loss: 0.1113 - val_acc: 0.9750\n",
            "Epoch 50/120\n",
            "45/45 [==============================] - 0s 5ms/step - loss: 0.0196 - acc: 0.9979 - val_loss: 0.0872 - val_acc: 0.9833\n",
            "Epoch 51/120\n",
            "45/45 [==============================] - 0s 5ms/step - loss: 0.0195 - acc: 0.9972 - val_loss: 0.0993 - val_acc: 0.9750\n",
            "Epoch 52/120\n",
            "45/45 [==============================] - 0s 4ms/step - loss: 0.0187 - acc: 0.9965 - val_loss: 0.0963 - val_acc: 0.9833\n",
            "Epoch 53/120\n",
            "45/45 [==============================] - 0s 4ms/step - loss: 0.0192 - acc: 0.9958 - val_loss: 0.0981 - val_acc: 0.9833\n",
            "Epoch 54/120\n",
            "45/45 [==============================] - 0s 4ms/step - loss: 0.0147 - acc: 0.9986 - val_loss: 0.1054 - val_acc: 0.9750\n",
            "Epoch 55/120\n",
            "45/45 [==============================] - 0s 8ms/step - loss: 0.0163 - acc: 0.9972 - val_loss: 0.0987 - val_acc: 0.9833\n",
            "Epoch 56/120\n",
            "45/45 [==============================] - 0s 7ms/step - loss: 0.0153 - acc: 0.9993 - val_loss: 0.0990 - val_acc: 0.9778\n",
            "Epoch 57/120\n",
            "45/45 [==============================] - 0s 6ms/step - loss: 0.0152 - acc: 0.9986 - val_loss: 0.1015 - val_acc: 0.9750\n",
            "Epoch 58/120\n",
            "45/45 [==============================] - 0s 7ms/step - loss: 0.0132 - acc: 1.0000 - val_loss: 0.1262 - val_acc: 0.9722\n",
            "Epoch 59/120\n",
            "45/45 [==============================] - 0s 7ms/step - loss: 0.0135 - acc: 1.0000 - val_loss: 0.1008 - val_acc: 0.9806\n",
            "Epoch 60/120\n",
            "45/45 [==============================] - 0s 6ms/step - loss: 0.0126 - acc: 0.9986 - val_loss: 0.0993 - val_acc: 0.9833\n",
            "Epoch 61/120\n",
            "45/45 [==============================] - 0s 8ms/step - loss: 0.0123 - acc: 0.9993 - val_loss: 0.0990 - val_acc: 0.9750\n",
            "Epoch 62/120\n",
            "45/45 [==============================] - 0s 7ms/step - loss: 0.0110 - acc: 0.9993 - val_loss: 0.0952 - val_acc: 0.9861\n",
            "Epoch 63/120\n",
            "45/45 [==============================] - 0s 7ms/step - loss: 0.0114 - acc: 1.0000 - val_loss: 0.0934 - val_acc: 0.9806\n",
            "Epoch 64/120\n",
            "45/45 [==============================] - 0s 5ms/step - loss: 0.0091 - acc: 1.0000 - val_loss: 0.0919 - val_acc: 0.9833\n",
            "Epoch 65/120\n",
            "45/45 [==============================] - 0s 6ms/step - loss: 0.0106 - acc: 1.0000 - val_loss: 0.0917 - val_acc: 0.9861\n",
            "Epoch 66/120\n",
            "45/45 [==============================] - 0s 5ms/step - loss: 0.0095 - acc: 1.0000 - val_loss: 0.0944 - val_acc: 0.9833\n",
            "Epoch 67/120\n",
            "45/45 [==============================] - 0s 4ms/step - loss: 0.0085 - acc: 1.0000 - val_loss: 0.0994 - val_acc: 0.9806\n",
            "Epoch 68/120\n",
            "45/45 [==============================] - 0s 6ms/step - loss: 0.0085 - acc: 0.9993 - val_loss: 0.0885 - val_acc: 0.9861\n",
            "Epoch 69/120\n",
            "45/45 [==============================] - 0s 7ms/step - loss: 0.0080 - acc: 1.0000 - val_loss: 0.1010 - val_acc: 0.9806\n",
            "Epoch 70/120\n",
            "45/45 [==============================] - 0s 5ms/step - loss: 0.0085 - acc: 1.0000 - val_loss: 0.1083 - val_acc: 0.9806\n",
            "Epoch 71/120\n",
            "45/45 [==============================] - 0s 7ms/step - loss: 0.0082 - acc: 0.9993 - val_loss: 0.0962 - val_acc: 0.9861\n",
            "Epoch 72/120\n",
            "45/45 [==============================] - 0s 7ms/step - loss: 0.0074 - acc: 1.0000 - val_loss: 0.0933 - val_acc: 0.9861\n",
            "Epoch 73/120\n",
            "45/45 [==============================] - 0s 4ms/step - loss: 0.0074 - acc: 1.0000 - val_loss: 0.0969 - val_acc: 0.9889\n",
            "Epoch 74/120\n",
            "45/45 [==============================] - 0s 4ms/step - loss: 0.0067 - acc: 1.0000 - val_loss: 0.0953 - val_acc: 0.9833\n",
            "Epoch 75/120\n",
            "45/45 [==============================] - 0s 4ms/step - loss: 0.0069 - acc: 0.9993 - val_loss: 0.0968 - val_acc: 0.9806\n",
            "Epoch 76/120\n",
            "45/45 [==============================] - 0s 4ms/step - loss: 0.0065 - acc: 1.0000 - val_loss: 0.1013 - val_acc: 0.9806\n",
            "Epoch 77/120\n",
            "45/45 [==============================] - 0s 8ms/step - loss: 0.0056 - acc: 1.0000 - val_loss: 0.0957 - val_acc: 0.9833\n",
            "Epoch 78/120\n",
            "45/45 [==============================] - 0s 8ms/step - loss: 0.0056 - acc: 1.0000 - val_loss: 0.1020 - val_acc: 0.9833\n",
            "Epoch 79/120\n",
            "45/45 [==============================] - 1s 13ms/step - loss: 0.0053 - acc: 1.0000 - val_loss: 0.1019 - val_acc: 0.9750\n",
            "Epoch 80/120\n",
            "45/45 [==============================] - 1s 11ms/step - loss: 0.0052 - acc: 1.0000 - val_loss: 0.1020 - val_acc: 0.9806\n",
            "Epoch 81/120\n",
            "45/45 [==============================] - 1s 12ms/step - loss: 0.0055 - acc: 1.0000 - val_loss: 0.1119 - val_acc: 0.9778\n",
            "Epoch 82/120\n",
            "45/45 [==============================] - 1s 11ms/step - loss: 0.0049 - acc: 1.0000 - val_loss: 0.0991 - val_acc: 0.9806\n",
            "Epoch 83/120\n",
            "45/45 [==============================] - 0s 10ms/step - loss: 0.0046 - acc: 1.0000 - val_loss: 0.1016 - val_acc: 0.9833\n",
            "Epoch 84/120\n",
            "45/45 [==============================] - 1s 15ms/step - loss: 0.0042 - acc: 1.0000 - val_loss: 0.1029 - val_acc: 0.9778\n",
            "Epoch 85/120\n",
            "45/45 [==============================] - 0s 5ms/step - loss: 0.0049 - acc: 1.0000 - val_loss: 0.1199 - val_acc: 0.9750\n",
            "Epoch 86/120\n",
            "45/45 [==============================] - 0s 5ms/step - loss: 0.0041 - acc: 1.0000 - val_loss: 0.1069 - val_acc: 0.9806\n",
            "Epoch 87/120\n",
            "45/45 [==============================] - 0s 4ms/step - loss: 0.0041 - acc: 1.0000 - val_loss: 0.1089 - val_acc: 0.9833\n",
            "Epoch 88/120\n",
            "45/45 [==============================] - 0s 5ms/step - loss: 0.0040 - acc: 1.0000 - val_loss: 0.1064 - val_acc: 0.9833\n",
            "Epoch 89/120\n",
            "45/45 [==============================] - 0s 5ms/step - loss: 0.0036 - acc: 1.0000 - val_loss: 0.0998 - val_acc: 0.9861\n",
            "Epoch 90/120\n",
            "45/45 [==============================] - 0s 5ms/step - loss: 0.0034 - acc: 1.0000 - val_loss: 0.1017 - val_acc: 0.9833\n",
            "Epoch 91/120\n",
            "45/45 [==============================] - 0s 4ms/step - loss: 0.0034 - acc: 1.0000 - val_loss: 0.1028 - val_acc: 0.9833\n",
            "Epoch 92/120\n",
            "45/45 [==============================] - 0s 5ms/step - loss: 0.0036 - acc: 1.0000 - val_loss: 0.1050 - val_acc: 0.9833\n",
            "Epoch 93/120\n",
            "45/45 [==============================] - 0s 6ms/step - loss: 0.0034 - acc: 1.0000 - val_loss: 0.1143 - val_acc: 0.9750\n",
            "Epoch 94/120\n",
            "45/45 [==============================] - 0s 5ms/step - loss: 0.0028 - acc: 1.0000 - val_loss: 0.1098 - val_acc: 0.9806\n",
            "Epoch 95/120\n",
            "45/45 [==============================] - 0s 5ms/step - loss: 0.0026 - acc: 1.0000 - val_loss: 0.1053 - val_acc: 0.9833\n",
            "Epoch 96/120\n",
            "45/45 [==============================] - 0s 5ms/step - loss: 0.0028 - acc: 1.0000 - val_loss: 0.1115 - val_acc: 0.9806\n",
            "Epoch 97/120\n",
            "45/45 [==============================] - 0s 8ms/step - loss: 0.0031 - acc: 1.0000 - val_loss: 0.1108 - val_acc: 0.9806\n",
            "Epoch 98/120\n",
            "45/45 [==============================] - 0s 8ms/step - loss: 0.0032 - acc: 1.0000 - val_loss: 0.1072 - val_acc: 0.9778\n",
            "Epoch 99/120\n",
            "45/45 [==============================] - 0s 7ms/step - loss: 0.0026 - acc: 1.0000 - val_loss: 0.1079 - val_acc: 0.9861\n",
            "Epoch 100/120\n",
            "45/45 [==============================] - 0s 7ms/step - loss: 0.0022 - acc: 1.0000 - val_loss: 0.1059 - val_acc: 0.9833\n",
            "Epoch 101/120\n",
            "45/45 [==============================] - 0s 7ms/step - loss: 0.0030 - acc: 1.0000 - val_loss: 0.1097 - val_acc: 0.9806\n",
            "Epoch 102/120\n",
            "45/45 [==============================] - 0s 6ms/step - loss: 0.0022 - acc: 1.0000 - val_loss: 0.1062 - val_acc: 0.9889\n",
            "Epoch 103/120\n",
            "45/45 [==============================] - 0s 7ms/step - loss: 0.0020 - acc: 1.0000 - val_loss: 0.1060 - val_acc: 0.9889\n",
            "Epoch 104/120\n",
            "45/45 [==============================] - 0s 7ms/step - loss: 0.0019 - acc: 1.0000 - val_loss: 0.1040 - val_acc: 0.9889\n",
            "Epoch 105/120\n",
            "45/45 [==============================] - 0s 7ms/step - loss: 0.0018 - acc: 1.0000 - val_loss: 0.1080 - val_acc: 0.9861\n",
            "Epoch 106/120\n",
            "45/45 [==============================] - 0s 4ms/step - loss: 0.0019 - acc: 1.0000 - val_loss: 0.1040 - val_acc: 0.9861\n",
            "Epoch 107/120\n",
            "45/45 [==============================] - 0s 4ms/step - loss: 0.0018 - acc: 1.0000 - val_loss: 0.1102 - val_acc: 0.9861\n",
            "Epoch 108/120\n",
            "45/45 [==============================] - 0s 5ms/step - loss: 0.0017 - acc: 1.0000 - val_loss: 0.1052 - val_acc: 0.9861\n",
            "Epoch 109/120\n",
            "45/45 [==============================] - 0s 6ms/step - loss: 0.0017 - acc: 1.0000 - val_loss: 0.1101 - val_acc: 0.9806\n",
            "Epoch 110/120\n",
            "45/45 [==============================] - 0s 5ms/step - loss: 0.0016 - acc: 1.0000 - val_loss: 0.1146 - val_acc: 0.9806\n",
            "Epoch 111/120\n",
            "45/45 [==============================] - 0s 5ms/step - loss: 0.0016 - acc: 1.0000 - val_loss: 0.1053 - val_acc: 0.9889\n",
            "Epoch 112/120\n",
            "45/45 [==============================] - 0s 5ms/step - loss: 0.0015 - acc: 1.0000 - val_loss: 0.1094 - val_acc: 0.9833\n",
            "Epoch 113/120\n",
            "45/45 [==============================] - 0s 5ms/step - loss: 0.0014 - acc: 1.0000 - val_loss: 0.1128 - val_acc: 0.9833\n",
            "Epoch 114/120\n",
            "45/45 [==============================] - 0s 4ms/step - loss: 0.0015 - acc: 1.0000 - val_loss: 0.1087 - val_acc: 0.9861\n",
            "Epoch 115/120\n",
            "45/45 [==============================] - 0s 4ms/step - loss: 0.0015 - acc: 1.0000 - val_loss: 0.1080 - val_acc: 0.9861\n",
            "Epoch 116/120\n",
            "45/45 [==============================] - 0s 4ms/step - loss: 0.0013 - acc: 1.0000 - val_loss: 0.1098 - val_acc: 0.9861\n",
            "Epoch 117/120\n",
            "45/45 [==============================] - 0s 4ms/step - loss: 0.0012 - acc: 1.0000 - val_loss: 0.1154 - val_acc: 0.9806\n",
            "Epoch 118/120\n",
            "45/45 [==============================] - 0s 4ms/step - loss: 0.0013 - acc: 1.0000 - val_loss: 0.1094 - val_acc: 0.9861\n",
            "Epoch 119/120\n",
            "45/45 [==============================] - 0s 6ms/step - loss: 0.0012 - acc: 1.0000 - val_loss: 0.1120 - val_acc: 0.9833\n",
            "Epoch 120/120\n",
            "45/45 [==============================] - 0s 5ms/step - loss: 0.0011 - acc: 1.0000 - val_loss: 0.1118 - val_acc: 0.9889\n"
          ]
        }
      ],
      "source": [
        "epocas = 120\n",
        "lote = 32\n",
        "\n",
        "history = model.fit(x_train, y_train, epochs=epocas, batch_size=lote, validation_data=(x_test, y_test))"
      ]
    },
    {
      "cell_type": "markdown",
      "metadata": {
        "id": "LtRc5CNUdNYY"
      },
      "source": [
        "### Plot history"
      ]
    },
    {
      "cell_type": "code",
      "execution_count": 7,
      "metadata": {
        "colab": {
          "base_uri": "https://localhost:8080/",
          "height": 281
        },
        "id": "q0ADZz-vdTo-",
        "outputId": "b9daafeb-e5e0-4f13-c708-0620c54ce082"
      },
      "outputs": [
        {
          "output_type": "display_data",
          "data": {
            "text/plain": [
              "<Figure size 432x288 with 1 Axes>"
            ],
            "image/png": "[encoded data removed]"
          },
          "metadata": {
            "needs_background": "light"
          }
        }
      ],
      "source": [
        "import matplotlib.pyplot as plt\n",
        "\n",
        "plt.plot(history.history['acc'])\n",
        "plt.plot(history.history['val_acc'])\n",
        "plt.title(\"History | val_acc: \"+str(history.history['val_acc'][len(history.history['val_acc'])-1]))\n",
        "plt.show()"
      ]
    },
    {
      "cell_type": "markdown",
      "metadata": {
        "id": "h0TBx3GleDIL"
      },
      "source": [
        "### Save the model"
      ]
    },
    {
      "cell_type": "code",
      "execution_count": 8,
      "metadata": {
        "id": "uPzS_SOseHSw"
      },
      "outputs": [],
      "source": [
        "model_name = \"mnist_model.h5\"\n",
        "model.save(\"models/\" + model_name)"
      ]
    },
    {
      "cell_type": "markdown",
      "metadata": {
        "id": "B5rUnwGJxlS9"
      },
      "source": [
        "## Convert model for inference in the microcontroller using EmbedIA"
      ]
    },
    {
      "cell_type": "code",
      "source": [
        "#@title Configuration and execution of the exporter { display-mode: \"form\" }\n",
        "\n",
        "import sys\n",
        "# add parent folder to path in order to find EmbedIA folder\n",
        "sys.path.insert(0, '..')\n",
        "\n",
        "import joblib\n",
        "from tensorflow.keras.models import load_model\n",
        "from embedia.project_generator import ProjectGenerator\n",
        "from embedia.model_generator.project_options import (\n",
        "    ModelDataType,\n",
        "    DebugMode,\n",
        "    ProjectFiles,\n",
        "    ProjectOptions,\n",
        "    ProjectType\n",
        ")\n",
        "\n",
        "#@markdown ---\n",
        "#@markdown ###Export adjustment\n",
        "\n",
        "OUTPUT_FOLDER = 'outputs/' #@param {type:\"string\"}\n",
        "PROJECT_NAME = 'mnist_project' #@param {type:\"string\"}\n",
        "\n",
        "MODEL_FILE = 'models/mnist_model.h5' #@param {type:\"string\"}\n",
        "model = load_model(MODEL_FILE)\n",
        "# model.summary()\n",
        "\n",
        "options = ProjectOptions()\n",
        "\n",
        "# set location of EmbedIA folder\n",
        "embedia_folder = '../EmbedIA/embedia'\n",
        "options.embedia_folder = embedia_folder\n",
        "\n",
        "#@markdown ---\n",
        "#@markdown ###Configuration of the project to export\n",
        "\n",
        "# set project type\n",
        "project_type_dict = {\n",
        "    \"ARDUINO\": ProjectType.ARDUINO, \n",
        "    \"C\": ProjectType.C,\n",
        "    \"CODEBLOCK\": ProjectType.CODEBLOCK,\n",
        "    \"CPP\": ProjectType.CPP,\n",
        "}\n",
        "project_type = \"CODEBLOCK\" #@param [\"ARDUINO\", \"C\", \"CODEBLOCK\", \"CPP\"]\n",
        "options.project_type = project_type_dict[project_type]\n",
        "\n",
        "# set data type\n",
        "data_type_dict = {\n",
        "    \"FLOAT\": ModelDataType.FLOAT, \n",
        "    \"FIXED32\": ModelDataType.FIXED32,\n",
        "    \"FIXED16\": ModelDataType.FIXED16,\n",
        "    \"FIXED8\": ModelDataType.FIXED8,\n",
        "    \"BINARY\": ModelDataType.BINARY,\n",
        "}\n",
        "data_type = \"FIXED16\" #@param [\"FLOAT\", \"FIXED32\", \"FIXED16\", \"FIXED8\", \"BINARY\"]\n",
        "options.data_type = data_type_dict[data_type]\n",
        "\n",
        "# set debug mode\n",
        "debug_mode_dict = {\n",
        "    \"DISCARD\": DebugMode.DISCARD, \n",
        "    \"DISABLED\": DebugMode.DISABLED,\n",
        "    \"HEADERS\": DebugMode.HEADERS,\n",
        "    \"DATA\": DebugMode.DATA,\n",
        "}\n",
        "debug_mode = \"DATA\" #@param [\"DISCARD\", \"DISABLED\", \"HEADERS\", \"DATA\"]\n",
        "options.debug_mode = debug_mode_dict[debug_mode]\n",
        "\n",
        "# set which files to export\n",
        "files_export_dict = {\n",
        "    \"ALL\": ProjectFiles.ALL, \n",
        "    \"MAIN\": {ProjectFiles.MAIN},\n",
        "    \"MODEL\": {ProjectFiles.MODEL},\n",
        "    \"LIBRARY\": {ProjectFiles.LIBRARY},\n",
        "}\n",
        "files_export = \"ALL\" #@param [\"ALL\", \"MAIN\", \"MODEL\", \"LIBRARY\"]\n",
        "options.files = files_export_dict[files_export]\n",
        "\n",
        "# examples to export\n",
        "samples = x_test[0:10]\n",
        "ids = y_test[0:10]\n",
        "\n",
        "res = model.predict(samples)\n",
        "print((res*100).astype('int'))\n",
        "\n",
        "options.example_data = samples\n",
        "options.example_ids = ids\n",
        "\n",
        "#@markdown if True, remove output folder and start a clean export:\n",
        "clean_output = True #@param {type:\"boolean\"}\n",
        "options.clean_output = clean_output\n",
        "#@markdown ---\n",
        "\n",
        "############# Generate project #############\n",
        "\n",
        "generator = ProjectGenerator(options)\n",
        "generator.create_project(OUTPUT_FOLDER, PROJECT_NAME, model, options)\n",
        "\n",
        "print(\"Project\", PROJECT_NAME, \"exported in\", OUTPUT_FOLDER,'\\n\\n')\n",
        "\n",
        "import larq\n",
        "larq.models.summary(model)"
      ],
      "metadata": {
        "colab": {
          "base_uri": "https://localhost:8080/"
        },
        "id": "ZhG3zKBxHFOg",
        "outputId": "e3d72e18-9031-40fe-dab5-eba2e0410082"
      },
      "execution_count": 14,
      "outputs": [
        {
          "output_type": "stream",
          "name": "stderr",
          "text": [
            "WARNING:tensorflow:5 out of the last 5 calls to <function Model.make_predict_function.<locals>.predict_function at 0x7fab8ccea430> triggered tf.function retracing. Tracing is expensive and the excessive number of tracings could be due to (1) creating @tf.function repeatedly in a loop, (2) passing tensors with different shapes, (3) passing Python objects instead of tensors. For (1), please define your @tf.function outside of the loop. For (2), @tf.function has reduce_retracing=True option that can avoid unnecessary retracing. For (3), please refer to https://www.tensorflow.org/guide/function#controlling_retracing and https://www.tensorflow.org/api_docs/python/tf/function for  more details.\n"
          ]
        },
        {
          "output_type": "stream",
          "name": "stdout",
          "text": [
            "1/1 [==============================] - 0s 110ms/step\n",
            "[[  0   0  99   0   0   0   0   0   0   0]\n",
            " [  0   0   0   0   0  99   0   0   0   0]\n",
            " [  0   0   0   0   0   0   0   0   0  99]\n",
            " [  0   0   0   0   0   0   0   0   0  99]\n",
            " [  0   0   0   0   0   0   0  99   0   0]\n",
            " [  0   0   0   0   0   0   0  99   0   0]\n",
            " [  0   0  99   0   0   0   0   0   0   0]\n",
            " [  0   0   0   0   0   0   0  99   0   0]\n",
            " [  0   0   0   0 100   0   0   0   0   0]\n",
            " [  0   0   0   0   0   0 100   0   0   0]]\n",
            "\n",
            "+-------------------+---------------+------------+------------+------+------------+\n",
            "| Layer(activation) | Name          | #Param(NT) |   Shape    | MACs | Size (KiB) |\n",
            "+-------------------+---------------+------------+------------+------+------------+\n",
            "| Conv2D(relu)      | conv2d        |         80 | (6, 6, 8)  | 2592 |     0.219  |\n",
            "| MaxPooling2D      | max_pooling2d |          0 | (3, 3, 8)  |    0 |     0.000  |\n",
            "| Conv2D(relu)      | conv2d_1      |        528 | (2, 2, 16) | 2048 |     1.156  |\n",
            "| Flatten           | flatten       |          0 |   (64,)    |    0 |     0.000  |\n",
            "| Dense(relu)       | dense         |       1040 |   (16,)    | 1024 |     2.094  |\n",
            "| Dense(softmax)    | dense_1       |        170 |   (10,)    |  160 |     0.371  |\n",
            "+-------------------+---------------+------------+------------+------+------------+\n",
            "Total params (NT)....: 1818\n",
            "Total size in KiB....: 3.840\n",
            "Total MACs operations: 5824\n",
            "\n",
            "Project mnist_project exported in outputs/ \n",
            "\n",
            "\n",
            "+EmbedIA_model stats--------------------------------------------------------+\n",
            "| Layer          Input prec.         Outputs  # 32-bit  Memory  32-bit MACs |\n",
            "|                      (bit)                       x 1    (kB)              |\n",
            "+---------------------------------------------------------------------------+\n",
            "| conv2d                   -   (-1, 6, 6, 8)        80    0.31         2592 |\n",
            "| max_pooling2d            -   (-1, 3, 3, 8)         0       0            0 |\n",
            "| conv2d_1                 -  (-1, 2, 2, 16)       528    2.06         2048 |\n",
            "| flatten                  -        (-1, 64)         0       0            0 |\n",
            "| dense                    -        (-1, 16)      1040    4.06         1024 |\n",
            "| dense_1                  -        (-1, 10)       170    0.66          160 |\n",
            "+---------------------------------------------------------------------------+\n",
            "| Total                                           1818    7.10         5824 |\n",
            "+---------------------------------------------------------------------------+\n",
            "+EmbedIA_model summary--------------------+\n",
            "| Total params                   1.82 k   |\n",
            "| Trainable params               1.82 k   |\n",
            "| Non-trainable params           0        |\n",
            "| Model size                     7.10 KiB |\n",
            "| Model size (8-bit FP weights)  1.78 KiB |\n",
            "| Float-32 Equivalent            7.10 KiB |\n",
            "| Compression Ratio of Memory    1.00     |\n",
            "| Number of MACs                 5.82 k   |\n",
            "+-----------------------------------------+\n"
          ]
        }
      ]
    },
    {
      "cell_type": "markdown",
      "metadata": {
        "id": "mLSr3oIoliLt"
      },
      "source": [
        "### Download generated project (Run only in Colab)"
      ]
    },
    {
      "cell_type": "code",
      "execution_count": 15,
      "metadata": {
        "colab": {
          "base_uri": "https://localhost:8080/",
          "height": 243
        },
        "id": "ULespOjpgrDP",
        "outputId": "83502c14-4984-4899-e40f-bd3851a3c23a"
      },
      "outputs": [
        {
          "output_type": "stream",
          "name": "stdout",
          "text": [
            "updating: outputs/mnist_project/ (stored 0%)\n",
            "updating: outputs/mnist_project/embedia_debug_def.h (deflated 69%)\n",
            "updating: outputs/mnist_project/embedia_debug.c (deflated 76%)\n",
            "updating: outputs/mnist_project/fixed.c (deflated 73%)\n",
            "updating: outputs/mnist_project/example_file.h (deflated 94%)\n",
            "updating: outputs/mnist_project/embedia.h (deflated 74%)\n",
            "updating: outputs/mnist_project/fixed.h (deflated 74%)\n",
            "updating: outputs/mnist_project/main.c (deflated 49%)\n",
            "updating: outputs/mnist_project/mnist_project.cbp (deflated 74%)\n",
            "updating: outputs/mnist_project/embedia.c (deflated 79%)\n",
            "updating: outputs/mnist_project/embedia_model.h (deflated 59%)\n",
            "updating: outputs/mnist_project/embedia_debug.h (deflated 55%)\n",
            "updating: outputs/mnist_project/embedia_model.c (deflated 67%)\n"
          ]
        },
        {
          "output_type": "display_data",
          "data": {
            "text/plain": [
              "<IPython.core.display.Javascript object>"
            ],
            "application/javascript": [
              "\n",
              "    async function download(id, filename, size) {\n",
              "      if (!google.colab.kernel.accessAllowed) {\n",
              "        return;\n",
              "      }\n",
              "      const div = document.createElement('div');\n",
              "      const label = document.createElement('label');\n",
              "      label.textContent = `Downloading \"${filename}\": `;\n",
              "      div.appendChild(label);\n",
              "      const progress = document.createElement('progress');\n",
              "      progress.max = size;\n",
              "      div.appendChild(progress);\n",
              "      document.body.appendChild(div);\n",
              "\n",
              "      const buffers = [];\n",
              "      let downloaded = 0;\n",
              "\n",
              "      const channel = await google.colab.kernel.comms.open(id);\n",
              "      // Send a message to notify the kernel that we're ready.\n",
              "      channel.send({})\n",
              "\n",
              "      for await (const message of channel.messages) {\n",
              "        // Send a message to notify the kernel that we're ready.\n",
              "        channel.send({})\n",
              "        if (message.buffers) {\n",
              "          for (const buffer of message.buffers) {\n",
              "            buffers.push(buffer);\n",
              "            downloaded += buffer.byteLength;\n",
              "            progress.value = downloaded;\n",
              "          }\n",
              "        }\n",
              "      }\n",
              "      const blob = new Blob(buffers, {type: 'application/binary'});\n",
              "      const a = document.createElement('a');\n",
              "      a.href = window.URL.createObjectURL(blob);\n",
              "      a.download = filename;\n",
              "      div.appendChild(a);\n",
              "      a.click();\n",
              "      div.remove();\n",
              "    }\n",
              "  "
            ]
          },
          "metadata": {}
        },
        {
          "output_type": "display_data",
          "data": {
            "text/plain": [
              "<IPython.core.display.Javascript object>"
            ],
            "application/javascript": [
              "download(\"download_6b113613-2e5e-455a-90b5-92840a62e639\", \"embedia_project.zip\", 35984)"
            ]
          },
          "metadata": {}
        }
      ],
      "source": [
        "from google.colab import files\n",
        "\n",
        "!zip -r embedia_project.zip 'outputs/mnist_project'\n",
        "files.download('/content/EmbedIA/embedia_project.zip')"
      ]
    }
  ],
  "metadata": {
    "colab": {
      "provenance": []
    },
    "kernelspec": {
      "display_name": "Python 3",
      "language": "python",
      "name": "python3"
    },
    "language_info": {
      "codemirror_mode": {
        "name": "ipython",
        "version": 3
      },
      "file_extension": ".py",
      "mimetype": "text/x-python",
      "name": "python",
      "nbconvert_exporter": "python",
      "pygments_lexer": "ipython3",
      "version": "3.7.6"
    }
  },
  "nbformat": 4,
  "nbformat_minor": 0
}
