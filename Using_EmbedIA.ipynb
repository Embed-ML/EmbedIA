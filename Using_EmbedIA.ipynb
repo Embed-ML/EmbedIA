{
 "cells": [
  {
   "cell_type": "markdown",
   "metadata": {
    "id": "bt0VLZYvwmfD"
   },
   "source": [
    "<div align=\"left\">\n",
    "  <h1>EmbedIA</h1>\n",
    "  <p>EmbedIA is a machine learning framework for developing applications on microcontrollers.</p>\n",
    "</div>"
   ]
  },
  {
   "cell_type": "markdown",
   "metadata": {
    "id": "P9zpfPkcxbtd"
   },
   "source": [
    "## Import framework from Github (Run only in Colab)"
   ]
  },
  {
   "cell_type": "code",
   "execution_count": null,
   "metadata": {
    "colab": {
     "base_uri": "https://localhost:8080/"
    },
    "id": "6LT3-lW8o_vt",
    "outputId": "9b0dfa51-ecc8-46e1-8104-93627e09905b"
   },
   "outputs": [
    {
     "name": "stdout",
     "output_type": "stream",
     "text": [
      "Cloning into 'EmbedIA'...\n",
      "remote: Enumerating objects: 84, done.\u001b[K\n",
      "remote: Counting objects: 100% (84/84), done.\u001b[K\n",
      "remote: Compressing objects: 100% (58/58), done.\u001b[K\n",
      "remote: Total 84 (delta 24), reused 81 (delta 24), pack-reused 0\u001b[K\n",
      "Unpacking objects: 100% (84/84), done.\n"
     ]
    }
   ],
   "source": [
    "!git clone https://github.com/Embed-ML/EmbedIA.git"
   ]
  },
  {
   "cell_type": "code",
   "execution_count": null,
   "metadata": {
    "colab": {
     "base_uri": "https://localhost:8080/"
    },
    "id": "J9uOnWBJtr0p",
    "outputId": "985d7ee6-5380-4484-a578-ffff2f51a32b"
   },
   "outputs": [
    {
     "name": "stdout",
     "output_type": "stream",
     "text": [
      "/content/EmbedIA\n"
     ]
    }
   ],
   "source": [
    "%cd EmbedIA"
   ]
  },
  {
   "cell_type": "markdown",
   "metadata": {
    "id": "QuRohaVQYgyR"
   },
   "source": [
    "## Load dataset "
   ]
  },
  {
   "cell_type": "code",
   "execution_count": 31,
   "metadata": {
    "colab": {
     "base_uri": "https://localhost:8080/"
    },
    "id": "MOZh360UZMYR",
    "outputId": "2346961e-eb25-40ec-f1be-d25ae356d3d2"
   },
   "outputs": [
    {
     "name": "stdout",
     "output_type": "stream",
     "text": [
      "x_train.shape (1437, 8, 8, 1)\n",
      "x_test.shape (360, 8, 8, 1)\n"
     ]
    }
   ],
   "source": [
    "import numpy as np\n",
    "from sklearn.datasets import load_digits\n",
    "from sklearn.model_selection import train_test_split\n",
    "\n",
    "# 0 to not apply normalization\n",
    "# 1 for normalization [-0.5, 0.5], \n",
    "# 2 for normalization z score, \n",
    "_normalize = 2 \n",
    "\n",
    "def normalization0dot5(x):\n",
    "    '''\n",
    "        Normalization of values in the range [-0.5; 0.5]\n",
    "        Params:\n",
    "            x: numpy array to be normalized\n",
    "        Return:\n",
    "            x: normalized numpy array\n",
    "    '''\n",
    "    x = x/np.max(x)\n",
    "    x = x-0.5\n",
    "    return x\n",
    "\n",
    "def z_score(X_train, x_test):\n",
    "    '''\n",
    "        Normalization z score, uses mean and standard deviation of train vector\n",
    "        Params:\n",
    "            X_train: array of train numpy to be normalized\n",
    "            x_test: array of test numpy to be normalized\n",
    "        Return:\n",
    "            x_train, x_test: normalized numpy vectors\n",
    "    '''\n",
    "    x_mean= np.mean(X_train)\n",
    "    x_std= np.std(X_train)\n",
    "    \n",
    "    x_train= (X_train-x_mean)/x_std\n",
    "    x_test= (x_test-x_mean)/x_std\n",
    "    return x_train, x_test\n",
    "\n",
    "def load_dataset(_normalize):\n",
    "    '''\n",
    "        Load the sklearn digits dataset, applying the indicated normalization.\n",
    "        Params:\n",
    "            _normalize: normalization to be applied\n",
    "        Return:\n",
    "           X_train, X_test: training set\n",
    "           y_train, y_test: test set\n",
    "    '''\n",
    "\n",
    "    digits = load_digits()\n",
    "    \n",
    "    if _normalize == 1:\n",
    "        digits.images = normalization0dot5(digits.images)\n",
    "\n",
    "    X_train, X_test, y_train, y_test = train_test_split(digits.images , digits.target, test_size=0.2, shuffle=True)\n",
    "    X_train = X_train.reshape(X_train.shape[0], X_train.shape[1], X_train.shape[2], 1)\n",
    "    X_test = X_test.reshape(X_test.shape[0], X_test.shape[1], X_test.shape[2], 1)\n",
    "\n",
    "    if _normalize == 2:\n",
    "        X_train, X_test = z_score(X_train, X_test)\n",
    "\n",
    "    return X_train, X_test, y_train, y_test\n",
    "\n",
    "x_train, x_test, y_train, y_test = load_dataset(_normalize)\n",
    "\n",
    "print('x_train.shape', x_train.shape)\n",
    "print('x_test.shape', x_test.shape)"
   ]
  },
  {
   "cell_type": "markdown",
   "metadata": {
    "id": "OmUZiTEGcADx"
   },
   "source": [
    "## Creating and training a CNN model"
   ]
  },
  {
   "cell_type": "code",
   "execution_count": 32,
   "metadata": {
    "colab": {
     "base_uri": "https://localhost:8080/"
    },
    "id": "3b7ZtwtOcXqq",
    "outputId": "6c9a24b2-730d-4000-814e-253407317bb8"
   },
   "outputs": [
    {
     "name": "stdout",
     "output_type": "stream",
     "text": [
      "Model: \"EmbedIA_model\"\n",
      "_________________________________________________________________\n",
      " Layer (type)                Output Shape              Param #   \n",
      "=================================================================\n",
      " conv2d_11 (Conv2D)          (None, 6, 6, 8)           80        \n",
      "                                                                 \n",
      " max_pooling2d_6 (MaxPooling  (None, 3, 3, 8)          0         \n",
      " 2D)                                                             \n",
      "                                                                 \n",
      " conv2d_12 (Conv2D)          (None, 2, 2, 16)          528       \n",
      "                                                                 \n",
      " flatten_3 (Flatten)         (None, 64)                0         \n",
      "                                                                 \n",
      " dense_8 (Dense)             (None, 16)                1040      \n",
      "                                                                 \n",
      " dense_9 (Dense)             (None, 10)                170       \n",
      "                                                                 \n",
      "=================================================================\n",
      "Total params: 1,818\n",
      "Trainable params: 1,818\n",
      "Non-trainable params: 0\n",
      "_________________________________________________________________\n"
     ]
    }
   ],
   "source": [
    "from tensorflow.keras.models import Sequential\n",
    "from tensorflow.keras.layers import Conv2D, MaxPooling2D, Flatten, Dense, AveragePooling2D, BatchNormalization\n",
    "\n",
    "def create_model(x_train, y_train, y_test):\n",
    "    '''\n",
    "        Create a model\n",
    "        Input parameters:\n",
    "            x_train: training data\n",
    "            y_train, y_test: labels of the data involved (including test data)\n",
    "\n",
    "        return\n",
    "            model: sequential layers model\n",
    "    '''\n",
    "    classes = max(y_test.max(),y_train.max())+1\n",
    "\n",
    "    model = Sequential(name=\"EmbedIA_model\")\n",
    "\n",
    "    model.add(Conv2D(8, kernel_size=(3, 3), input_shape=x_train[0].shape,activation='relu'))\n",
    "    model.add(MaxPooling2D(pool_size=(2, 2)))\n",
    "    model.add(Conv2D(16, kernel_size=(2, 2),activation='relu'))\n",
    "\n",
    "    model.add(Flatten())\n",
    "    model.add(Dense(16,activation='relu'))\n",
    "    model.add(Dense(classes,activation='softmax'))\n",
    "\n",
    "    model.compile(optimizer='adam', \n",
    "                    loss='sparse_categorical_crossentropy', \n",
    "                    metrics=['acc'])\n",
    "    return model\n",
    "\n",
    "model = create_model(x_train, y_train, y_test)\n",
    "model.summary()"
   ]
  },
  {
   "cell_type": "markdown",
   "metadata": {
    "id": "8dNA75Qmc0zx"
   },
   "source": [
    "### Training"
   ]
  },
  {
   "cell_type": "code",
   "execution_count": 33,
   "metadata": {
    "colab": {
     "base_uri": "https://localhost:8080/"
    },
    "id": "dyyEsZKpco9z",
    "outputId": "12f331ea-d31d-46f8-b02f-cebeb00b9073"
   },
   "outputs": [
    {
     "name": "stdout",
     "output_type": "stream",
     "text": [
      "Epoch 1/120\n",
      "45/45 [==============================] - 1s 7ms/step - loss: 2.1278 - acc: 0.2526 - val_loss: 1.9205 - val_acc: 0.4222\n",
      "Epoch 2/120\n",
      "45/45 [==============================] - 0s 3ms/step - loss: 1.6615 - acc: 0.5567 - val_loss: 1.3175 - val_acc: 0.6583\n",
      "Epoch 3/120\n",
      "45/45 [==============================] - 0s 4ms/step - loss: 1.0627 - acc: 0.7286 - val_loss: 0.7685 - val_acc: 0.8194\n",
      "Epoch 4/120\n",
      "45/45 [==============================] - 0s 4ms/step - loss: 0.6746 - acc: 0.8344 - val_loss: 0.5206 - val_acc: 0.8667\n",
      "Epoch 5/120\n",
      "45/45 [==============================] - 0s 4ms/step - loss: 0.4892 - acc: 0.8754 - val_loss: 0.4011 - val_acc: 0.8917\n",
      "Epoch 6/120\n",
      "45/45 [==============================] - 0s 4ms/step - loss: 0.3822 - acc: 0.9026 - val_loss: 0.3210 - val_acc: 0.9167\n",
      "Epoch 7/120\n",
      "45/45 [==============================] - 0s 4ms/step - loss: 0.3097 - acc: 0.9172 - val_loss: 0.2688 - val_acc: 0.9361\n",
      "Epoch 8/120\n",
      "45/45 [==============================] - 0s 4ms/step - loss: 0.2591 - acc: 0.9339 - val_loss: 0.2371 - val_acc: 0.9361\n",
      "Epoch 9/120\n",
      "45/45 [==============================] - 0s 4ms/step - loss: 0.2252 - acc: 0.9429 - val_loss: 0.2279 - val_acc: 0.9306\n",
      "Epoch 10/120\n",
      "45/45 [==============================] - 0s 4ms/step - loss: 0.2057 - acc: 0.9422 - val_loss: 0.1938 - val_acc: 0.9528\n",
      "Epoch 11/120\n",
      "45/45 [==============================] - 0s 4ms/step - loss: 0.1793 - acc: 0.9457 - val_loss: 0.1873 - val_acc: 0.9472\n",
      "Epoch 12/120\n",
      "45/45 [==============================] - 0s 4ms/step - loss: 0.1598 - acc: 0.9576 - val_loss: 0.1582 - val_acc: 0.9583\n",
      "Epoch 13/120\n",
      "45/45 [==============================] - 0s 4ms/step - loss: 0.1457 - acc: 0.9596 - val_loss: 0.1584 - val_acc: 0.9500\n",
      "Epoch 14/120\n",
      "45/45 [==============================] - 0s 4ms/step - loss: 0.1398 - acc: 0.9638 - val_loss: 0.1351 - val_acc: 0.9639\n",
      "Epoch 15/120\n",
      "45/45 [==============================] - 0s 4ms/step - loss: 0.1217 - acc: 0.9673 - val_loss: 0.1492 - val_acc: 0.9500\n",
      "Epoch 16/120\n",
      "45/45 [==============================] - 0s 4ms/step - loss: 0.1194 - acc: 0.9708 - val_loss: 0.1259 - val_acc: 0.9639\n",
      "Epoch 17/120\n",
      "45/45 [==============================] - 0s 4ms/step - loss: 0.1061 - acc: 0.9729 - val_loss: 0.1187 - val_acc: 0.9639\n",
      "Epoch 18/120\n",
      "45/45 [==============================] - 0s 4ms/step - loss: 0.1000 - acc: 0.9694 - val_loss: 0.1233 - val_acc: 0.9583\n",
      "Epoch 19/120\n",
      "45/45 [==============================] - 0s 4ms/step - loss: 0.0944 - acc: 0.9749 - val_loss: 0.1114 - val_acc: 0.9667\n",
      "Epoch 20/120\n",
      "45/45 [==============================] - 0s 4ms/step - loss: 0.0848 - acc: 0.9791 - val_loss: 0.1043 - val_acc: 0.9667\n",
      "Epoch 21/120\n",
      "45/45 [==============================] - 0s 4ms/step - loss: 0.0786 - acc: 0.9805 - val_loss: 0.0967 - val_acc: 0.9667\n",
      "Epoch 22/120\n",
      "45/45 [==============================] - 0s 4ms/step - loss: 0.0777 - acc: 0.9840 - val_loss: 0.1074 - val_acc: 0.9667\n",
      "Epoch 23/120\n",
      "45/45 [==============================] - 0s 4ms/step - loss: 0.0700 - acc: 0.9812 - val_loss: 0.0943 - val_acc: 0.9722\n",
      "Epoch 24/120\n",
      "45/45 [==============================] - 0s 5ms/step - loss: 0.0681 - acc: 0.9819 - val_loss: 0.0877 - val_acc: 0.9694\n",
      "Epoch 25/120\n",
      "45/45 [==============================] - 0s 3ms/step - loss: 0.0648 - acc: 0.9833 - val_loss: 0.1048 - val_acc: 0.9639\n",
      "Epoch 26/120\n",
      "45/45 [==============================] - 0s 4ms/step - loss: 0.0632 - acc: 0.9840 - val_loss: 0.0825 - val_acc: 0.9722\n",
      "Epoch 27/120\n",
      "45/45 [==============================] - 0s 4ms/step - loss: 0.0565 - acc: 0.9861 - val_loss: 0.0801 - val_acc: 0.9694\n",
      "Epoch 28/120\n",
      "45/45 [==============================] - 0s 4ms/step - loss: 0.0537 - acc: 0.9875 - val_loss: 0.0901 - val_acc: 0.9667\n",
      "Epoch 29/120\n",
      "45/45 [==============================] - 0s 3ms/step - loss: 0.0488 - acc: 0.9889 - val_loss: 0.0817 - val_acc: 0.9667\n",
      "Epoch 30/120\n",
      "45/45 [==============================] - 0s 3ms/step - loss: 0.0448 - acc: 0.9916 - val_loss: 0.0830 - val_acc: 0.9667\n",
      "Epoch 31/120\n",
      "45/45 [==============================] - 0s 4ms/step - loss: 0.0482 - acc: 0.9889 - val_loss: 0.0708 - val_acc: 0.9667\n",
      "Epoch 32/120\n",
      "45/45 [==============================] - 0s 4ms/step - loss: 0.0432 - acc: 0.9889 - val_loss: 0.0894 - val_acc: 0.9639\n",
      "Epoch 33/120\n",
      "45/45 [==============================] - 0s 3ms/step - loss: 0.0408 - acc: 0.9923 - val_loss: 0.0653 - val_acc: 0.9833\n",
      "Epoch 34/120\n",
      "45/45 [==============================] - 0s 4ms/step - loss: 0.0401 - acc: 0.9930 - val_loss: 0.0682 - val_acc: 0.9778\n",
      "Epoch 35/120\n",
      "45/45 [==============================] - 0s 4ms/step - loss: 0.0377 - acc: 0.9923 - val_loss: 0.0649 - val_acc: 0.9750\n",
      "Epoch 36/120\n",
      "45/45 [==============================] - 0s 4ms/step - loss: 0.0322 - acc: 0.9930 - val_loss: 0.0661 - val_acc: 0.9750\n",
      "Epoch 37/120\n",
      "45/45 [==============================] - 0s 4ms/step - loss: 0.0316 - acc: 0.9944 - val_loss: 0.0708 - val_acc: 0.9778\n",
      "Epoch 38/120\n",
      "45/45 [==============================] - 0s 5ms/step - loss: 0.0325 - acc: 0.9944 - val_loss: 0.0610 - val_acc: 0.9750\n",
      "Epoch 39/120\n",
      "45/45 [==============================] - 0s 4ms/step - loss: 0.0301 - acc: 0.9944 - val_loss: 0.0666 - val_acc: 0.9833\n",
      "Epoch 40/120\n",
      "45/45 [==============================] - 0s 4ms/step - loss: 0.0281 - acc: 0.9951 - val_loss: 0.0726 - val_acc: 0.9750\n",
      "Epoch 41/120\n",
      "45/45 [==============================] - 0s 4ms/step - loss: 0.0281 - acc: 0.9965 - val_loss: 0.0586 - val_acc: 0.9833\n",
      "Epoch 42/120\n",
      "45/45 [==============================] - 0s 4ms/step - loss: 0.0243 - acc: 0.9958 - val_loss: 0.0685 - val_acc: 0.9750\n",
      "Epoch 43/120\n",
      "45/45 [==============================] - 0s 5ms/step - loss: 0.0262 - acc: 0.9944 - val_loss: 0.0596 - val_acc: 0.9806\n",
      "Epoch 44/120\n",
      "45/45 [==============================] - 0s 3ms/step - loss: 0.0236 - acc: 0.9951 - val_loss: 0.0624 - val_acc: 0.9778\n",
      "Epoch 45/120\n",
      "45/45 [==============================] - 0s 4ms/step - loss: 0.0260 - acc: 0.9937 - val_loss: 0.0530 - val_acc: 0.9806\n",
      "Epoch 46/120\n",
      "45/45 [==============================] - 0s 4ms/step - loss: 0.0224 - acc: 0.9958 - val_loss: 0.0583 - val_acc: 0.9806\n",
      "Epoch 47/120\n",
      "45/45 [==============================] - 0s 4ms/step - loss: 0.0220 - acc: 0.9958 - val_loss: 0.0542 - val_acc: 0.9778\n",
      "Epoch 48/120\n",
      "45/45 [==============================] - 0s 4ms/step - loss: 0.0193 - acc: 0.9986 - val_loss: 0.0534 - val_acc: 0.9833\n",
      "Epoch 49/120\n",
      "45/45 [==============================] - 0s 4ms/step - loss: 0.0172 - acc: 0.9986 - val_loss: 0.0605 - val_acc: 0.9778\n",
      "Epoch 50/120\n",
      "45/45 [==============================] - 0s 4ms/step - loss: 0.0200 - acc: 0.9972 - val_loss: 0.0529 - val_acc: 0.9778\n",
      "Epoch 51/120\n",
      "45/45 [==============================] - 0s 4ms/step - loss: 0.0210 - acc: 0.9965 - val_loss: 0.0665 - val_acc: 0.9778\n",
      "Epoch 52/120\n",
      "45/45 [==============================] - 0s 3ms/step - loss: 0.0171 - acc: 0.9986 - val_loss: 0.0495 - val_acc: 0.9833\n",
      "Epoch 53/120\n",
      "45/45 [==============================] - 0s 4ms/step - loss: 0.0148 - acc: 0.9979 - val_loss: 0.0525 - val_acc: 0.9806\n",
      "Epoch 54/120\n",
      "45/45 [==============================] - 0s 4ms/step - loss: 0.0144 - acc: 0.9986 - val_loss: 0.0564 - val_acc: 0.9778\n",
      "Epoch 55/120\n",
      "45/45 [==============================] - 0s 4ms/step - loss: 0.0146 - acc: 0.9986 - val_loss: 0.0450 - val_acc: 0.9861\n",
      "Epoch 56/120\n",
      "45/45 [==============================] - 0s 4ms/step - loss: 0.0133 - acc: 0.9986 - val_loss: 0.0555 - val_acc: 0.9806\n",
      "Epoch 57/120\n",
      "45/45 [==============================] - 0s 4ms/step - loss: 0.0128 - acc: 0.9993 - val_loss: 0.0538 - val_acc: 0.9778\n",
      "Epoch 58/120\n",
      "45/45 [==============================] - 0s 4ms/step - loss: 0.0116 - acc: 0.9993 - val_loss: 0.0542 - val_acc: 0.9806\n",
      "Epoch 59/120\n",
      "45/45 [==============================] - 0s 4ms/step - loss: 0.0116 - acc: 0.9986 - val_loss: 0.0459 - val_acc: 0.9806\n",
      "Epoch 60/120\n",
      "45/45 [==============================] - 0s 4ms/step - loss: 0.0123 - acc: 0.9972 - val_loss: 0.0484 - val_acc: 0.9833\n",
      "Epoch 61/120\n",
      "45/45 [==============================] - 0s 4ms/step - loss: 0.0109 - acc: 0.9993 - val_loss: 0.0581 - val_acc: 0.9750\n",
      "Epoch 62/120\n",
      "45/45 [==============================] - 0s 4ms/step - loss: 0.0112 - acc: 0.9993 - val_loss: 0.0453 - val_acc: 0.9778\n",
      "Epoch 63/120\n",
      "45/45 [==============================] - 0s 4ms/step - loss: 0.0095 - acc: 0.9993 - val_loss: 0.0517 - val_acc: 0.9778\n",
      "Epoch 64/120\n",
      "45/45 [==============================] - 0s 4ms/step - loss: 0.0091 - acc: 0.9993 - val_loss: 0.0565 - val_acc: 0.9806\n",
      "Epoch 65/120\n",
      "45/45 [==============================] - 0s 4ms/step - loss: 0.0090 - acc: 0.9993 - val_loss: 0.0464 - val_acc: 0.9833\n",
      "Epoch 66/120\n",
      "45/45 [==============================] - 0s 4ms/step - loss: 0.0092 - acc: 0.9993 - val_loss: 0.0516 - val_acc: 0.9778\n",
      "Epoch 67/120\n",
      "45/45 [==============================] - 0s 3ms/step - loss: 0.0083 - acc: 1.0000 - val_loss: 0.0446 - val_acc: 0.9806\n",
      "Epoch 68/120\n",
      "45/45 [==============================] - 0s 4ms/step - loss: 0.0073 - acc: 1.0000 - val_loss: 0.0403 - val_acc: 0.9833\n",
      "Epoch 69/120\n",
      "45/45 [==============================] - 0s 4ms/step - loss: 0.0076 - acc: 0.9993 - val_loss: 0.0415 - val_acc: 0.9806\n",
      "Epoch 70/120\n",
      "45/45 [==============================] - 0s 3ms/step - loss: 0.0066 - acc: 1.0000 - val_loss: 0.0482 - val_acc: 0.9806\n",
      "Epoch 71/120\n",
      "45/45 [==============================] - 0s 4ms/step - loss: 0.0080 - acc: 0.9993 - val_loss: 0.0531 - val_acc: 0.9806\n",
      "Epoch 72/120\n",
      "45/45 [==============================] - 0s 5ms/step - loss: 0.0083 - acc: 0.9993 - val_loss: 0.0419 - val_acc: 0.9861\n",
      "Epoch 73/120\n",
      "45/45 [==============================] - 0s 3ms/step - loss: 0.0073 - acc: 0.9993 - val_loss: 0.0464 - val_acc: 0.9833\n",
      "Epoch 74/120\n",
      "45/45 [==============================] - 0s 4ms/step - loss: 0.0061 - acc: 1.0000 - val_loss: 0.0412 - val_acc: 0.9833\n",
      "Epoch 75/120\n",
      "45/45 [==============================] - 0s 4ms/step - loss: 0.0058 - acc: 1.0000 - val_loss: 0.0415 - val_acc: 0.9806\n",
      "Epoch 76/120\n",
      "45/45 [==============================] - 0s 4ms/step - loss: 0.0062 - acc: 0.9993 - val_loss: 0.0450 - val_acc: 0.9833\n",
      "Epoch 77/120\n",
      "45/45 [==============================] - 0s 4ms/step - loss: 0.0068 - acc: 0.9993 - val_loss: 0.0436 - val_acc: 0.9889\n",
      "Epoch 78/120\n",
      "45/45 [==============================] - 0s 4ms/step - loss: 0.0052 - acc: 1.0000 - val_loss: 0.0424 - val_acc: 0.9833\n",
      "Epoch 79/120\n",
      "45/45 [==============================] - 0s 4ms/step - loss: 0.0045 - acc: 1.0000 - val_loss: 0.0469 - val_acc: 0.9889\n",
      "Epoch 80/120\n",
      "45/45 [==============================] - 0s 3ms/step - loss: 0.0048 - acc: 1.0000 - val_loss: 0.0451 - val_acc: 0.9861\n",
      "Epoch 81/120\n",
      "45/45 [==============================] - 0s 4ms/step - loss: 0.0040 - acc: 1.0000 - val_loss: 0.0372 - val_acc: 0.9861\n",
      "Epoch 82/120\n",
      "45/45 [==============================] - 0s 4ms/step - loss: 0.0043 - acc: 1.0000 - val_loss: 0.0489 - val_acc: 0.9833\n",
      "Epoch 83/120\n",
      "45/45 [==============================] - 0s 4ms/step - loss: 0.0040 - acc: 1.0000 - val_loss: 0.0426 - val_acc: 0.9889\n",
      "Epoch 84/120\n",
      "45/45 [==============================] - 0s 3ms/step - loss: 0.0044 - acc: 1.0000 - val_loss: 0.0432 - val_acc: 0.9889\n",
      "Epoch 85/120\n",
      "45/45 [==============================] - 0s 4ms/step - loss: 0.0037 - acc: 1.0000 - val_loss: 0.0452 - val_acc: 0.9833\n",
      "Epoch 86/120\n",
      "45/45 [==============================] - 0s 4ms/step - loss: 0.0033 - acc: 1.0000 - val_loss: 0.0404 - val_acc: 0.9861\n",
      "Epoch 87/120\n",
      "45/45 [==============================] - 0s 4ms/step - loss: 0.0047 - acc: 0.9993 - val_loss: 0.0456 - val_acc: 0.9889\n",
      "Epoch 88/120\n",
      "45/45 [==============================] - 0s 4ms/step - loss: 0.0043 - acc: 1.0000 - val_loss: 0.0459 - val_acc: 0.9833\n",
      "Epoch 89/120\n",
      "45/45 [==============================] - 0s 4ms/step - loss: 0.0036 - acc: 1.0000 - val_loss: 0.0437 - val_acc: 0.9861\n",
      "Epoch 90/120\n",
      "45/45 [==============================] - 0s 4ms/step - loss: 0.0031 - acc: 1.0000 - val_loss: 0.0435 - val_acc: 0.9861\n",
      "Epoch 91/120\n",
      "45/45 [==============================] - 0s 4ms/step - loss: 0.0031 - acc: 1.0000 - val_loss: 0.0396 - val_acc: 0.9861\n",
      "Epoch 92/120\n",
      "45/45 [==============================] - 0s 4ms/step - loss: 0.0027 - acc: 1.0000 - val_loss: 0.0412 - val_acc: 0.9861\n",
      "Epoch 93/120\n",
      "45/45 [==============================] - 0s 4ms/step - loss: 0.0025 - acc: 1.0000 - val_loss: 0.0392 - val_acc: 0.9861\n",
      "Epoch 94/120\n",
      "45/45 [==============================] - 0s 6ms/step - loss: 0.0027 - acc: 1.0000 - val_loss: 0.0475 - val_acc: 0.9861\n",
      "Epoch 95/120\n",
      "45/45 [==============================] - 0s 6ms/step - loss: 0.0026 - acc: 1.0000 - val_loss: 0.0419 - val_acc: 0.9861\n",
      "Epoch 96/120\n",
      "45/45 [==============================] - 0s 5ms/step - loss: 0.0024 - acc: 1.0000 - val_loss: 0.0397 - val_acc: 0.9889\n",
      "Epoch 97/120\n",
      "45/45 [==============================] - 0s 5ms/step - loss: 0.0023 - acc: 1.0000 - val_loss: 0.0392 - val_acc: 0.9889\n",
      "Epoch 98/120\n",
      "45/45 [==============================] - 0s 5ms/step - loss: 0.0023 - acc: 1.0000 - val_loss: 0.0383 - val_acc: 0.9861\n",
      "Epoch 99/120\n",
      "45/45 [==============================] - 0s 5ms/step - loss: 0.0019 - acc: 1.0000 - val_loss: 0.0357 - val_acc: 0.9861\n",
      "Epoch 100/120\n",
      "45/45 [==============================] - 0s 5ms/step - loss: 0.0019 - acc: 1.0000 - val_loss: 0.0419 - val_acc: 0.9889\n",
      "Epoch 101/120\n",
      "45/45 [==============================] - 0s 5ms/step - loss: 0.0020 - acc: 1.0000 - val_loss: 0.0420 - val_acc: 0.9861\n",
      "Epoch 102/120\n",
      "45/45 [==============================] - 0s 5ms/step - loss: 0.0019 - acc: 1.0000 - val_loss: 0.0469 - val_acc: 0.9861\n",
      "Epoch 103/120\n",
      "45/45 [==============================] - 0s 5ms/step - loss: 0.0019 - acc: 1.0000 - val_loss: 0.0367 - val_acc: 0.9889\n",
      "Epoch 104/120\n",
      "45/45 [==============================] - 0s 5ms/step - loss: 0.0020 - acc: 1.0000 - val_loss: 0.0402 - val_acc: 0.9861\n",
      "Epoch 105/120\n",
      "45/45 [==============================] - 0s 5ms/step - loss: 0.0016 - acc: 1.0000 - val_loss: 0.0371 - val_acc: 0.9861\n",
      "Epoch 106/120\n",
      "45/45 [==============================] - 0s 4ms/step - loss: 0.0017 - acc: 1.0000 - val_loss: 0.0434 - val_acc: 0.9889\n",
      "Epoch 107/120\n",
      "45/45 [==============================] - 0s 6ms/step - loss: 0.0015 - acc: 1.0000 - val_loss: 0.0395 - val_acc: 0.9861\n",
      "Epoch 108/120\n",
      "45/45 [==============================] - 0s 5ms/step - loss: 0.0015 - acc: 1.0000 - val_loss: 0.0385 - val_acc: 0.9861\n",
      "Epoch 109/120\n",
      "45/45 [==============================] - 0s 5ms/step - loss: 0.0013 - acc: 1.0000 - val_loss: 0.0398 - val_acc: 0.9861\n",
      "Epoch 110/120\n",
      "45/45 [==============================] - 0s 5ms/step - loss: 0.0014 - acc: 1.0000 - val_loss: 0.0402 - val_acc: 0.9889\n",
      "Epoch 111/120\n",
      "45/45 [==============================] - 0s 6ms/step - loss: 0.0015 - acc: 1.0000 - val_loss: 0.0485 - val_acc: 0.9861\n",
      "Epoch 112/120\n",
      "45/45 [==============================] - 0s 5ms/step - loss: 0.0015 - acc: 1.0000 - val_loss: 0.0373 - val_acc: 0.9889\n",
      "Epoch 113/120\n",
      "45/45 [==============================] - 0s 4ms/step - loss: 0.0012 - acc: 1.0000 - val_loss: 0.0395 - val_acc: 0.9861\n",
      "Epoch 114/120\n",
      "45/45 [==============================] - 0s 5ms/step - loss: 0.0011 - acc: 1.0000 - val_loss: 0.0414 - val_acc: 0.9889\n",
      "Epoch 115/120\n",
      "45/45 [==============================] - 0s 5ms/step - loss: 0.0011 - acc: 1.0000 - val_loss: 0.0395 - val_acc: 0.9861\n",
      "Epoch 116/120\n",
      "45/45 [==============================] - 0s 5ms/step - loss: 0.0011 - acc: 1.0000 - val_loss: 0.0419 - val_acc: 0.9861\n",
      "Epoch 117/120\n",
      "45/45 [==============================] - 0s 4ms/step - loss: 0.0012 - acc: 1.0000 - val_loss: 0.0493 - val_acc: 0.9861\n",
      "Epoch 118/120\n",
      "45/45 [==============================] - 0s 5ms/step - loss: 0.0010 - acc: 1.0000 - val_loss: 0.0396 - val_acc: 0.9861\n",
      "Epoch 119/120\n",
      "45/45 [==============================] - 0s 4ms/step - loss: 0.0010 - acc: 1.0000 - val_loss: 0.0334 - val_acc: 0.9861\n",
      "Epoch 120/120\n",
      "45/45 [==============================] - 0s 5ms/step - loss: 9.9227e-04 - acc: 1.0000 - val_loss: 0.0373 - val_acc: 0.9861\n"
     ]
    }
   ],
   "source": [
    "epocas = 120\n",
    "lote = 32\n",
    "\n",
    "history = model.fit(x_train, y_train, epochs=epocas, batch_size=lote, validation_data=(x_test, y_test))"
   ]
  },
  {
   "cell_type": "markdown",
   "metadata": {
    "id": "LtRc5CNUdNYY"
   },
   "source": [
    "### Plot history"
   ]
  },
  {
   "cell_type": "code",
   "execution_count": 34,
   "metadata": {
    "colab": {
     "base_uri": "https://localhost:8080/",
     "height": 281
    },
    "id": "q0ADZz-vdTo-",
    "outputId": "b00f1df3-b825-48fc-e70c-ca1ac9c07739"
   },
   "outputs": [
    {
     "data": {
      "image/png": "[encoded data removed]",
      "text/plain": [
       "<Figure size 432x288 with 1 Axes>"
      ]
     },
     "metadata": {
      "needs_background": "light"
     },
     "output_type": "display_data"
    }
   ],
   "source": [
    "import matplotlib.pyplot as plt\n",
    "\n",
    "plt.plot(history.history['acc'])\n",
    "plt.plot(history.history['val_acc'])\n",
    "plt.title(\"History | val_acc: \"+str(history.history['val_acc'][len(history.history['val_acc'])-1]))\n",
    "plt.show()"
   ]
  },
  {
   "cell_type": "markdown",
   "metadata": {
    "id": "h0TBx3GleDIL"
   },
   "source": [
    "### Save the model"
   ]
  },
  {
   "cell_type": "code",
   "execution_count": 35,
   "metadata": {
    "id": "uPzS_SOseHSw"
   },
   "outputs": [],
   "source": [
    "model_name = \"mnist_model.h5\"\n",
    "model.save(\"models/\" + model_name)"
   ]
  },
  {
   "cell_type": "markdown",
   "metadata": {
    "id": "B5rUnwGJxlS9"
   },
   "source": [
    "## Convert model for inference in the microcontroller using EmbedIA"
   ]
  },
  {
   "cell_type": "markdown",
   "metadata": {
    "id": "6qPdjdamllew"
   },
   "source": [
    "### Configuration and execution of the exporter"
   ]
  },
  {
   "cell_type": "code",
   "execution_count": 36,
   "metadata": {
    "colab": {
     "base_uri": "https://localhost:8080/"
    },
    "id": "l-ZMFYFEt2hQ",
    "outputId": "eee3d1f3-5b7f-4b5f-9a13-4a6579c8069b"
   },
   "outputs": [
    {
     "name": "stdout",
     "output_type": "stream",
     "text": [
      "Project C_mnist_fixed16 exported in outputs/\n",
      "\n",
      "number 5 example for test\n"
     ]
    }
   ],
   "source": [
    "from tensorflow.keras.models import load_model\n",
    "from sklearn.datasets import load_digits\n",
    "\n",
    "from embedia.project_options import *\n",
    "from embedia.project_generator import ProjectGenerator\n",
    "\n",
    "OUTPUT_FOLDER = 'outputs/'\n",
    "PROJECT_NAME  = 'C_mnist_fixed16'\n",
    "MODEL_FILE    = 'models/' + model_name\n",
    "\n",
    "model = load_model(MODEL_FILE)\n",
    "\n",
    "model._name = 'MNIST_Digits'\n",
    "\n",
    "digits = load_digits()\n",
    "example_number = 33\n",
    "sample = digits.images[example_number]\n",
    "comment= \"number %d example for test\" % digits.target[example_number]\n",
    "\n",
    "options = ProjectOptions()\n",
    "\n",
    "# options.project_type = ProjectType.ARDUINO\n",
    "options.project_type = ProjectType.C\n",
    "# options.project_type = ProjectType.CODEBLOCK\n",
    "# options.project_type = ProjectType.CPP\n",
    "\n",
    "# options.data_type = ModelDataType.FLOAT\n",
    "# options.data_type = ModelDataType.FIXED32\n",
    "options.data_type = ModelDataType.FIXED16\n",
    "# options.data_type = ModelDataType.FIXED8\n",
    "\n",
    "options.debug_mode = DebugMode.DISCARD\n",
    "# options.debug_mode = DebugMode.DISABLED\n",
    "# options.debug_mode = DebugMode.HEADERS\n",
    "# options.debug_mode = DebugMode.DATA\n",
    "\n",
    "options.example_data = sample\n",
    "options.example_comment = comment\n",
    "\n",
    "options.files = ProjectFiles.ALL\n",
    "# options.files = {ProjectFiles.MAIN}\n",
    "# options.files = {ProjectFiles.MODEL}\n",
    "# options.files = {ProjectFiles.LIBRARY}\n",
    "\n",
    "generator = ProjectGenerator()\n",
    "generator.create_project(OUTPUT_FOLDER, PROJECT_NAME, model, options)\n",
    "\n",
    "print(\"Project\", PROJECT_NAME, \"exported in\", OUTPUT_FOLDER)\n",
    "print(\"\\n\"+comment)"
   ]
  },
  {
   "cell_type": "markdown",
   "metadata": {
    "id": "smDzTdTMl4kH"
   },
   "source": [
    "### Test project generated in c language\n",
    "\n",
    "Note: To run this notebook with Jupyter on Windows, you may need to remove \"./\" from the \"./main\" command."
   ]
  },
  {
   "cell_type": "code",
   "execution_count": 39,
   "metadata": {
    "colab": {
     "base_uri": "https://localhost:8080/"
    },
    "id": "YDWFk1Mit-gE",
    "outputId": "ac15fc28-074f-475c-fde8-e851cc32a6d7"
   },
   "outputs": [
    {
     "name": "stdout",
     "output_type": "stream",
     "text": [
      "Prediction class id: 5\n"
     ]
    }
   ],
   "source": [
    "if options.project_type == ProjectType.C:\n",
    "    !cd outputs/C_mnist_fixed16 && gcc -o main main.c embedia.c mnist_digits_model.c fixed.c -lm && ./main"
   ]
  },
  {
   "cell_type": "markdown",
   "metadata": {
    "id": "mLSr3oIoliLt"
   },
   "source": [
    "### Download generated project"
   ]
  },
  {
   "cell_type": "code",
   "execution_count": 38,
   "metadata": {
    "colab": {
     "base_uri": "https://localhost:8080/",
     "height": 164
    },
    "id": "ULespOjpgrDP",
    "outputId": "080f7818-e5dd-4cb1-af4e-e6a3e9ca5f85"
   },
   "outputs": [
    {
     "name": "stdout",
     "output_type": "stream",
     "text": [
      "  adding: outputs/C_mnist_fixed16/ (stored 0%)\n",
      "  adding: outputs/C_mnist_fixed16/mnist_digits_model.h (deflated 43%)\n",
      "  adding: outputs/C_mnist_fixed16/fixed.h (deflated 73%)\n",
      "  adding: outputs/C_mnist_fixed16/fixed.c (deflated 69%)\n",
      "  adding: outputs/C_mnist_fixed16/embedia.c (deflated 80%)\n",
      "  adding: outputs/C_mnist_fixed16/embedia.h (deflated 80%)\n",
      "  adding: outputs/C_mnist_fixed16/mnist_digits_model.c (deflated 66%)\n",
      "  adding: outputs/C_mnist_fixed16/main.c (deflated 68%)\n"
     ]
    },
    {
     "data": {
      "application/javascript": [
       "\n",
       "    async function download(id, filename, size) {\n",
       "      if (!google.colab.kernel.accessAllowed) {\n",
       "        return;\n",
       "      }\n",
       "      const div = document.createElement('div');\n",
       "      const label = document.createElement('label');\n",
       "      label.textContent = `Downloading \"${filename}\": `;\n",
       "      div.appendChild(label);\n",
       "      const progress = document.createElement('progress');\n",
       "      progress.max = size;\n",
       "      div.appendChild(progress);\n",
       "      document.body.appendChild(div);\n",
       "\n",
       "      const buffers = [];\n",
       "      let downloaded = 0;\n",
       "\n",
       "      const channel = await google.colab.kernel.comms.open(id);\n",
       "      // Send a message to notify the kernel that we're ready.\n",
       "      channel.send({})\n",
       "\n",
       "      for await (const message of channel.messages) {\n",
       "        // Send a message to notify the kernel that we're ready.\n",
       "        channel.send({})\n",
       "        if (message.buffers) {\n",
       "          for (const buffer of message.buffers) {\n",
       "            buffers.push(buffer);\n",
       "            downloaded += buffer.byteLength;\n",
       "            progress.value = downloaded;\n",
       "          }\n",
       "        }\n",
       "      }\n",
       "      const blob = new Blob(buffers, {type: 'application/binary'});\n",
       "      const a = document.createElement('a');\n",
       "      a.href = window.URL.createObjectURL(blob);\n",
       "      a.download = filename;\n",
       "      div.appendChild(a);\n",
       "      a.click();\n",
       "      div.remove();\n",
       "    }\n",
       "  "
      ],
      "text/plain": [
       "<IPython.core.display.Javascript object>"
      ]
     },
     "metadata": {},
     "output_type": "display_data"
    },
    {
     "data": {
      "application/javascript": [
       "download(\"download_1804aae3-61b4-4e24-81c1-26cd4c5d85ae\", \"embedia_project.zip\", 56670)"
      ],
      "text/plain": [
       "<IPython.core.display.Javascript object>"
      ]
     },
     "metadata": {},
     "output_type": "display_data"
    }
   ],
   "source": [
    "from google.colab import files\n",
    "\n",
    "!zip -r embedia_project.zip 'outputs/C_mnist_fixed16'\n",
    "files.download('/content/EmbedIA/embedia_project.zip')"
   ]
  }
 ],
 "metadata": {
  "colab": {
   "collapsed_sections": [],
   "name": "Using EmbedIA.ipynb",
   "provenance": []
  },
  "kernelspec": {
   "display_name": "Python 3",
   "language": "python",
   "name": "python3"
  },
  "language_info": {
   "codemirror_mode": {
    "name": "ipython",
    "version": 3
   },
   "file_extension": ".py",
   "mimetype": "text/x-python",
   "name": "python",
   "nbconvert_exporter": "python",
   "pygments_lexer": "ipython3",
   "version": "3.7.6"
  }
 },
 "nbformat": 4,
 "nbformat_minor": 1
}
